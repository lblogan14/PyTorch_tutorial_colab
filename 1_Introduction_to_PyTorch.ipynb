{
  "nbformat": 4,
  "nbformat_minor": 0,
  "metadata": {
    "colab": {
      "name": "1. Introduction_to_PyTorch.ipynb",
      "provenance": [],
      "authorship_tag": "ABX9TyM5cfj/YtQuGPv6HCB9YcAK",
      "include_colab_link": true
    },
    "kernelspec": {
      "name": "python3",
      "display_name": "Python 3"
    },
    "language_info": {
      "name": "python"
    },
    "widgets": {
      "application/vnd.jupyter.widget-state+json": {
        "5843274779bf4c05835a89b389ebc676": {
          "model_module": "@jupyter-widgets/controls",
          "model_name": "HBoxModel",
          "model_module_version": "1.5.0",
          "state": {
            "_view_name": "HBoxView",
            "_dom_classes": [],
            "_model_name": "HBoxModel",
            "_view_module": "@jupyter-widgets/controls",
            "_model_module_version": "1.5.0",
            "_view_count": null,
            "_view_module_version": "1.5.0",
            "box_style": "",
            "layout": "IPY_MODEL_43c56e3e7ce54fd6b584cebc3e445312",
            "_model_module": "@jupyter-widgets/controls",
            "children": [
              "IPY_MODEL_d99a199d51684f1fafa8f06a77959db9",
              "IPY_MODEL_becd1eda0df94e509c7a67e78891f0f5",
              "IPY_MODEL_3bffaac960b6454fae3bc0af8abf8fbe"
            ]
          }
        },
        "43c56e3e7ce54fd6b584cebc3e445312": {
          "model_module": "@jupyter-widgets/base",
          "model_name": "LayoutModel",
          "model_module_version": "1.2.0",
          "state": {
            "_view_name": "LayoutView",
            "grid_template_rows": null,
            "right": null,
            "justify_content": null,
            "_view_module": "@jupyter-widgets/base",
            "overflow": null,
            "_model_module_version": "1.2.0",
            "_view_count": null,
            "flex_flow": null,
            "width": null,
            "min_width": null,
            "border": null,
            "align_items": null,
            "bottom": null,
            "_model_module": "@jupyter-widgets/base",
            "top": null,
            "grid_column": null,
            "overflow_y": null,
            "overflow_x": null,
            "grid_auto_flow": null,
            "grid_area": null,
            "grid_template_columns": null,
            "flex": null,
            "_model_name": "LayoutModel",
            "justify_items": null,
            "grid_row": null,
            "max_height": null,
            "align_content": null,
            "visibility": null,
            "align_self": null,
            "height": null,
            "min_height": null,
            "padding": null,
            "grid_auto_rows": null,
            "grid_gap": null,
            "max_width": null,
            "order": null,
            "_view_module_version": "1.2.0",
            "grid_template_areas": null,
            "object_position": null,
            "object_fit": null,
            "grid_auto_columns": null,
            "margin": null,
            "display": null,
            "left": null
          }
        },
        "d99a199d51684f1fafa8f06a77959db9": {
          "model_module": "@jupyter-widgets/controls",
          "model_name": "HTMLModel",
          "model_module_version": "1.5.0",
          "state": {
            "_view_name": "HTMLView",
            "style": "IPY_MODEL_22f48d3f2bc14afaa961031283c4159d",
            "_dom_classes": [],
            "description": "",
            "_model_name": "HTMLModel",
            "placeholder": "​",
            "_view_module": "@jupyter-widgets/controls",
            "_model_module_version": "1.5.0",
            "value": "",
            "_view_count": null,
            "_view_module_version": "1.5.0",
            "description_tooltip": null,
            "_model_module": "@jupyter-widgets/controls",
            "layout": "IPY_MODEL_d29ba40d6e1d4320b7129f1f10ec770a"
          }
        },
        "becd1eda0df94e509c7a67e78891f0f5": {
          "model_module": "@jupyter-widgets/controls",
          "model_name": "FloatProgressModel",
          "model_module_version": "1.5.0",
          "state": {
            "_view_name": "ProgressView",
            "style": "IPY_MODEL_2e88113d92e849b0878167946b87b4e6",
            "_dom_classes": [],
            "description": "",
            "_model_name": "FloatProgressModel",
            "bar_style": "success",
            "max": 170498071,
            "_view_module": "@jupyter-widgets/controls",
            "_model_module_version": "1.5.0",
            "value": 170498071,
            "_view_count": null,
            "_view_module_version": "1.5.0",
            "orientation": "horizontal",
            "min": 0,
            "description_tooltip": null,
            "_model_module": "@jupyter-widgets/controls",
            "layout": "IPY_MODEL_739c9fbce36342378355285dad9766fb"
          }
        },
        "3bffaac960b6454fae3bc0af8abf8fbe": {
          "model_module": "@jupyter-widgets/controls",
          "model_name": "HTMLModel",
          "model_module_version": "1.5.0",
          "state": {
            "_view_name": "HTMLView",
            "style": "IPY_MODEL_3ecec36098c740fb8c8699bdee860092",
            "_dom_classes": [],
            "description": "",
            "_model_name": "HTMLModel",
            "placeholder": "​",
            "_view_module": "@jupyter-widgets/controls",
            "_model_module_version": "1.5.0",
            "value": " 170499072/? [00:11&lt;00:00, 17362422.77it/s]",
            "_view_count": null,
            "_view_module_version": "1.5.0",
            "description_tooltip": null,
            "_model_module": "@jupyter-widgets/controls",
            "layout": "IPY_MODEL_4e7232b3b159420bbb55ed0a7e1cfffd"
          }
        },
        "22f48d3f2bc14afaa961031283c4159d": {
          "model_module": "@jupyter-widgets/controls",
          "model_name": "DescriptionStyleModel",
          "model_module_version": "1.5.0",
          "state": {
            "_view_name": "StyleView",
            "_model_name": "DescriptionStyleModel",
            "description_width": "",
            "_view_module": "@jupyter-widgets/base",
            "_model_module_version": "1.5.0",
            "_view_count": null,
            "_view_module_version": "1.2.0",
            "_model_module": "@jupyter-widgets/controls"
          }
        },
        "d29ba40d6e1d4320b7129f1f10ec770a": {
          "model_module": "@jupyter-widgets/base",
          "model_name": "LayoutModel",
          "model_module_version": "1.2.0",
          "state": {
            "_view_name": "LayoutView",
            "grid_template_rows": null,
            "right": null,
            "justify_content": null,
            "_view_module": "@jupyter-widgets/base",
            "overflow": null,
            "_model_module_version": "1.2.0",
            "_view_count": null,
            "flex_flow": null,
            "width": null,
            "min_width": null,
            "border": null,
            "align_items": null,
            "bottom": null,
            "_model_module": "@jupyter-widgets/base",
            "top": null,
            "grid_column": null,
            "overflow_y": null,
            "overflow_x": null,
            "grid_auto_flow": null,
            "grid_area": null,
            "grid_template_columns": null,
            "flex": null,
            "_model_name": "LayoutModel",
            "justify_items": null,
            "grid_row": null,
            "max_height": null,
            "align_content": null,
            "visibility": null,
            "align_self": null,
            "height": null,
            "min_height": null,
            "padding": null,
            "grid_auto_rows": null,
            "grid_gap": null,
            "max_width": null,
            "order": null,
            "_view_module_version": "1.2.0",
            "grid_template_areas": null,
            "object_position": null,
            "object_fit": null,
            "grid_auto_columns": null,
            "margin": null,
            "display": null,
            "left": null
          }
        },
        "2e88113d92e849b0878167946b87b4e6": {
          "model_module": "@jupyter-widgets/controls",
          "model_name": "ProgressStyleModel",
          "model_module_version": "1.5.0",
          "state": {
            "_view_name": "StyleView",
            "_model_name": "ProgressStyleModel",
            "description_width": "",
            "_view_module": "@jupyter-widgets/base",
            "_model_module_version": "1.5.0",
            "_view_count": null,
            "_view_module_version": "1.2.0",
            "bar_color": null,
            "_model_module": "@jupyter-widgets/controls"
          }
        },
        "739c9fbce36342378355285dad9766fb": {
          "model_module": "@jupyter-widgets/base",
          "model_name": "LayoutModel",
          "model_module_version": "1.2.0",
          "state": {
            "_view_name": "LayoutView",
            "grid_template_rows": null,
            "right": null,
            "justify_content": null,
            "_view_module": "@jupyter-widgets/base",
            "overflow": null,
            "_model_module_version": "1.2.0",
            "_view_count": null,
            "flex_flow": null,
            "width": null,
            "min_width": null,
            "border": null,
            "align_items": null,
            "bottom": null,
            "_model_module": "@jupyter-widgets/base",
            "top": null,
            "grid_column": null,
            "overflow_y": null,
            "overflow_x": null,
            "grid_auto_flow": null,
            "grid_area": null,
            "grid_template_columns": null,
            "flex": null,
            "_model_name": "LayoutModel",
            "justify_items": null,
            "grid_row": null,
            "max_height": null,
            "align_content": null,
            "visibility": null,
            "align_self": null,
            "height": null,
            "min_height": null,
            "padding": null,
            "grid_auto_rows": null,
            "grid_gap": null,
            "max_width": null,
            "order": null,
            "_view_module_version": "1.2.0",
            "grid_template_areas": null,
            "object_position": null,
            "object_fit": null,
            "grid_auto_columns": null,
            "margin": null,
            "display": null,
            "left": null
          }
        },
        "3ecec36098c740fb8c8699bdee860092": {
          "model_module": "@jupyter-widgets/controls",
          "model_name": "DescriptionStyleModel",
          "model_module_version": "1.5.0",
          "state": {
            "_view_name": "StyleView",
            "_model_name": "DescriptionStyleModel",
            "description_width": "",
            "_view_module": "@jupyter-widgets/base",
            "_model_module_version": "1.5.0",
            "_view_count": null,
            "_view_module_version": "1.2.0",
            "_model_module": "@jupyter-widgets/controls"
          }
        },
        "4e7232b3b159420bbb55ed0a7e1cfffd": {
          "model_module": "@jupyter-widgets/base",
          "model_name": "LayoutModel",
          "model_module_version": "1.2.0",
          "state": {
            "_view_name": "LayoutView",
            "grid_template_rows": null,
            "right": null,
            "justify_content": null,
            "_view_module": "@jupyter-widgets/base",
            "overflow": null,
            "_model_module_version": "1.2.0",
            "_view_count": null,
            "flex_flow": null,
            "width": null,
            "min_width": null,
            "border": null,
            "align_items": null,
            "bottom": null,
            "_model_module": "@jupyter-widgets/base",
            "top": null,
            "grid_column": null,
            "overflow_y": null,
            "overflow_x": null,
            "grid_auto_flow": null,
            "grid_area": null,
            "grid_template_columns": null,
            "flex": null,
            "_model_name": "LayoutModel",
            "justify_items": null,
            "grid_row": null,
            "max_height": null,
            "align_content": null,
            "visibility": null,
            "align_self": null,
            "height": null,
            "min_height": null,
            "padding": null,
            "grid_auto_rows": null,
            "grid_gap": null,
            "max_width": null,
            "order": null,
            "_view_module_version": "1.2.0",
            "grid_template_areas": null,
            "object_position": null,
            "object_fit": null,
            "grid_auto_columns": null,
            "margin": null,
            "display": null,
            "left": null
          }
        }
      }
    }
  },
  "cells": [
    {
      "cell_type": "markdown",
      "metadata": {
        "id": "view-in-github",
        "colab_type": "text"
      },
      "source": [
        "<a href=\"https://colab.research.google.com/github/lblogan14/PyTorch_tutorial_colab/blob/main/1_Introduction_to_PyTorch.ipynb\" target=\"_parent\"><img src=\"https://colab.research.google.com/assets/colab-badge.svg\" alt=\"Open In Colab\"/></a>"
      ]
    },
    {
      "cell_type": "markdown",
      "source": [
        "#PyTorch Tensors"
      ],
      "metadata": {
        "id": "QS5DrM1RW-SN"
      }
    },
    {
      "cell_type": "code",
      "execution_count": 1,
      "metadata": {
        "id": "uwAs8EfpWb9x"
      },
      "outputs": [],
      "source": [
        "import torch"
      ]
    },
    {
      "cell_type": "markdown",
      "source": [
        "To create tensors,"
      ],
      "metadata": {
        "id": "GYeRQNSdXC6j"
      }
    },
    {
      "cell_type": "code",
      "source": [
        "z = torch.zeros(5, 3)\n",
        "print(z)\n",
        "print(z.dtype)"
      ],
      "metadata": {
        "id": "qe_hjcKGXCT5",
        "colab": {
          "base_uri": "https://localhost:8080/"
        },
        "outputId": "7f2558ef-d791-45fb-8125-b7a51babf9c8"
      },
      "execution_count": 2,
      "outputs": [
        {
          "output_type": "stream",
          "name": "stdout",
          "text": [
            "tensor([[0., 0., 0.],\n",
            "        [0., 0., 0.],\n",
            "        [0., 0., 0.],\n",
            "        [0., 0., 0.],\n",
            "        [0., 0., 0.]])\n",
            "torch.float32\n"
          ]
        }
      ]
    },
    {
      "cell_type": "markdown",
      "source": [
        "Above, we created a 5x3 matrix filled with zeros and queried its datatype to find out that the zeros are 32-bit floating point numbers, which is the default PyTorch.\n",
        "\n",
        "To create integers,"
      ],
      "metadata": {
        "id": "lR_-gBRTXPSe"
      }
    },
    {
      "cell_type": "code",
      "source": [
        "i = torch.ones((5, 3), dtype=torch.int16)\n",
        "print(i)"
      ],
      "metadata": {
        "id": "123xhFgHXNqH",
        "colab": {
          "base_uri": "https://localhost:8080/"
        },
        "outputId": "eeac6361-bb09-4136-8314-b77708c2bd5b"
      },
      "execution_count": 3,
      "outputs": [
        {
          "output_type": "stream",
          "name": "stdout",
          "text": [
            "tensor([[1, 1, 1],\n",
            "        [1, 1, 1],\n",
            "        [1, 1, 1],\n",
            "        [1, 1, 1],\n",
            "        [1, 1, 1]], dtype=torch.int16)\n"
          ]
        }
      ]
    },
    {
      "cell_type": "markdown",
      "source": [
        "It is common to intialize learning weights randomly, often with a specific seed for the pseudorandom number generator (PRNG) for reproducibility of results:"
      ],
      "metadata": {
        "id": "O3p0HLQ8XrXU"
      }
    },
    {
      "cell_type": "code",
      "source": [
        "torch.manual_seed(1)\n",
        "\n",
        "r1 = torch.rand(2,2)\n",
        "print('A random tensor:')\n",
        "print(r1)\n",
        "\n",
        "r2 = torch.rand(2,2)\n",
        "print('\\nA different random tensor:')\n",
        "print(r2) # new values\n",
        "\n",
        "torch.manual_seed(1)\n",
        "r3 = torch.rand(2,2)\n",
        "print('\\nShould match r1:')\n",
        "print(r3) # repeats values of r1 because of re-seed"
      ],
      "metadata": {
        "id": "HUHEVw4BXnJK",
        "colab": {
          "base_uri": "https://localhost:8080/"
        },
        "outputId": "e03f8fba-1277-4bad-e1c0-fa11ddd24023"
      },
      "execution_count": 4,
      "outputs": [
        {
          "output_type": "stream",
          "name": "stdout",
          "text": [
            "A random tensor:\n",
            "tensor([[0.7576, 0.2793],\n",
            "        [0.4031, 0.7347]])\n",
            "\n",
            "A different random tensor:\n",
            "tensor([[0.0293, 0.7999],\n",
            "        [0.3971, 0.7544]])\n",
            "\n",
            "Should match r1:\n",
            "tensor([[0.7576, 0.2793],\n",
            "        [0.4031, 0.7347]])\n"
          ]
        }
      ]
    },
    {
      "cell_type": "markdown",
      "source": [
        "PyTorch tensors perform arithmetic operations intuitively."
      ],
      "metadata": {
        "id": "Q9aUM2oEea30"
      }
    },
    {
      "cell_type": "code",
      "source": [
        "ones = torch.ones(2,3)\n",
        "print(ones)"
      ],
      "metadata": {
        "id": "S9dZl5ZncsjN",
        "colab": {
          "base_uri": "https://localhost:8080/"
        },
        "outputId": "a3aed7c1-e80a-4832-e9d9-0caad6dcb9ad"
      },
      "execution_count": 5,
      "outputs": [
        {
          "output_type": "stream",
          "name": "stdout",
          "text": [
            "tensor([[1., 1., 1.],\n",
            "        [1., 1., 1.]])\n"
          ]
        }
      ]
    },
    {
      "cell_type": "code",
      "source": [
        "twos = torch.ones(2,3) * 2 # every element is multiplied by 2\n",
        "print(twos)"
      ],
      "metadata": {
        "id": "0ObGLgQ_fCQw",
        "colab": {
          "base_uri": "https://localhost:8080/"
        },
        "outputId": "381efd0a-1e34-4f45-d20d-a86fdc23938d"
      },
      "execution_count": 6,
      "outputs": [
        {
          "output_type": "stream",
          "name": "stdout",
          "text": [
            "tensor([[2., 2., 2.],\n",
            "        [2., 2., 2.]])\n"
          ]
        }
      ]
    },
    {
      "cell_type": "code",
      "source": [
        "threes = ones + twos # addition allowed because shapes are similar\n",
        "print(threes) # tensors are added element-wise\n",
        "print(threes.shape) # this has the same dimensions as input tensors"
      ],
      "metadata": {
        "id": "P3l8x2iXfGyB",
        "colab": {
          "base_uri": "https://localhost:8080/"
        },
        "outputId": "9b40af5d-ed7e-426b-e259-de5f88716bdc"
      },
      "execution_count": 7,
      "outputs": [
        {
          "output_type": "stream",
          "name": "stdout",
          "text": [
            "tensor([[3., 3., 3.],\n",
            "        [3., 3., 3.]])\n",
            "torch.Size([2, 3])\n"
          ]
        }
      ]
    },
    {
      "cell_type": "code",
      "source": [
        "r1 = torch.rand(2,3)\n",
        "r2 = torch.rand(3,2)\n",
        "r3 = r1 + r2 # shapes are different"
      ],
      "metadata": {
        "id": "GLkU2mgkfQQ8",
        "colab": {
          "base_uri": "https://localhost:8080/",
          "height": 201
        },
        "outputId": "cdaa4ce6-63ea-4f1c-d845-23dc2e257a42"
      },
      "execution_count": 8,
      "outputs": [
        {
          "output_type": "error",
          "ename": "RuntimeError",
          "evalue": "ignored",
          "traceback": [
            "\u001b[0;31m---------------------------------------------------------------------------\u001b[0m",
            "\u001b[0;31mRuntimeError\u001b[0m                              Traceback (most recent call last)",
            "\u001b[0;32m<ipython-input-8-cec25be9d704>\u001b[0m in \u001b[0;36m<module>\u001b[0;34m()\u001b[0m\n\u001b[1;32m      1\u001b[0m \u001b[0mr1\u001b[0m \u001b[0;34m=\u001b[0m \u001b[0mtorch\u001b[0m\u001b[0;34m.\u001b[0m\u001b[0mrand\u001b[0m\u001b[0;34m(\u001b[0m\u001b[0;36m2\u001b[0m\u001b[0;34m,\u001b[0m\u001b[0;36m3\u001b[0m\u001b[0;34m)\u001b[0m\u001b[0;34m\u001b[0m\u001b[0;34m\u001b[0m\u001b[0m\n\u001b[1;32m      2\u001b[0m \u001b[0mr2\u001b[0m \u001b[0;34m=\u001b[0m \u001b[0mtorch\u001b[0m\u001b[0;34m.\u001b[0m\u001b[0mrand\u001b[0m\u001b[0;34m(\u001b[0m\u001b[0;36m3\u001b[0m\u001b[0;34m,\u001b[0m\u001b[0;36m2\u001b[0m\u001b[0;34m)\u001b[0m\u001b[0;34m\u001b[0m\u001b[0;34m\u001b[0m\u001b[0m\n\u001b[0;32m----> 3\u001b[0;31m \u001b[0mr3\u001b[0m \u001b[0;34m=\u001b[0m \u001b[0mr1\u001b[0m \u001b[0;34m+\u001b[0m \u001b[0mr2\u001b[0m \u001b[0;31m# shapes are different\u001b[0m\u001b[0;34m\u001b[0m\u001b[0;34m\u001b[0m\u001b[0m\n\u001b[0m",
            "\u001b[0;31mRuntimeError\u001b[0m: The size of tensor a (3) must match the size of tensor b (2) at non-singleton dimension 1"
          ]
        }
      ]
    },
    {
      "cell_type": "markdown",
      "source": [
        "Samples of the mathematical operations available:"
      ],
      "metadata": {
        "id": "ytDtl1cQfafN"
      }
    },
    {
      "cell_type": "code",
      "source": [
        "r = torch.rand(2,2) - 0.5 * 2\n",
        "print('A random matrix, r:')\n",
        "print(r)"
      ],
      "metadata": {
        "id": "V8rr3cd8fXc-",
        "colab": {
          "base_uri": "https://localhost:8080/"
        },
        "outputId": "c8a5d2f2-d92c-47b0-a4bc-31b1e4cd8d85"
      },
      "execution_count": 9,
      "outputs": [
        {
          "output_type": "stream",
          "name": "stdout",
          "text": [
            "A random matrix, r:\n",
            "tensor([[-0.4275, -0.5020],\n",
            "        [-0.0629, -0.3444]])\n"
          ]
        }
      ]
    },
    {
      "cell_type": "code",
      "source": [
        "print('Absolute value of r:')\n",
        "print(torch.abs(r))"
      ],
      "metadata": {
        "id": "VefABMp1fwxj",
        "colab": {
          "base_uri": "https://localhost:8080/"
        },
        "outputId": "cad4a260-0de6-4f2c-a417-cf5dc5e1eae3"
      },
      "execution_count": 10,
      "outputs": [
        {
          "output_type": "stream",
          "name": "stdout",
          "text": [
            "Absolute value of r:\n",
            "tensor([[0.4275, 0.5020],\n",
            "        [0.0629, 0.3444]])\n"
          ]
        }
      ]
    },
    {
      "cell_type": "code",
      "source": [
        "print('Inverse sine of r:')\n",
        "print(torch.asin(r))"
      ],
      "metadata": {
        "id": "tjQFPI2Wf5FV",
        "colab": {
          "base_uri": "https://localhost:8080/"
        },
        "outputId": "ab5796ac-ba1a-41c0-e2f6-df5e3430b0bc"
      },
      "execution_count": 11,
      "outputs": [
        {
          "output_type": "stream",
          "name": "stdout",
          "text": [
            "Inverse sine of r:\n",
            "tensor([[-0.4418, -0.5259],\n",
            "        [-0.0630, -0.3516]])\n"
          ]
        }
      ]
    },
    {
      "cell_type": "code",
      "source": [
        "print('Determinant of r:')\n",
        "print(torch.det(r))\n",
        "print('\\nSingluar value decomposition of r:')\n",
        "print(torch.svd(r))"
      ],
      "metadata": {
        "id": "mSTeEpuEf8Ay",
        "colab": {
          "base_uri": "https://localhost:8080/"
        },
        "outputId": "36ab8bb5-a96e-4b3d-cf7a-28cd2ad5afdc"
      },
      "execution_count": 12,
      "outputs": [
        {
          "output_type": "stream",
          "name": "stdout",
          "text": [
            "Determinant of r:\n",
            "tensor(0.1157)\n",
            "\n",
            "Singluar value decomposition of r:\n",
            "torch.return_types.svd(\n",
            "U=tensor([[-0.8988, -0.4384],\n",
            "        [-0.4384,  0.8988]]),\n",
            "S=tensor([0.7295, 0.1585]),\n",
            "V=tensor([[ 0.5645,  0.8254],\n",
            "        [ 0.8254, -0.5645]]))\n"
          ]
        }
      ]
    },
    {
      "cell_type": "code",
      "source": [
        "print('Standard deviation(1st) and average(2nd) of r:')\n",
        "print(torch.std_mean(r))\n",
        "print('\\nMaximum value of r:')\n",
        "print(torch.max(r))"
      ],
      "metadata": {
        "id": "u6dnYnyUgDwI",
        "colab": {
          "base_uri": "https://localhost:8080/"
        },
        "outputId": "67b0a7ee-a6cf-4095-97bd-c5927187219b"
      },
      "execution_count": 13,
      "outputs": [
        {
          "output_type": "stream",
          "name": "stdout",
          "text": [
            "Standard deviation(1st) and average(2nd) of r:\n",
            "(tensor(0.1920), tensor(-0.3342))\n",
            "\n",
            "Maximum value of r:\n",
            "tensor(-0.0629)\n"
          ]
        }
      ]
    },
    {
      "cell_type": "code",
      "source": [
        "print('Size of r:')\n",
        "print(r.size())\n",
        "print('\\nSize of r.view(-1):')\n",
        "print(r.view(-1).size())"
      ],
      "metadata": {
        "id": "B2cNtE7k5Btx",
        "colab": {
          "base_uri": "https://localhost:8080/"
        },
        "outputId": "a3ccacf5-7ef1-425b-970e-bd92e1049412"
      },
      "execution_count": 14,
      "outputs": [
        {
          "output_type": "stream",
          "name": "stdout",
          "text": [
            "Size of r:\n",
            "torch.Size([2, 2])\n",
            "\n",
            "Size of r.view(-1):\n",
            "torch.Size([4])\n"
          ]
        }
      ]
    },
    {
      "cell_type": "markdown",
      "source": [
        "#PyTorch Models"
      ],
      "metadata": {
        "id": "kjkc79_kgT4I"
      }
    },
    {
      "cell_type": "code",
      "source": [
        "import torch                        # for all things PyTorch\n",
        "import torch.nn as nn              # for torch.nn.Module, the parent object for PyTorch models\n",
        "import torch.nn.functional as F     # for the activation function"
      ],
      "metadata": {
        "id": "nLRDhaqRgNu1"
      },
      "execution_count": 15,
      "outputs": []
    },
    {
      "cell_type": "markdown",
      "source": [
        "Express the LeNet-5 model in code:"
      ],
      "metadata": {
        "id": "L4HMaN3dgsbf"
      }
    },
    {
      "cell_type": "code",
      "source": [
        "class LeNet(nn.Module):\n",
        "    def __init__(self):\n",
        "        super(LeNet, self).__init__()\n",
        "        # 1 input image channel (black & white), 6 output channels, 3x3 square convolution kernel\n",
        "        self.conv1 = nn.Conv2d(1, 6, 3)\n",
        "        self.conv2 = nn.Conv2d(6, 16, 3)\n",
        "        # an affine operation: y = Wx + b\n",
        "        self.fc1 = nn.Linear(16 * 6*6, 120) # 6*6 from image dimension\n",
        "        self.fc2 = nn.Linear(120, 84)\n",
        "        self.fc3 = nn.Linear(84, 10)\n",
        "\n",
        "    def forward(self, x):\n",
        "        # Max pooling over a (2,2) window\n",
        "        x = F.max_pool2d(F.relu(self.conv1(x)), (2,2))\n",
        "        # If the size is a square you can only specify a single number\n",
        "        x = F.max_pool2d(F.relu(self.conv2(x)), 2)\n",
        "        x = x.view(-1, self.num_flat_features(x))\n",
        "        x = F.relu(self.fc1(x))\n",
        "        x = F.relu(self.fc2(x))\n",
        "        x = self.fc3(x)\n",
        "        return x\n",
        "\n",
        "    def num_flat_features(self, x):\n",
        "        size = x.size()[1:] # all dimensions except the batch dimension\n",
        "        num_features = 1\n",
        "        for s in size:\n",
        "            num_features *= s\n",
        "        return num_features"
      ],
      "metadata": {
        "id": "lhRy7oHGgpul"
      },
      "execution_count": 16,
      "outputs": []
    },
    {
      "cell_type": "markdown",
      "source": [
        "This demonstrates the structure of a typical PyTorch model:\n",
        "* It inherits from `torch.nn.Module` - modules may be nested - in fact, even the `Conv2d` and `Linear` layer classes inherit from `torch.nn.Module`.\n",
        "* A model will have an `__init__()` function, where it instantiates its layers, and loads any data artifacts it may need.\n",
        "* A model will have a `forward()` function. This is where the actual computation happens.\n",
        "* We can build out our model class like any other Python class."
      ],
      "metadata": {
        "id": "EhjcDitZis3E"
      }
    },
    {
      "cell_type": "markdown",
      "source": [
        "Instantiate this object and run a sample input through it:"
      ],
      "metadata": {
        "id": "k6cPj_-focMs"
      }
    },
    {
      "cell_type": "code",
      "source": [
        "net = LeNet()\n",
        "print(net) # what does the object tell us about itself?"
      ],
      "metadata": {
        "id": "Hs76s7XpiseG",
        "colab": {
          "base_uri": "https://localhost:8080/"
        },
        "outputId": "677dc57e-4222-4963-de2b-7e73fec16876"
      },
      "execution_count": 17,
      "outputs": [
        {
          "output_type": "stream",
          "name": "stdout",
          "text": [
            "LeNet(\n",
            "  (conv1): Conv2d(1, 6, kernel_size=(3, 3), stride=(1, 1))\n",
            "  (conv2): Conv2d(6, 16, kernel_size=(3, 3), stride=(1, 1))\n",
            "  (fc1): Linear(in_features=576, out_features=120, bias=True)\n",
            "  (fc2): Linear(in_features=120, out_features=84, bias=True)\n",
            "  (fc3): Linear(in_features=84, out_features=10, bias=True)\n",
            ")\n"
          ]
        }
      ]
    },
    {
      "cell_type": "code",
      "source": [
        "input = torch.rand(1, 1, 32, 32) # stand-in for a 32x32 black&white image\n",
        "print('Image batch shape:')\n",
        "print(input.shape)"
      ],
      "metadata": {
        "id": "Imkl6iG4okqK",
        "colab": {
          "base_uri": "https://localhost:8080/"
        },
        "outputId": "982dba2c-82de-409b-b65f-58b4b24bdca8"
      },
      "execution_count": 18,
      "outputs": [
        {
          "output_type": "stream",
          "name": "stdout",
          "text": [
            "Image batch shape:\n",
            "torch.Size([1, 1, 32, 32])\n"
          ]
        }
      ]
    },
    {
      "cell_type": "code",
      "source": [
        "output = net(input) # we don not call forward() directly\n",
        "print('Raw output:')\n",
        "print(output)\n",
        "print(output.shape)"
      ],
      "metadata": {
        "id": "WLlZNiXBowsr",
        "colab": {
          "base_uri": "https://localhost:8080/"
        },
        "outputId": "c8c2d80a-58fd-40bc-bf47-ce4984f630f4"
      },
      "execution_count": 19,
      "outputs": [
        {
          "output_type": "stream",
          "name": "stdout",
          "text": [
            "Raw output:\n",
            "tensor([[ 0.0360, -0.1022, -0.0592, -0.0816, -0.1060, -0.1382, -0.0069, -0.1089,\n",
            "         -0.1050, -0.0421]], grad_fn=<AddmmBackward0>)\n",
            "torch.Size([1, 10])\n"
          ]
        }
      ]
    },
    {
      "cell_type": "markdown",
      "source": [
        "PyTorch models assume they are working on *batches* of data - for example, a batch of 16 of our image tiles would have the shape `(16, 1, 32, 32)`.\n",
        "\n",
        "We ask the model for an inference by calling it like a function: `net(input)`. The output of this call represents the model's confidence that the input represents a particular digit. The shape of the output also has a batch dimension."
      ],
      "metadata": {
        "id": "k0j5KfnOpDMf"
      }
    },
    {
      "cell_type": "markdown",
      "source": [
        "#Datasets and Dataloaders"
      ],
      "metadata": {
        "id": "V40-mr2ApgG_"
      }
    },
    {
      "cell_type": "code",
      "source": [
        "import torch\n",
        "import torchvision\n",
        "import torchvision.transforms as transforms"
      ],
      "metadata": {
        "id": "QVpGsjtTo4cG"
      },
      "execution_count": 20,
      "outputs": []
    },
    {
      "cell_type": "markdown",
      "source": [
        "The first thing we need to do is transform our incoming images into a PyTorch tensor."
      ],
      "metadata": {
        "id": "05MLBLKNp5Mr"
      }
    },
    {
      "cell_type": "code",
      "source": [
        "transform = transforms.Compose(\n",
        "    [transforms.ToTensor(),\n",
        "     transforms.Normalize((0.5, 0.5, 0.5), (0.5, 0.5, 0.5))]\n",
        ")\n",
        "\n",
        "'''\n",
        "For transofrms.Normalize, the arguments passed need to be \n",
        "calculated for mean and std in each channel. Then we can\n",
        "use those values as arguments in Normalize to make sure that\n",
        "the values after this transformation have mean of zero and std of 0.5\n",
        "'''"
      ],
      "metadata": {
        "id": "_vCnRF9Sp4gx",
        "colab": {
          "base_uri": "https://localhost:8080/",
          "height": 53
        },
        "outputId": "bcf44251-f122-4a24-e978-fb9b40da7716"
      },
      "execution_count": 21,
      "outputs": [
        {
          "output_type": "execute_result",
          "data": {
            "application/vnd.google.colaboratory.intrinsic+json": {
              "type": "string"
            },
            "text/plain": [
              "'\\nFor transofrms.Normalize, the arguments passed need to be \\ncalculated for mean and std in each channel. Then we can\\nuse those values as arguments in Normalize to make sure that\\nthe values after this transformation have mean of zero and std of 0.5\\n'"
            ]
          },
          "metadata": {},
          "execution_count": 21
        }
      ]
    },
    {
      "cell_type": "markdown",
      "source": [
        "There are two specified transofrmations for our input:\n",
        "* `transforms.ToTensor()` converts images loaded by Pillow into  PyTorch tensors.\n",
        "* `transforms.Normalize()` adjusts the values of the tensor so that their average is zero and their standard deviation is 0.5."
      ],
      "metadata": {
        "id": "6wUxF02JqMCa"
      }
    },
    {
      "cell_type": "markdown",
      "source": [
        "Next, we will create an instance of the CIFAR10 dataset. This is a set of 32x32 color image tiles representing 10 classes of objects:"
      ],
      "metadata": {
        "id": "jykN3pYNq2TS"
      }
    },
    {
      "cell_type": "code",
      "source": [
        "trainset = torchvision.datasets.CIFAR10(\n",
        "    root='./data',\n",
        "    train=True,\n",
        "    download=True,\n",
        "    transform=transform\n",
        ")"
      ],
      "metadata": {
        "id": "IjTn7QU0qLVG",
        "colab": {
          "base_uri": "https://localhost:8080/",
          "height": 84,
          "referenced_widgets": [
            "5843274779bf4c05835a89b389ebc676",
            "43c56e3e7ce54fd6b584cebc3e445312",
            "d99a199d51684f1fafa8f06a77959db9",
            "becd1eda0df94e509c7a67e78891f0f5",
            "3bffaac960b6454fae3bc0af8abf8fbe",
            "22f48d3f2bc14afaa961031283c4159d",
            "d29ba40d6e1d4320b7129f1f10ec770a",
            "2e88113d92e849b0878167946b87b4e6",
            "739c9fbce36342378355285dad9766fb",
            "3ecec36098c740fb8c8699bdee860092",
            "4e7232b3b159420bbb55ed0a7e1cfffd"
          ]
        },
        "outputId": "5fbf2a79-9eff-4f4a-a4de-cd2c59d212a1"
      },
      "execution_count": 22,
      "outputs": [
        {
          "output_type": "stream",
          "name": "stdout",
          "text": [
            "Downloading https://www.cs.toronto.edu/~kriz/cifar-10-python.tar.gz to ./data/cifar-10-python.tar.gz\n"
          ]
        },
        {
          "output_type": "display_data",
          "data": {
            "application/vnd.jupyter.widget-view+json": {
              "model_id": "5843274779bf4c05835a89b389ebc676",
              "version_minor": 0,
              "version_major": 2
            },
            "text/plain": [
              "  0%|          | 0/170498071 [00:00<?, ?it/s]"
            ]
          },
          "metadata": {}
        },
        {
          "output_type": "stream",
          "name": "stdout",
          "text": [
            "Extracting ./data/cifar-10-python.tar.gz to ./data\n"
          ]
        }
      ]
    },
    {
      "cell_type": "markdown",
      "source": [
        "Once dataset is ready, we can give it to the `DataLoader`:"
      ],
      "metadata": {
        "id": "Zv2CSH-oraZr"
      }
    },
    {
      "cell_type": "code",
      "source": [
        "trainloader = torch.utils.data.DataLoader(\n",
        "    trainset,\n",
        "    batch_size=4,\n",
        "    shuffle=True,\n",
        "    num_workers=2\n",
        ")"
      ],
      "metadata": {
        "id": "gDS8T1jkrH_G"
      },
      "execution_count": 23,
      "outputs": []
    },
    {
      "cell_type": "markdown",
      "source": [
        "The `DataLoader` knows nothing about the data, but organizes the input tensors served by the `Dataset` into batches with the paraemeter we specify."
      ],
      "metadata": {
        "id": "Hnu30EAkrmHJ"
      }
    },
    {
      "cell_type": "markdown",
      "source": [
        "To visualize the batches our `DataLoader` serves:"
      ],
      "metadata": {
        "id": "D1WQOxw4r32j"
      }
    },
    {
      "cell_type": "code",
      "source": [
        "import matplotlib.pyplot as plt\n",
        "import numpy as np"
      ],
      "metadata": {
        "id": "rEfhD1AkrlVz"
      },
      "execution_count": 24,
      "outputs": []
    },
    {
      "cell_type": "code",
      "source": [
        "classes = ('plane', 'car', 'bird', 'cat', 'deer', 'dog', 'frog', 'horse', 'ship', 'truck')\n",
        "\n",
        "def imshow(img):\n",
        "    img = img / 2 + 0.5 # unnormalize\n",
        "    npimg = img.numpy()\n",
        "    plt.imshow(np.transpose(npimg, (1, 2, 0)))\n",
        "    plt.show()\n",
        "\n",
        "# get some random training images\n",
        "dataiter = iter(trainloader)\n",
        "images, labels = dataiter.next()\n",
        "\n",
        "# show images\n",
        "imshow(torchvision.utils.make_grid(images))\n",
        "# print labels\n",
        "print(' '.join('%5s' % classes[labels[j]] for j in range(4)))"
      ],
      "metadata": {
        "id": "JtkKWXkasAC3",
        "colab": {
          "base_uri": "https://localhost:8080/",
          "height": 155
        },
        "outputId": "92d9d875-165c-4718-c67a-4916b2556e79"
      },
      "execution_count": 25,
      "outputs": [
        {
          "output_type": "display_data",
          "data": {
            "image/png": "[encoded data removed]",
            "text/plain": [
              "<Figure size 432x288 with 1 Axes>"
            ]
          },
          "metadata": {
            "needs_background": "light"
          }
        },
        {
          "output_type": "stream",
          "name": "stdout",
          "text": [
            "  dog  deer horse   car\n"
          ]
        }
      ]
    },
    {
      "cell_type": "code",
      "source": [
        "torch.std_mean(images)\n",
        "# check if the Normalize transform does work"
      ],
      "metadata": {
        "id": "GgjRDFOcwSaM",
        "colab": {
          "base_uri": "https://localhost:8080/"
        },
        "outputId": "69fdc588-bef4-497d-e350-45c5b4938767"
      },
      "execution_count": 26,
      "outputs": [
        {
          "output_type": "execute_result",
          "data": {
            "text/plain": [
              "(tensor(0.4921), tensor(-0.0482))"
            ]
          },
          "metadata": {},
          "execution_count": 26
        }
      ]
    },
    {
      "cell_type": "markdown",
      "source": [
        "#Training PyTorch Model"
      ],
      "metadata": {
        "id": "3LHwRp1_1iuC"
      }
    },
    {
      "cell_type": "code",
      "source": [
        "import torch\n",
        "import torch.nn as nn\n",
        "import torch.nn.functional as F\n",
        "import torch.optim as optim\n",
        "\n",
        "import torchvision\n",
        "import torchvision.transforms as transforms\n",
        "\n",
        "import matplotlib\n",
        "import matplotlib.pyplot as plt\n",
        "import numpy as np"
      ],
      "metadata": {
        "id": "8IB04MJDwyje"
      },
      "execution_count": 27,
      "outputs": []
    },
    {
      "cell_type": "markdown",
      "source": [
        "First, need training and test datasets."
      ],
      "metadata": {
        "id": "fJd3KkCv133r"
      }
    },
    {
      "cell_type": "code",
      "source": [
        "transform = transforms.Compose(\n",
        "    [transforms.ToTensor(),\n",
        "     transforms.Normalize((0.5, 0.5, 0.5), (0.5, 0.5, 0.5))]\n",
        ")\n",
        "\n",
        "trainset = torchvision.datasets.CIFAR10(\n",
        "    root='./data',\n",
        "    train=True,\n",
        "    download=True,\n",
        "    transform=transform\n",
        ")\n",
        "trainloader = torch.utils.data.DataLoader(\n",
        "    trainset,\n",
        "    batch_size=4,\n",
        "    shuffle=True,\n",
        "    num_workers=2\n",
        ")\n",
        "\n",
        "testset = torchvision.datasets.CIFAR10(\n",
        "    root='./data',\n",
        "    train=False,\n",
        "    download=True,\n",
        "    transform=transform\n",
        ")\n",
        "testloader = torch.utils.data.DataLoader(\n",
        "    testset,\n",
        "    batch_size=4,\n",
        "    shuffle=False,\n",
        "    num_workers=2\n",
        ")\n",
        "\n",
        "classes = ('plane', 'car', 'bird', 'cat',\n",
        "           'deer', 'dog', 'frog', 'horse', 'ship', 'truck')"
      ],
      "metadata": {
        "id": "-HXYdpQY10Uf",
        "colab": {
          "base_uri": "https://localhost:8080/"
        },
        "outputId": "73df425f-8354-4646-f935-1829e58b77d9"
      },
      "execution_count": 28,
      "outputs": [
        {
          "output_type": "stream",
          "name": "stdout",
          "text": [
            "Files already downloaded and verified\n",
            "Files already downloaded and verified\n"
          ]
        }
      ]
    },
    {
      "cell_type": "markdown",
      "source": [
        "Run and check the output from `DataLoader`:"
      ],
      "metadata": {
        "id": "gP3vcbBj2uZD"
      }
    },
    {
      "cell_type": "code",
      "source": [
        "def imshow(img):\n",
        "    img = img / 2 + 0.5 # unnormalize\n",
        "    npimg = img.numpy()\n",
        "    plt.imshow(np.transpose(npimg, (1,2,0)))\n",
        "\n",
        "# get some random training images\n",
        "dataiter = iter(trainloader)\n",
        "images, labels = dataiter.next()\n",
        "\n",
        "# show images\n",
        "imshow(torchvision.utils.make_grid(images))\n",
        "# print labels\n",
        "print(' '.join('%5s' % classes[labels[j]] for j in range(4)))"
      ],
      "metadata": {
        "id": "1FNliUUd2sRp",
        "colab": {
          "base_uri": "https://localhost:8080/",
          "height": 155
        },
        "outputId": "49a4392f-14e7-47a2-fa5a-45e75ec30008"
      },
      "execution_count": 29,
      "outputs": [
        {
          "output_type": "stream",
          "name": "stdout",
          "text": [
            "  car  deer plane  ship\n"
          ]
        },
        {
          "output_type": "display_data",
          "data": {
            "image/png": "[encoded data removed]",
            "text/plain": [
              "<Figure size 432x288 with 1 Axes>"
            ]
          },
          "metadata": {
            "needs_background": "light"
          }
        }
      ]
    },
    {
      "cell_type": "markdown",
      "source": [
        "Next, build the model:"
      ],
      "metadata": {
        "id": "bFsXqazc3VPy"
      }
    },
    {
      "cell_type": "code",
      "source": [
        "class Net(nn.Module):\n",
        "    def __init__(self):\n",
        "        super(Net, self).__init__()\n",
        "        self.conv1 = nn.Conv2d(3, 6, 5)\n",
        "        self.pool = nn.MaxPool2d(2, 2)\n",
        "        self.conv2 = nn.Conv2d(6, 16, 5)\n",
        "        self.fc1 = nn.Linear(16 * 5*5, 120)\n",
        "        self.fc2 = nn.Linear(120, 84)\n",
        "        self.fc3 = nn.Linear(84, 10)\n",
        "\n",
        "    def forward(self, x):\n",
        "        x = self.pool(F.relu(self.conv1(x)))\n",
        "        x = self.pool(F.relu(self.conv2(x)))\n",
        "        x = x.view(-1, 16 * 5*5)\n",
        "        x = F.relu(self.fc1(x))\n",
        "        x = F.relu(self.fc2(x))\n",
        "        x = self.fc3(x)\n",
        "        return x\n",
        "\n",
        "net = Net()"
      ],
      "metadata": {
        "id": "cpQMAmwg3Ph4"
      },
      "execution_count": 30,
      "outputs": []
    },
    {
      "cell_type": "markdown",
      "source": [
        "The last ingredients are a loss function and an optimizer:"
      ],
      "metadata": {
        "id": "F21zyGvt4aP9"
      }
    },
    {
      "cell_type": "code",
      "source": [
        "criterion = nn.CrossEntropyLoss()\n",
        "optimizer = optim.SGD(net.parameters(), lr=0.001, momentum=0.9)"
      ],
      "metadata": {
        "id": "X3CHaeT_4Zz4"
      },
      "execution_count": 31,
      "outputs": []
    },
    {
      "cell_type": "markdown",
      "source": [
        "Cross-entropy loss is a typical loss function for classification models.\n",
        "\n",
        "Finally, all of this assembled into the training loop:"
      ],
      "metadata": {
        "id": "5cVHR_N34kkp"
      }
    },
    {
      "cell_type": "code",
      "source": [
        "for epoch in range(2): # loop over the dataset multiple times\n",
        "    running_loss = 0.0\n",
        "    for i, data in enumerate(trainloader, start=0):\n",
        "        # get the inputs\n",
        "        inputs, labels = data\n",
        "\n",
        "        # zero the parameter gradients\n",
        "        optimizer.zero_grad()\n",
        "\n",
        "        # forward + backward + optimize\n",
        "        outputs = net(inputs)\n",
        "        loss = criterion(outputs, labels)\n",
        "        loss.backward()\n",
        "        optimizer.step()\n",
        "\n",
        "        # print statistics\n",
        "        running_loss += loss.item()\n",
        "        if i % 2000 == 1999: #print every 2000 mini-batches\n",
        "            print('[%d, %5d] loss: %.3f' %\n",
        "                  (epoch+1, i+1, running_loss/2000))\n",
        "            running_loss = 0.\n",
        "print('Finish Training')"
      ],
      "metadata": {
        "id": "eCcWnOmD4jq3",
        "colab": {
          "base_uri": "https://localhost:8080/"
        },
        "outputId": "15a149fb-a0a7-46af-bab7-3c374eed9cf8"
      },
      "execution_count": 32,
      "outputs": [
        {
          "output_type": "stream",
          "name": "stdout",
          "text": [
            "[1,  2000] loss: 2.170\n",
            "[1,  4000] loss: 1.841\n",
            "[1,  6000] loss: 1.650\n",
            "[1,  8000] loss: 1.562\n",
            "[1, 10000] loss: 1.489\n",
            "[1, 12000] loss: 1.446\n",
            "[2,  2000] loss: 1.378\n",
            "[2,  4000] loss: 1.358\n",
            "[2,  6000] loss: 1.322\n",
            "[2,  8000] loss: 1.283\n",
            "[2, 10000] loss: 1.264\n",
            "[2, 12000] loss: 1.259\n",
            "Finish Training\n"
          ]
        }
      ]
    },
    {
      "cell_type": "markdown",
      "source": [
        "Here, we did 2 training epochs (line 1). Each epoch has an inner loop that iterates over the training data (line 4), serving batches of transformed input images and their correct labels.\n",
        "\n",
        "**Zeroing the gradient** (line 8) is important! Gradients are accumulated over a batch; if we do not reset them for every batch, they will keep accumulating, which will provide incorrect gradient values, making learning impossible.\n",
        "\n",
        "We asked the model for its predictions on this batch in line 11, In line 12, we compute the loss - the difference between `outputs` and `labels`.\n",
        "\n",
        "In line 13, we do the `backward` pass, and calculate the gradients that will direct the learning.\n",
        "\n",
        "In line 14, the optimizer performs one learning step - it usees the gradients from the `backward()` call to nudge the learning weights in the direction it thinks will reduce the loss."
      ],
      "metadata": {
        "id": "fkr5v0MA6qGB"
      }
    },
    {
      "cell_type": "markdown",
      "source": [
        "As a final step, we should check that the model is actually doing general learning, and not overfitting. This is why datasets are splitted into training and test subsets - to test the generality of the model, we ask it to make predictions on data it has not trained on:"
      ],
      "metadata": {
        "id": "hSMrnoaq8K3S"
      }
    },
    {
      "cell_type": "code",
      "source": [
        "correct = 0\n",
        "total = 0\n",
        "with torch.no_grad():\n",
        "    for data in testloader:\n",
        "        images, labels = data\n",
        "        outputs = net(images)\n",
        "        _, predicted = torch.max(outputs.data, 1)\n",
        "        total += labels.size(0)\n",
        "        correct += (predicted == labels).sum().item()\n",
        "\n",
        "print('Accuracy of the network on the 10000 test images: %d %%' %\n",
        "      (100 * correct/total))"
      ],
      "metadata": {
        "id": "j4W1-ncG49pD",
        "colab": {
          "base_uri": "https://localhost:8080/"
        },
        "outputId": "f8f3db1d-a2a6-4bf5-b007-b9839008fe70"
      },
      "execution_count": 33,
      "outputs": [
        {
          "output_type": "stream",
          "name": "stdout",
          "text": [
            "Accuracy of the network on the 10000 test images: 54 %\n"
          ]
        }
      ]
    }
  ]
}