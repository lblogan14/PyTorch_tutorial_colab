{
  "nbformat": 4,
  "nbformat_minor": 0,
  "metadata": {
    "colab": {
      "name": "4. Building Models with PyTorch.ipynb",
      "provenance": [],
      "collapsed_sections": [],
      "authorship_tag": "ABX9TyPOdypJBdKhmSVCRj+N79NT",
      "include_colab_link": true
    },
    "kernelspec": {
      "name": "python3",
      "display_name": "Python 3"
    },
    "language_info": {
      "name": "python"
    }
  },
  "cells": [
    {
      "cell_type": "markdown",
      "metadata": {
        "id": "view-in-github",
        "colab_type": "text"
      },
      "source": [
        "<a href=\"https://colab.research.google.com/github/lblogan14/PyTorch_tutorial_colab/blob/main/4_Building_Models_with_PyTorch.ipynb\" target=\"_parent\"><img src=\"https://colab.research.google.com/assets/colab-badge.svg\" alt=\"Open In Colab\"/></a>"
      ]
    },
    {
      "cell_type": "markdown",
      "source": [
        "#`torch.nn.Module` and `torch.nn.Parameter`"
      ],
      "metadata": {
        "id": "C-8KxxaqBj5Q"
      }
    },
    {
      "cell_type": "markdown",
      "source": [
        "Except for `Parameter`, the classes we discuss here are all subclasses of `torch.nn.Module`. This is the PyTorch base class meant to encapsulate behaviors specific to PyTorch Models and their components.\n",
        "\n",
        "If a particular `Module` subclass has learning weights, these weights are expressed as instances of `torch.nn.Parameter`. The `Parameter` class is a subclass of `torch.Tensor`, with the special behavior that when they are assigned as attributes of a `Module`, they are added to the list of that module's parameters. These parameters may be accessed through the `parameters()` method on the `Module` class."
      ],
      "metadata": {
        "id": "LZHJ7VptBnuT"
      }
    },
    {
      "cell_type": "markdown",
      "source": [
        "Here, we created an instance of `Module` and ask it to report on its parameters:"
      ],
      "metadata": {
        "id": "6Mum2vXLCoy4"
      }
    },
    {
      "cell_type": "code",
      "execution_count": 1,
      "metadata": {
        "id": "2UjSjbARBbM7"
      },
      "outputs": [],
      "source": [
        "import torch"
      ]
    },
    {
      "cell_type": "code",
      "source": [
        "class TinyModel(torch.nn.Module):\n",
        "    def __init__(self):\n",
        "        super(TinyModel, self).__init__()\n",
        "\n",
        "        self.linear1 = torch.nn.Linear(100, 200)\n",
        "        self.activation = torch.nn.ReLU()\n",
        "        self.linear2 = torch.nn.Linear(200, 10)\n",
        "        self.softmax = torch.nn.Softmax()\n",
        "\n",
        "    def forward(self, x):\n",
        "        x = self.linear1(x)\n",
        "        x = self.activation(x)\n",
        "        x = self.linear2(x)\n",
        "        x = self.softmax(x)\n",
        "        return x"
      ],
      "metadata": {
        "id": "hYZa26MbCvIL"
      },
      "execution_count": 2,
      "outputs": []
    },
    {
      "cell_type": "code",
      "source": [
        "tinymodel = TinyModel()\n",
        "\n",
        "print('The model:')\n",
        "print(tinymodel)\n",
        "print('\\n\\nJust one layer:')\n",
        "print(tinymodel.linear2)\n",
        "print('\\n\\nModel params:')\n",
        "for param in tinymodel.parameters():\n",
        "    print(param)\n",
        "\n",
        "print('\\n\\nLayer params:')\n",
        "for param in tinymodel.linear2.parameters():\n",
        "    print(param)"
      ],
      "metadata": {
        "id": "k4coK7GiDHxq",
        "colab": {
          "base_uri": "https://localhost:8080/"
        },
        "outputId": "2ff871b6-6e0d-4251-910d-254000766819"
      },
      "execution_count": 3,
      "outputs": [
        {
          "output_type": "stream",
          "name": "stdout",
          "text": [
            "The model:\n",
            "TinyModel(\n",
            "  (linear1): Linear(in_features=100, out_features=200, bias=True)\n",
            "  (activation): ReLU()\n",
            "  (linear2): Linear(in_features=200, out_features=10, bias=True)\n",
            "  (softmax): Softmax(dim=None)\n",
            ")\n",
            "\n",
            "\n",
            "Just one layer:\n",
            "Linear(in_features=200, out_features=10, bias=True)\n",
            "\n",
            "\n",
            "Model params:\n",
            "Parameter containing:\n",
            "tensor([[-0.0160, -0.0074, -0.0323,  ...,  0.0456,  0.0398,  0.0295],\n",
            "        [-0.0631,  0.0231,  0.0945,  ...,  0.0113, -0.0424,  0.0391],\n",
            "        [-0.0908, -0.0320, -0.0532,  ..., -0.0253, -0.0426, -0.0486],\n",
            "        ...,\n",
            "        [ 0.0800, -0.0556,  0.0531,  ...,  0.0089, -0.0563, -0.0130],\n",
            "        [-0.0443,  0.0367,  0.0588,  ..., -0.0990,  0.0753, -0.0794],\n",
            "        [ 0.0236, -0.0540, -0.0057,  ..., -0.0510, -0.0359, -0.0370]],\n",
            "       requires_grad=True)\n",
            "Parameter containing:\n",
            "tensor([ 0.0098, -0.0767, -0.0737,  0.0843,  0.0936, -0.0317,  0.0599, -0.0344,\n",
            "         0.0940,  0.0662,  0.0760, -0.0904,  0.0680, -0.0668,  0.0323, -0.0665,\n",
            "         0.0437, -0.0873, -0.0223, -0.0057,  0.0292,  0.0775, -0.0094, -0.0884,\n",
            "        -0.0813, -0.0086, -0.0314,  0.0587,  0.0597, -0.0052, -0.0705, -0.0669,\n",
            "        -0.0343,  0.0726,  0.0184, -0.0891, -0.0588, -0.0806,  0.0517, -0.0279,\n",
            "        -0.0184,  0.0212,  0.0197, -0.0770, -0.0249,  0.0557, -0.0736,  0.0080,\n",
            "        -0.0391,  0.0851,  0.0968, -0.0290,  0.0784,  0.0896,  0.0415, -0.0232,\n",
            "        -0.0780, -0.0022,  0.0032,  0.0039, -0.0164,  0.0234,  0.0549, -0.0601,\n",
            "        -0.0270,  0.0716,  0.0150, -0.0923, -0.0034, -0.0242, -0.0129,  0.0775,\n",
            "         0.0087, -0.0356, -0.0112, -0.0944,  0.0424, -0.0866,  0.0418,  0.0104,\n",
            "        -0.0067,  0.0576,  0.0471,  0.0231,  0.0611, -0.0370,  0.0662,  0.0597,\n",
            "        -0.0355, -0.0214, -0.0599,  0.0993, -0.0915,  0.0587,  0.0946, -0.0347,\n",
            "         0.0089, -0.0296,  0.0480,  0.0019, -0.0284,  0.0322,  0.0356,  0.0568,\n",
            "         0.0407, -0.0602,  0.0027,  0.0372, -0.0637,  0.0772,  0.0671, -0.0376,\n",
            "         0.0640, -0.0017, -0.0353,  0.0114, -0.0671,  0.0974, -0.0491,  0.0290,\n",
            "         0.0025,  0.0522, -0.0172, -0.0966, -0.0456, -0.0441,  0.0265,  0.0593,\n",
            "        -0.0287,  0.0421, -0.0016,  0.0769,  0.0407, -0.0998,  0.0236,  0.0542,\n",
            "        -0.0938,  0.0877,  0.0623,  0.0386, -0.0333,  0.0322,  0.0203, -0.0274,\n",
            "         0.0762,  0.0492, -0.0651,  0.0650, -0.0795,  0.0406,  0.0581,  0.0927,\n",
            "        -0.0588,  0.0853, -0.0548, -0.0058, -0.0241, -0.0801, -0.0317,  0.0218,\n",
            "        -0.0366, -0.0843, -0.0509,  0.0807,  0.0243,  0.0275, -0.0042, -0.0369,\n",
            "        -0.0611, -0.0927,  0.0851,  0.0870,  0.0825,  0.0811, -0.0685,  0.0403,\n",
            "         0.0784,  0.0963, -0.0490, -0.0573, -0.0415,  0.0770, -0.0234,  0.0249,\n",
            "        -0.0732, -0.0176,  0.0743,  0.0861, -0.0503,  0.0010,  0.0887,  0.0047,\n",
            "         0.0772,  0.0800, -0.0315,  0.0561, -0.0119, -0.0233,  0.0055, -0.0202],\n",
            "       requires_grad=True)\n",
            "Parameter containing:\n",
            "tensor([[-0.0225, -0.0696,  0.0154,  ..., -0.0203, -0.0319, -0.0637],\n",
            "        [-0.0472,  0.0183, -0.0530,  ...,  0.0642, -0.0334, -0.0300],\n",
            "        [-0.0580, -0.0151, -0.0098,  ..., -0.0527,  0.0409,  0.0117],\n",
            "        ...,\n",
            "        [ 0.0521, -0.0660,  0.0242,  ..., -0.0068,  0.0307, -0.0123],\n",
            "        [-0.0552, -0.0074,  0.0506,  ..., -0.0627,  0.0451,  0.0592],\n",
            "        [-0.0233,  0.0023,  0.0263,  ..., -0.0162,  0.0667,  0.0265]],\n",
            "       requires_grad=True)\n",
            "Parameter containing:\n",
            "tensor([-0.0375,  0.0135,  0.0310,  0.0502,  0.0104,  0.0338,  0.0240, -0.0114,\n",
            "         0.0424, -0.0332], requires_grad=True)\n",
            "\n",
            "\n",
            "Layer params:\n",
            "Parameter containing:\n",
            "tensor([[-0.0225, -0.0696,  0.0154,  ..., -0.0203, -0.0319, -0.0637],\n",
            "        [-0.0472,  0.0183, -0.0530,  ...,  0.0642, -0.0334, -0.0300],\n",
            "        [-0.0580, -0.0151, -0.0098,  ..., -0.0527,  0.0409,  0.0117],\n",
            "        ...,\n",
            "        [ 0.0521, -0.0660,  0.0242,  ..., -0.0068,  0.0307, -0.0123],\n",
            "        [-0.0552, -0.0074,  0.0506,  ..., -0.0627,  0.0451,  0.0592],\n",
            "        [-0.0233,  0.0023,  0.0263,  ..., -0.0162,  0.0667,  0.0265]],\n",
            "       requires_grad=True)\n",
            "Parameter containing:\n",
            "tensor([-0.0375,  0.0135,  0.0310,  0.0502,  0.0104,  0.0338,  0.0240, -0.0114,\n",
            "         0.0424, -0.0332], requires_grad=True)\n"
          ]
        }
      ]
    },
    {
      "cell_type": "markdown",
      "source": [
        "This shows the fundamental structure of a PyTorch model: there is an `__init__()` method that defines the layers and other components of a model, and a `forward()` method where the computation gets done."
      ],
      "metadata": {
        "id": "feNAebVQD3vk"
      }
    },
    {
      "cell_type": "markdown",
      "source": [
        "#Common Layer Types"
      ],
      "metadata": {
        "id": "QN3mcEpTEIgd"
      }
    },
    {
      "cell_type": "markdown",
      "source": [
        "##Linear Layers\n",
        "most basic type - linear or fully connected layer.\n",
        "\n",
        "If a model has *m* inputs and *n* outputs, the weights will be an [m x n] matrix:"
      ],
      "metadata": {
        "id": "xD7DY8_zEJ5O"
      }
    },
    {
      "cell_type": "code",
      "source": [
        "lin = torch.nn.Linear(3,2)\n",
        "x = torch.rand(1,3)\n",
        "print('Input:')\n",
        "print(x)\n",
        "\n",
        "print('\\n\\nWeight and Bias parameters:')\n",
        "for param in lin.parameters():\n",
        "    print(param)\n",
        "\n",
        "y = lin(x)\n",
        "print('\\n\\nOutput:')\n",
        "print(y)"
      ],
      "metadata": {
        "id": "XDRMx7DeD04j",
        "colab": {
          "base_uri": "https://localhost:8080/"
        },
        "outputId": "f183806f-ccfc-4127-f1e8-7193723675b1"
      },
      "execution_count": 4,
      "outputs": [
        {
          "output_type": "stream",
          "name": "stdout",
          "text": [
            "Input:\n",
            "tensor([[0.5256, 0.8806, 0.5924]])\n",
            "\n",
            "\n",
            "Weight and Bias parameters:\n",
            "Parameter containing:\n",
            "tensor([[ 0.2393,  0.3495,  0.0013],\n",
            "        [ 0.3973, -0.3799, -0.2773]], requires_grad=True)\n",
            "Parameter containing:\n",
            "tensor([0.3125, 0.4082], requires_grad=True)\n",
            "\n",
            "\n",
            "Output:\n",
            "tensor([[0.7468, 0.1181]], grad_fn=<AddmmBackward0>)\n"
          ]
        }
      ]
    },
    {
      "cell_type": "markdown",
      "source": [
        "When we checked the weights with `lin.weight`, it reported itself as a `Parameter`, and let us know that it is tracking gradients with autograd."
      ],
      "metadata": {
        "id": "zPLKG4MWFGve"
      }
    },
    {
      "cell_type": "code",
      "source": [
        "lin.weight"
      ],
      "metadata": {
        "id": "ASXDYWTuE26Q",
        "colab": {
          "base_uri": "https://localhost:8080/"
        },
        "outputId": "699b8238-16cb-4bea-ace6-f1957aa57d4e"
      },
      "execution_count": 5,
      "outputs": [
        {
          "output_type": "execute_result",
          "data": {
            "text/plain": [
              "Parameter containing:\n",
              "tensor([[ 0.2393,  0.3495,  0.0013],\n",
              "        [ 0.3973, -0.3799, -0.2773]], requires_grad=True)"
            ]
          },
          "metadata": {},
          "execution_count": 5
        }
      ]
    },
    {
      "cell_type": "code",
      "source": [
        "lin.bias"
      ],
      "metadata": {
        "id": "iRShKsguFVDI",
        "colab": {
          "base_uri": "https://localhost:8080/"
        },
        "outputId": "a38654be-4708-4583-8649-e735175dd6f3"
      },
      "execution_count": 6,
      "outputs": [
        {
          "output_type": "execute_result",
          "data": {
            "text/plain": [
              "Parameter containing:\n",
              "tensor([0.3125, 0.4082], requires_grad=True)"
            ]
          },
          "metadata": {},
          "execution_count": 6
        }
      ]
    },
    {
      "cell_type": "markdown",
      "source": [
        "##Convolutional Layers\n",
        "Conv layers are built to handle data with a high degree of spatial correlation."
      ],
      "metadata": {
        "id": "_z_hS4AVFbZm"
      }
    },
    {
      "cell_type": "code",
      "source": [
        "import torch.functional as F"
      ],
      "metadata": {
        "id": "A9NbaYdqFYPm"
      },
      "execution_count": 7,
      "outputs": []
    },
    {
      "cell_type": "code",
      "source": [
        "class LeNet(torch.nn.Module):\n",
        "    def __init__(self):\n",
        "        super(LeNet, self).__init__()\n",
        "\n",
        "        # 1 input image channel (black&white), 6 output channels, 3x3 square convolution kernel\n",
        "        self.conv1 = torch.nn.Conv2d(1, 6, 5)\n",
        "        self.conv2 = torch.nn.Conv2d(6, 16, 3)\n",
        "\n",
        "        # an affine operation y = Wx + b\n",
        "        self.fc1 = torch.nn.Linear(16*6*6, 120) # 6*6 from image dimension\n",
        "        self.fc2 = torch.nn.Linear(120, 84)\n",
        "        self.fc3 = torch.nn.Linear(84, 10)\n",
        "\n",
        "    def forward(self, x):\n",
        "        # Maxpooling over (2,2) window\n",
        "        x = F.max_pool2d(F.relu(self.conv1(x)), (2,2))\n",
        "        # If the size is a square we can only specify a single number\n",
        "        x = F.max_pool2d(F.relu(self.conv2(x)), 2)\n",
        "        x = x.view(-1, self.num_flat_features(x))\n",
        "        x = F.relu(self.fc1(x))\n",
        "        x = F.relu(self.fc2(x))\n",
        "        x = self.fc3(x)\n",
        "        return x\n",
        "\n",
        "    def num_flat_features(self, x):\n",
        "        size = x.size()[1:] # all dimensions except the batch dimension\n",
        "        num_features = 1\n",
        "        for s in size:\n",
        "            num_features *= s\n",
        "        return num_features"
      ],
      "metadata": {
        "id": "fbN90Hd_FmVZ"
      },
      "execution_count": 8,
      "outputs": []
    },
    {
      "cell_type": "markdown",
      "source": [
        "* LeNet5 takes in a 1x32x32 black & white image.\n",
        "* A Conv layer is like a window that scans over the image, looking for a pattern it recognizes.\n",
        "* The 3rd argument of `Conv2d` is the window or kernel size."
      ],
      "metadata": {
        "id": "YK5InZHQGzII"
      }
    },
    {
      "cell_type": "markdown",
      "source": [
        "The output of a conv layer is an activation map - a spatial representation of the presence of features in the input tensor."
      ],
      "metadata": {
        "id": "wKbPNZCPHSdT"
      }
    },
    {
      "cell_type": "markdown",
      "source": [
        "##Recurrent Layers\n",
        "RNN are used for sequential data - anything from time-series measurements from a scientific instrucment to natural language sentences to DNA nucleotides. An RNN does this by maintaining a hidden state that acts as a sort of memory for what it has seen in the sequence so far.\n",
        "\n",
        "The internal structrue of an RNN layer - or its variants, the LSTM and GRU:"
      ],
      "metadata": {
        "id": "AJDsStk5HfOO"
      }
    },
    {
      "cell_type": "code",
      "source": [
        "class LSTMTagger(torch.nn.Module):\n",
        "    def __init__(self, embedding_dim, hidden_dim, vocab_size, tagset_size):\n",
        "        super(LSTMTagger, self).__init__()\n",
        "        self.hidden_dim = hidden_dim\n",
        "\n",
        "        self.word_embeddings = torch.nn.Embedding(vocab_size, embedding_dim)\n",
        "\n",
        "        # The LSTM takes word embeddings as inputs, and outputs hidden states with dim of hidden_dim\n",
        "        self.lstm = torch.nn.LSTM(embedding_dim, hidden_dim)\n",
        "\n",
        "        # The linear layer that maps from hidden state space to tag space\n",
        "        self.hidden2tag = torch.nn.Linear(hidden_dim, tagset_size)\n",
        "\n",
        "    def forward(self, sentence):\n",
        "        embeds = self.word_embeddings(sentence)\n",
        "        lstm_out, _ = self.lstm(embeds.view(len(sentence), 1, -1))\n",
        "        tag_space = self.hidden2tag(lstm_out.view(len(sentence), -1))\n",
        "        tag_scores = F.log_softmax(tag_space, dim=1)\n",
        "        return tag_scores"
      ],
      "metadata": {
        "id": "1T2yEnrXH7H-"
      },
      "execution_count": 9,
      "outputs": []
    },
    {
      "cell_type": "markdown",
      "source": [
        "The constructor has four arguments:\n",
        "* `vocab_size` is the number of words in the input vocabulary. Each word is a one-hot vector in a `vocab_size`-dimensional space.\n",
        "* `tagset_size` is the number of tags in the output set.\n",
        "* `embedding_dim` is the size of the embedding space for the vocabulary. An embedding maps a vocabulary onto a low-dimensional space, where words with similar meanings are close together in the space.\n",
        "* `hidden_dim` is the size of the LSTM's memory\n",
        "\n",
        "The input will be a sentence with the words represented as indices of one-hot vectors. The embedding layer will then map these down to an `embedding_dim`-dimensional space. The LSTM takes this sequence of embeddings and iterates over it, fielding an output vector of length `hidden_dim`. The final linear layer acts as a classifier; applying `log_softmax()` to the output of the final layer converts the output into a normalized set of estimated probabilities that a given word maps to a given tag."
      ],
      "metadata": {
        "id": "ydtD-CU2Iv2m"
      }
    },
    {
      "cell_type": "markdown",
      "source": [
        "#Transformer\n",
        "PyTorch has a `Transformer` class that allows us to defin the overall parameters of a transformer model - the number of attention heads, the number of encoder & decoder layers, dropout and activation functions, etc.\n",
        "\n",
        "The `torch.nn.Transformer` class also has classes to encapsulate the individual components (`TransformerEncoder`, `TransformerDecoder`) and subcomponents (`TransformerEncoderLayer`, `TransformerDecoderLayer`)\n",
        "\n",
        "[Official documentation about Transformer class](https://pytorch.org/docs/stable/nn.html#transformer-layers)\n",
        "\n",
        "[Official Transformer Tutorial](https://pytorch.org/tutorials/beginner/transformer_tutorial.html)"
      ],
      "metadata": {
        "id": "hkCBEvQmKPUv"
      }
    },
    {
      "cell_type": "markdown",
      "source": [
        "#Other Layers and Functions"
      ],
      "metadata": {
        "id": "WbtGEXBiLHG_"
      }
    },
    {
      "cell_type": "markdown",
      "source": [
        "##Data Manipulation Layers\n",
        "There are layer types tha perform important functions in models but do not participate in the learning process."
      ],
      "metadata": {
        "id": "L09Wfk_ULJHp"
      }
    },
    {
      "cell_type": "markdown",
      "source": [
        "**Max pooling** reduces a tensor by combining cells, and assigning the max value of the input cells to the output cell. (similar to min pooling)"
      ],
      "metadata": {
        "id": "w08WMtJBOyfE"
      }
    },
    {
      "cell_type": "code",
      "source": [
        "my_tensor = torch.rand(1, 6, 6)\n",
        "print(my_tensor)\n",
        "\n",
        "maxpool_layer = torch.nn.MaxPool2d(3)\n",
        "print(maxpool_layer(my_tensor))"
      ],
      "metadata": {
        "id": "C9lHgxnFO8ej",
        "colab": {
          "base_uri": "https://localhost:8080/"
        },
        "outputId": "30cb86ad-be6e-4801-cac5-0b998854a70a"
      },
      "execution_count": 10,
      "outputs": [
        {
          "output_type": "stream",
          "name": "stdout",
          "text": [
            "tensor([[[0.3221, 0.7736, 0.6000, 0.9045, 0.0891, 0.3393],\n",
            "         [0.1939, 0.0258, 0.9140, 0.4902, 0.8545, 0.1057],\n",
            "         [0.6508, 0.8209, 0.8754, 0.1642, 0.7043, 0.2815],\n",
            "         [0.3026, 0.2097, 0.8409, 0.2631, 0.4772, 0.0898],\n",
            "         [0.5936, 0.3875, 0.6128, 0.5493, 0.8211, 0.7392],\n",
            "         [0.6080, 0.5814, 0.1990, 0.7120, 0.5334, 0.4814]]])\n",
            "tensor([[[0.9140, 0.9045],\n",
            "         [0.8409, 0.8211]]])\n"
          ]
        }
      ]
    },
    {
      "cell_type": "markdown",
      "source": [
        "**Normalization layers** re-center and normalize the output of one layer before feeding it to another. Centering and scaling the intermediate tensors has a number of beneficial effects, such as letting us use higher learning rates without exploding/vanishing gradients:"
      ],
      "metadata": {
        "id": "MUtKrgbTPGRu"
      }
    },
    {
      "cell_type": "code",
      "source": [
        "my_tensor = torch.rand(1,4,4) * 20 + 5\n",
        "print('My tensor:')\n",
        "print(my_tensor)\n",
        "\n",
        "print('\\nMean of my tensor:')\n",
        "print(my_tensor.mean())\n",
        "\n",
        "norm_layer = torch.nn.BatchNorm1d(4)\n",
        "normed_tensor = norm_layer(my_tensor)\n",
        "print('\\n\\nNormalized tensor:')\n",
        "print(normed_tensor)\n",
        "print('\\nMean of normalized tensor:')\n",
        "print(normed_tensor.mean())"
      ],
      "metadata": {
        "id": "zdh0ph7BPEZ1",
        "colab": {
          "base_uri": "https://localhost:8080/"
        },
        "outputId": "29b6e898-619e-43c1-e90c-4d397e5a4aaa"
      },
      "execution_count": 11,
      "outputs": [
        {
          "output_type": "stream",
          "name": "stdout",
          "text": [
            "My tensor:\n",
            "tensor([[[10.7470,  7.8793, 10.9012, 16.3678],\n",
            "         [12.0573,  6.6864, 10.9560, 13.5152],\n",
            "         [11.1714, 19.2293, 10.7175, 14.0337],\n",
            "         [18.4046, 10.7704, 14.6486, 10.6056]]])\n",
            "\n",
            "Mean of my tensor:\n",
            "tensor(12.4182)\n",
            "\n",
            "\n",
            "Normalized tensor:\n",
            "tensor([[[-0.2367, -1.1704, -0.1864,  1.5935],\n",
            "         [ 0.4926, -1.6181,  0.0599,  1.0656],\n",
            "         [-0.7721,  1.6056, -0.9060,  0.0725],\n",
            "         [ 1.4956, -0.8844,  0.3246, -0.9358]]],\n",
            "       grad_fn=<NativeBatchNormBackward0>)\n",
            "\n",
            "Mean of normalized tensor:\n",
            "tensor(9.4995e-08, grad_fn=<MeanBackward0>)\n"
          ]
        }
      ]
    },
    {
      "cell_type": "markdown",
      "source": [
        "The normalization layer is beneficial because many activation functions have their strongest gradients near 0, but sometimes suffer from vanishing or exploding gradients for inputs that drive them far away from zero. Keeping the data centered around the area of steepest gradient will tend to mean faster, better learning and higher feasible learning rates."
      ],
      "metadata": {
        "id": "V3cQ6oDJP2fK"
      }
    },
    {
      "cell_type": "markdown",
      "source": [
        "**Dropout layers** are a tool for encouraging sparse representations in model - that is, pushing it to do inference with less data.\n",
        "\n",
        "Dropout layers work by randomly setting parts of the input tensor during training - they always turned off for inference. This forces the model to learn against this masked or reduced dataset:"
      ],
      "metadata": {
        "id": "9fRFlx9wQHSK"
      }
    },
    {
      "cell_type": "code",
      "source": [
        "my_tensor = torch.rand(1, 4, 4)\n",
        "\n",
        "dropout = torch.nn.Dropout(p=0.4)\n",
        "print(dropout(my_tensor))\n",
        "print(dropout(my_tensor))"
      ],
      "metadata": {
        "id": "pq0Tl5VLPyEo",
        "colab": {
          "base_uri": "https://localhost:8080/"
        },
        "outputId": "52f40c28-af12-4150-fe22-a17873e60a62"
      },
      "execution_count": 12,
      "outputs": [
        {
          "output_type": "stream",
          "name": "stdout",
          "text": [
            "tensor([[[0.4185, 0.0000, 0.0954, 0.5681],\n",
            "         [0.0000, 0.0000, 0.0000, 0.0000],\n",
            "         [0.0000, 0.1933, 0.0000, 0.0000],\n",
            "         [0.0000, 0.6060, 1.2443, 1.1714]]])\n",
            "tensor([[[0.0000, 0.0000, 0.0954, 0.0000],\n",
            "         [0.8417, 0.0000, 0.7912, 0.0000],\n",
            "         [0.4213, 0.0000, 0.0000, 1.3483],\n",
            "         [0.9611, 0.0000, 1.2443, 0.0000]]])\n"
          ]
        }
      ]
    },
    {
      "cell_type": "markdown",
      "source": [
        "##Activation Functions\n",
        "Inserting non-linear activaiton functions between layers is what allows a deep learning model to simulate any function, rather than just linear ones.\n",
        "\n",
        "`torch.nn.Module` has objects encapsulating all of the major activation functions including ReLU and its many variants, Tanh, Hardtanh, sigmoid, and more."
      ],
      "metadata": {
        "id": "99d45HdfQkjH"
      }
    },
    {
      "cell_type": "markdown",
      "source": [
        "##Loss Functions\n",
        "Loss functions tell us how far a model's prediction is from the correct answer."
      ],
      "metadata": {
        "id": "M6fPyqReQ-hm"
      }
    }
  ]
}