{
  "nbformat": 4,
  "nbformat_minor": 0,
  "metadata": {
    "colab": {
      "name": "0. Learn_the_basics.ipynb",
      "private_outputs": true,
      "provenance": [],
      "collapsed_sections": [
        "KfZ7mt415dVJ",
        "cMay9btxhqlB",
        "Xe0vTYOpwA6O",
        "_GOT7azq4oLG",
        "pwhLM7gvBN0l",
        "d_mxIsnWJKrx",
        "tYnSeUWIz3fP",
        "I2CzhDgK7Hee",
        "vC5jH-y1UAEk"
      ],
      "authorship_tag": "ABX9TyOhOWypNNWdw19sqvRX9Jug",
      "include_colab_link": true
    },
    "kernelspec": {
      "name": "python3",
      "display_name": "Python 3"
    },
    "language_info": {
      "name": "python"
    }
  },
  "cells": [
    {
      "cell_type": "markdown",
      "metadata": {
        "id": "view-in-github",
        "colab_type": "text"
      },
      "source": [
        "<a href=\"https://colab.research.google.com/github/lblogan14/PyTorch_tutorial_colab/blob/main/0_Learn_the_basics.ipynb\" target=\"_parent\"><img src=\"https://colab.research.google.com/assets/colab-badge.svg\" alt=\"Open In Colab\"/></a>"
      ]
    },
    {
      "cell_type": "markdown",
      "source": [
        "#QUICKSTART"
      ],
      "metadata": {
        "id": "KfZ7mt415dVJ"
      }
    },
    {
      "cell_type": "markdown",
      "source": [
        "##Working with data\n",
        "* `torch.utils.data.Dataset` stores the samples and their corresponding labaels.\n",
        "* `torch.utils.data.DataLoader` wraps an iterable around the `Dataset`.\n"
      ],
      "metadata": {
        "id": "cMay9btxhqlB"
      }
    },
    {
      "cell_type": "code",
      "execution_count": null,
      "metadata": {
        "id": "Aa04d4DFg1e8"
      },
      "outputs": [],
      "source": [
        "import torch\n",
        "from torch import nn\n",
        "from torch.utils.data import DataLoader\n",
        "from torchvision import datasets\n",
        "from torchvision.transforms import ToTensor, Lambda, Compose\n",
        "import matplotlib.pyplot as plt"
      ]
    },
    {
      "cell_type": "markdown",
      "source": [
        "PyTorch offers domain-specific libraries such as `TorchText`, `TorchVision`, and `TorchAudio`, all of which include `datasets`. The `torchvision.datasets` module contains `Dataset` objects for many real-world vision data like CIFAR, COCO, etc. Every TorchVision `Dataset` includes two arguments: `transform` and `target_transform` to modify the samples and labels respectively."
      ],
      "metadata": {
        "id": "Ls4rVlE9iis9"
      }
    },
    {
      "cell_type": "code",
      "source": [
        "# Download training data from open datasets\n",
        "training_data = datasets.FashionMNIST(\n",
        "    root='data',\n",
        "    train=True,\n",
        "    download=True,\n",
        "    transform=ToTensor()\n",
        ")"
      ],
      "metadata": {
        "id": "-pPQY4qBidI0"
      },
      "execution_count": null,
      "outputs": []
    },
    {
      "cell_type": "code",
      "source": [
        "# Download test data from open datasets.\n",
        "test_data = datasets.FashionMNIST(\n",
        "    root='data',\n",
        "    train=False,\n",
        "    download=True,\n",
        "    transform=ToTensor()\n",
        ")"
      ],
      "metadata": {
        "id": "IULvQijwj_X9"
      },
      "execution_count": null,
      "outputs": []
    },
    {
      "cell_type": "markdown",
      "source": [
        "Pass the `Dataset` as an argument to `DataLoader`. This wraps an iterable over the dataset, and supports automatic batching, sampling, shuffling, and multiprocess data loading. If we define a batch size of 64, i.e. each element in the dataloader iterable will return a batch of 64 features and labels."
      ],
      "metadata": {
        "id": "UIVke9HqkToP"
      }
    },
    {
      "cell_type": "code",
      "source": [
        "batch_size = 64\n",
        "\n",
        "# Create data loaders\n",
        "train_dataloader = DataLoader(training_data,\n",
        "                              batch_size=batch_size)\n",
        "test_dataloader = DataLoader(test_data,\n",
        "                             batch_size=batch_size)\n",
        "\n",
        "for X,y in test_dataloader:\n",
        "    print('Shape of X [N, C, H, W]: ', X.shape)\n",
        "    print('Shape of y: ', y.shape, y.dtype)\n",
        "    break"
      ],
      "metadata": {
        "id": "_2qg3VTakSCH"
      },
      "execution_count": null,
      "outputs": []
    },
    {
      "cell_type": "markdown",
      "source": [
        "## Creating Models\n",
        "To define a neural network in PyTorch, we need to create a class that inherits from `nn.Module`.\n",
        "\n",
        "We define the layers of the network in the `__init__` function and specify how data will pass through the network in the `forward` function. To accelerate operations in the neural network, we move it to the GPU if available"
      ],
      "metadata": {
        "id": "g03wwyFylR1-"
      }
    },
    {
      "cell_type": "code",
      "source": [
        "# Get cpu or gpu device for training\n",
        "device = 'cuda' if torch.cuda.is_available() else 'cpu'\n",
        "print(f'Using {device} device')"
      ],
      "metadata": {
        "id": "YGdlqjVUlJbP"
      },
      "execution_count": null,
      "outputs": []
    },
    {
      "cell_type": "code",
      "source": [
        "# Define model\n",
        "class NeuralNetwork(nn.Module):\n",
        "    def __init__(self):\n",
        "        super(NeuralNetwork, self).__init__()\n",
        "        \n",
        "        self.flatten = nn.Flatten()\n",
        "        self.linear_relu_stack = nn.Sequential(\n",
        "            nn.Linear(28*28, 512),\n",
        "            nn.ReLU(),\n",
        "            nn.Linear(512, 512),\n",
        "            nn.ReLU(),\n",
        "            nn.Linear(512, 10)\n",
        "        )\n",
        "    \n",
        "    def forward(self, x):\n",
        "        x = self.flatten(x)\n",
        "        logits = self.linear_relu_stack(x)\n",
        "        return logits"
      ],
      "metadata": {
        "id": "9h4OfVY9mRnn"
      },
      "execution_count": null,
      "outputs": []
    },
    {
      "cell_type": "code",
      "source": [
        "model = NeuralNetwork().to(device)\n",
        "print(model)"
      ],
      "metadata": {
        "id": "izKv3e4Vm5OO"
      },
      "execution_count": null,
      "outputs": []
    },
    {
      "cell_type": "markdown",
      "source": [
        "##Optimizing the Model Parameters"
      ],
      "metadata": {
        "id": "Pb6BhyrOnCeu"
      }
    },
    {
      "cell_type": "markdown",
      "source": [
        "To train a model, we need to define a loss function and an optimizer"
      ],
      "metadata": {
        "id": "byyrSB8KnGhG"
      }
    },
    {
      "cell_type": "code",
      "source": [
        "loss_fn = nn.CrossEntropyLoss()\n",
        "optimizer = torch.optim.SGD(model.parameters(), lr=1e-3)"
      ],
      "metadata": {
        "id": "kmJ-KwJ2m-pu"
      },
      "execution_count": null,
      "outputs": []
    },
    {
      "cell_type": "markdown",
      "source": [
        "In a single training loop, the model makes predictions on the training dataset (fed to it in batches), and backpropagates the prediction error to adjust the model's parameters."
      ],
      "metadata": {
        "id": "chWKTO4PnYxz"
      }
    },
    {
      "cell_type": "code",
      "source": [
        "def train(dataloader, model, loss_fn, optimizer):\n",
        "    size = len(dataloader.dataset)\n",
        "    model.train()\n",
        "\n",
        "    for batch, (X, y) in enumerate(dataloader):\n",
        "        X, y = X.to(device), y.to(device)\n",
        "\n",
        "        # Compute prediction error\n",
        "        pred = model(X)\n",
        "        loss = loss_fn(pred, y)\n",
        "\n",
        "        # Backpropagation\n",
        "        optimizer.zero_grad()\n",
        "        loss.backward()\n",
        "        optimizer.step()\n",
        "\n",
        "        if batch % 100 == 0:\n",
        "            loss, current = loss.item(), batch*len(X)\n",
        "            print(f'loss: {loss:>7f} [{current:>5d}/{size:>5d}]')"
      ],
      "metadata": {
        "id": "n15V6bQLnXgG"
      },
      "execution_count": null,
      "outputs": []
    },
    {
      "cell_type": "markdown",
      "source": [
        "Also check the model's performance against the test dataset to ensure it is learning"
      ],
      "metadata": {
        "id": "lIbSB1MvoU0z"
      }
    },
    {
      "cell_type": "code",
      "source": [
        "def test(dataloader, model, loss_fn):\n",
        "    size = len(dataloader.dataset)\n",
        "    num_batches = len(dataloader)\n",
        "    model.eval()\n",
        "\n",
        "    test_loss, correct = 0, 0\n",
        "    with torch.no_grad():\n",
        "        for X, y in dataloader:\n",
        "            X, y = X.to(device), y.to(device)\n",
        "            pred = model(X)\n",
        "            test_loss += loss_fn(pred, y).item()\n",
        "            correct += (pred.argmax(1) == y).type(torch.float).sum().item()\n",
        "    test_loss /= num_batches\n",
        "    correct /= size\n",
        "    print(f'Test Error: \\n Accuracy: {(100*correct):>0.1f}%, Avg loss: {test_loss:>8f} \\n')"
      ],
      "metadata": {
        "id": "MW-ceDLBoQMW"
      },
      "execution_count": null,
      "outputs": []
    },
    {
      "cell_type": "markdown",
      "source": [
        "The training process is conducted over several iterations (*epochs*). During each epoch, the model learns parameters to make better predictions."
      ],
      "metadata": {
        "id": "Tu4mLPxXpRpR"
      }
    },
    {
      "cell_type": "code",
      "source": [
        "epochs = 5\n",
        "for t in range(epochs):\n",
        "    print(f'Epoch {t+1}\\n-----------------------------')\n",
        "    train(train_dataloader, model, loss_fn, optimizer)\n",
        "    test(test_dataloader, model, loss_fn)\n",
        "print('Done!')"
      ],
      "metadata": {
        "id": "WkUNd3E5pOz_"
      },
      "execution_count": null,
      "outputs": []
    },
    {
      "cell_type": "markdown",
      "source": [
        "##Saving Models\n",
        "To save a model, we need to serialize the internal state dictionary (containing the model parameters)."
      ],
      "metadata": {
        "id": "D5giqnONtuyM"
      }
    },
    {
      "cell_type": "code",
      "source": [
        "torch.save(model.state_dict(), 'model.pth')\n",
        "print('Saved PyTorch Model State to model.pth')"
      ],
      "metadata": {
        "id": "XxyUS92mpqOt"
      },
      "execution_count": null,
      "outputs": []
    },
    {
      "cell_type": "markdown",
      "source": [
        "##Loading Models\n",
        "The process for loading a model includes re-creating the model structure and loading the state dictionary into it."
      ],
      "metadata": {
        "id": "NT7srmB1uX0g"
      }
    },
    {
      "cell_type": "code",
      "source": [
        "model = NeuralNetwork()\n",
        "model.load_state_dict(torch.load('model.pth'))"
      ],
      "metadata": {
        "id": "-DXHpgilufHd"
      },
      "execution_count": null,
      "outputs": []
    },
    {
      "cell_type": "markdown",
      "source": [
        "This model can be used to make predictions now:"
      ],
      "metadata": {
        "id": "RlHsYN2huoGL"
      }
    },
    {
      "cell_type": "code",
      "source": [
        "classes = ['T-shirt/top', 'Trouser', 'Pullover', 'Dress', 'Coat',\n",
        "           'Sandal', 'Shirt', 'Sneaker', 'Bag', 'Ankle boot']"
      ],
      "metadata": {
        "id": "4cmx6-KIuq9d"
      },
      "execution_count": null,
      "outputs": []
    },
    {
      "cell_type": "code",
      "source": [
        "model.eval()\n",
        "x, y = test_data[0][0], test_data[0][1]\n",
        "with torch.no_grad():\n",
        "    pred = model(x)\n",
        "    predicted, actual = classes[pred[0].argmax(0)], classes[y]\n",
        "    print(f'Predicted: \"{predicted}\", Actual: \"{actual}\"')"
      ],
      "metadata": {
        "id": "B4LgSvUau4mX"
      },
      "execution_count": null,
      "outputs": []
    },
    {
      "cell_type": "markdown",
      "source": [
        "#TENSORS\n",
        "In PyTorch, tensors are used to encode the inputs and outputs of a model, as well as the model's parameters.\n",
        "\n",
        "Tensors are similar to NumPy's `ndarrays`, except that tensors can run on GPUs or other hardware accelerators. Tensors are also optimized for automatic differentiation."
      ],
      "metadata": {
        "id": "Xe0vTYOpwA6O"
      }
    },
    {
      "cell_type": "code",
      "source": [
        "import torch\n",
        "import numpy as np"
      ],
      "metadata": {
        "id": "T4DCmQWuvWKc"
      },
      "execution_count": null,
      "outputs": []
    },
    {
      "cell_type": "markdown",
      "source": [
        "##Initializing a Tensor"
      ],
      "metadata": {
        "id": "TBYPeUmRxLuP"
      }
    },
    {
      "cell_type": "markdown",
      "source": [
        "* Directly from data"
      ],
      "metadata": {
        "id": "72KL7VwBxfu9"
      }
    },
    {
      "cell_type": "code",
      "source": [
        "data = [[1,2], [3,4]]\n",
        "x_data = torch.tensor(data)\n",
        "x_data"
      ],
      "metadata": {
        "id": "KjD1oaqYxLXV"
      },
      "execution_count": null,
      "outputs": []
    },
    {
      "cell_type": "markdown",
      "source": [
        "* From a Numpy array"
      ],
      "metadata": {
        "id": "BVszFi7sxpNe"
      }
    },
    {
      "cell_type": "code",
      "source": [
        "np_array = np.array(data)\n",
        "x_np = torch.from_numpy(np_array)\n",
        "x_np"
      ],
      "metadata": {
        "id": "z65OS0rXxoRQ"
      },
      "execution_count": null,
      "outputs": []
    },
    {
      "cell_type": "markdown",
      "source": [
        "* From another tensor"
      ],
      "metadata": {
        "id": "Dqhz9hiSxwts"
      }
    },
    {
      "cell_type": "markdown",
      "source": [
        "The new tensor retains the properties (shape, datatype) of the argument tensor, unless explicitly overridden."
      ],
      "metadata": {
        "id": "LLOw_-uSx8Jf"
      }
    },
    {
      "cell_type": "code",
      "source": [
        "x_ones = torch.ones_like(x_data) # retains the properties of x_data\n",
        "print(f'Ones Tensor: \\n {x_ones} \\n')"
      ],
      "metadata": {
        "id": "NGW3l5vRxv1u"
      },
      "execution_count": null,
      "outputs": []
    },
    {
      "cell_type": "code",
      "source": [
        "x_rand = torch.rand_like(x_data, dtype=torch.float) # overrides the dataype of x_data\n",
        "print(f'Random Tensor: \\n {x_rand} \\n')"
      ],
      "metadata": {
        "id": "Dk8BoUJpyLED"
      },
      "execution_count": null,
      "outputs": []
    },
    {
      "cell_type": "markdown",
      "source": [
        "* With random or constant values"
      ],
      "metadata": {
        "id": "HaG1NXiYz5uY"
      }
    },
    {
      "cell_type": "markdown",
      "source": [
        "`shape` is a tuple of tensor dimensions."
      ],
      "metadata": {
        "id": "-S4izYYh0AGl"
      }
    },
    {
      "cell_type": "code",
      "source": [
        "shape = (2,3,)\n",
        "\n",
        "rand_tensor = torch.rand(shape)\n",
        "print(f'Random Tensor: \\n {rand_tensor} \\n')\n",
        "\n",
        "ones_tensor = torch.ones(shape)\n",
        "print(f'Ones Tensor: \\n {ones_tensor} \\n')\n",
        "\n",
        "zeros_tensor = torch.zeros(shape)\n",
        "print(f'Zeros Tensor: \\n {zeros_tensor}')"
      ],
      "metadata": {
        "id": "S6FkjmcJz1eH"
      },
      "execution_count": null,
      "outputs": []
    },
    {
      "cell_type": "markdown",
      "source": [
        "##Attributes of a Tensor"
      ],
      "metadata": {
        "id": "dZIiUCXg0Yjc"
      }
    },
    {
      "cell_type": "code",
      "source": [
        "tensor = torch.rand(3,4)\n",
        "\n",
        "print(f'Shape of tesor: {tensor.shape}')\n",
        "print(f'Datatype of tensor: {tensor.dtype}')\n",
        "print(f'Device tensor is stored on: {tensor.device}')"
      ],
      "metadata": {
        "id": "nXoOpBIt0XXg"
      },
      "execution_count": null,
      "outputs": []
    },
    {
      "cell_type": "markdown",
      "source": [
        "##Operations on Tensors\n",
        "By default, tensors are created on the CPU. We need to explicitly move tensors to the GPU using `.to` method (after checking for GPU availability). Keep in mind that copying large tensors across devices can be expensive in terms of time and memory!"
      ],
      "metadata": {
        "id": "0ThXLq0n0qSV"
      }
    },
    {
      "cell_type": "code",
      "source": [
        "# move tensor to the GPU if available\n",
        "if torch.cuda.is_available():\n",
        "    tensor = tensor.to('cuda')"
      ],
      "metadata": {
        "id": "LI8nlf1h0pXa"
      },
      "execution_count": null,
      "outputs": []
    },
    {
      "cell_type": "markdown",
      "source": [
        "* Standard numpy-like indexing and slicing"
      ],
      "metadata": {
        "id": "Afuj-rja1L1M"
      }
    },
    {
      "cell_type": "code",
      "source": [
        "tensor = torch.ones(4,4)\n",
        "\n",
        "print('First row: ', tensor[0])\n",
        "print('First column: ', tensor[:,0])\n",
        "print('Last column: ', tensor[..., -1])\n",
        "\n",
        "tensor[:,1] = 0\n",
        "print(tensor)"
      ],
      "metadata": {
        "id": "8X4CGQy01PM0"
      },
      "execution_count": null,
      "outputs": []
    },
    {
      "cell_type": "markdown",
      "source": [
        "* Joining tensors"
      ],
      "metadata": {
        "id": "aPa7Z_5m1omo"
      }
    },
    {
      "cell_type": "markdown",
      "source": [
        "`torch.cat` concatenates a sequence of tensors along a given dimension"
      ],
      "metadata": {
        "id": "2QLJ7hu-14tn"
      }
    },
    {
      "cell_type": "code",
      "source": [
        "t1 = torch.cat([tensor, tensor, tensor], dim=1)\n",
        "print(t1)"
      ],
      "metadata": {
        "id": "vgLk1M681eHr"
      },
      "execution_count": null,
      "outputs": []
    },
    {
      "cell_type": "markdown",
      "source": [
        "`torch.stack` stacks a sequence of tensors along a given dimension"
      ],
      "metadata": {
        "id": "4Y7PdMJs19fF"
      }
    },
    {
      "cell_type": "code",
      "source": [
        "t2 = torch.stack([tensor, tensor, tensor], dim=1)\n",
        "print(t2)"
      ],
      "metadata": {
        "id": "IUOD8EL-1u8w"
      },
      "execution_count": null,
      "outputs": []
    },
    {
      "cell_type": "markdown",
      "source": [
        "* Arithmetic operations"
      ],
      "metadata": {
        "id": "YYXZsCF42I5T"
      }
    },
    {
      "cell_type": "code",
      "source": [
        "# This computes the matrix multiplication between two tensors\n",
        "# y1, y2, y3 will have the same value\n",
        "y1 = tensor @ tensor.T\n",
        "print(y1)"
      ],
      "metadata": {
        "id": "W5NAML5810nU"
      },
      "execution_count": null,
      "outputs": []
    },
    {
      "cell_type": "code",
      "source": [
        "y2 = tensor.matmul(tensor.T)\n",
        "print(y2)"
      ],
      "metadata": {
        "id": "yZiOl7e42XIV"
      },
      "execution_count": null,
      "outputs": []
    },
    {
      "cell_type": "code",
      "source": [
        "y3 = torch.rand_like(tensor)\n",
        "torch.matmul(tensor, tensor.T, out=y3)"
      ],
      "metadata": {
        "id": "3lLOnVIV2huQ"
      },
      "execution_count": null,
      "outputs": []
    },
    {
      "cell_type": "code",
      "source": [
        "# This computes the element-wise product.\n",
        "# z1, z2, z3 will have the same value\n",
        "z1 = tensor * tensor\n",
        "print(z1)"
      ],
      "metadata": {
        "id": "GIBIVv5P2qxy"
      },
      "execution_count": null,
      "outputs": []
    },
    {
      "cell_type": "code",
      "source": [
        "z2 = tensor.mul(tensor)\n",
        "print(z2)"
      ],
      "metadata": {
        "id": "SkwvKw2126ZV"
      },
      "execution_count": null,
      "outputs": []
    },
    {
      "cell_type": "code",
      "source": [
        "z3 = torch.rand_like(tensor)\n",
        "torch.mul(tensor, tensor, out=z3)"
      ],
      "metadata": {
        "id": "fEnyvuCx2-h3"
      },
      "execution_count": null,
      "outputs": []
    },
    {
      "cell_type": "markdown",
      "source": [
        "* Single-element tensors"
      ],
      "metadata": {
        "id": "BHkmlwTO3JSJ"
      }
    },
    {
      "cell_type": "markdown",
      "source": [
        "For a one-element tensor, for example by aggregating all values of a tensor into one value, we can convert it to a Python numerical value using `item()`"
      ],
      "metadata": {
        "id": "vVkn3hRv3LJ8"
      }
    },
    {
      "cell_type": "code",
      "source": [
        "agg = tensor.sum()\n",
        "agg_item = agg.item()\n",
        "print(agg, type(agg))\n",
        "print(agg_item, type(agg_item))"
      ],
      "metadata": {
        "id": "N87BiQV03EPe"
      },
      "execution_count": null,
      "outputs": []
    },
    {
      "cell_type": "markdown",
      "source": [
        "* In-place operations"
      ],
      "metadata": {
        "id": "2HRG9TsZ3bxO"
      }
    },
    {
      "cell_type": "markdown",
      "source": [
        "Operations that store the result into the operand are called in-place. They are denoted by a `_` suffix"
      ],
      "metadata": {
        "id": "gd1W7qaz3iug"
      }
    },
    {
      "cell_type": "code",
      "source": [
        "print(tensor, '\\n')\n",
        "tensor.add_(5)\n",
        "print(tensor)"
      ],
      "metadata": {
        "id": "R4V8erUX3Zv-"
      },
      "execution_count": null,
      "outputs": []
    },
    {
      "cell_type": "markdown",
      "source": [
        "##Bridge with NumPy"
      ],
      "metadata": {
        "id": "UTqioezT30YP"
      }
    },
    {
      "cell_type": "markdown",
      "source": [
        "###Tensor to NumPy array"
      ],
      "metadata": {
        "id": "pcD2hCqt37NN"
      }
    },
    {
      "cell_type": "code",
      "source": [
        "t = torch.ones(5)\n",
        "print(f't: {t}')\n",
        "n = t.numpy()\n",
        "print(f'n: {n}')"
      ],
      "metadata": {
        "id": "DnvwkFGY3ufy"
      },
      "execution_count": null,
      "outputs": []
    },
    {
      "cell_type": "markdown",
      "source": [
        "A change in the tensor reflects in the NumPy array"
      ],
      "metadata": {
        "id": "PfOSBXys4Ik7"
      }
    },
    {
      "cell_type": "code",
      "source": [
        "t.add_(1)\n",
        "print(f't: {t}')\n",
        "print(f'n: {n}')"
      ],
      "metadata": {
        "id": "ikSJz16f4G9q"
      },
      "execution_count": null,
      "outputs": []
    },
    {
      "cell_type": "markdown",
      "source": [
        "###NumPy array to Tensor"
      ],
      "metadata": {
        "id": "6qd8HPVm4RXr"
      }
    },
    {
      "cell_type": "code",
      "source": [
        "n = np.ones(5)\n",
        "t = torch.from_numpy(n)\n",
        "print(f'n: {n}')\n",
        "print(f't: {t}')"
      ],
      "metadata": {
        "id": "HLsbfsoK4PPv"
      },
      "execution_count": null,
      "outputs": []
    },
    {
      "cell_type": "markdown",
      "source": [
        "Changes in the NumPy array reflects in the tensor"
      ],
      "metadata": {
        "id": "CZI7FluV4bwS"
      }
    },
    {
      "cell_type": "code",
      "source": [
        "np.add(n, 1, out=n)\n",
        "print(f'n: {n}')\n",
        "print(f't: {t}')"
      ],
      "metadata": {
        "id": "F_1U1a8e4a36"
      },
      "execution_count": null,
      "outputs": []
    },
    {
      "cell_type": "markdown",
      "source": [
        "#DATASETS & DATALOADERS\n",
        "`torch.utils.data.Dataset` stores the samples and their corresponding labels, and `torch.utils.data.DataLoader` wraps an iterable around the `Dataset` to enable easy access to the samples.\n",
        "\n",
        "PyTorch domain libraries provide a number of pre-loaded datasets (such as FashionMNIST) that subclass `torch.utils.data.Dataset` and implement functions specific to the particular data."
      ],
      "metadata": {
        "id": "_GOT7azq4oLG"
      }
    },
    {
      "cell_type": "markdown",
      "source": [
        "The FashionMNIST Dataset has the following parameters:\n",
        "* `root` is the path where the train/test data is stored,\n",
        "* `train` specifies training or test dataset,\n",
        "* `download=True` downloads the data from the internet if it is not available at `root`,\n",
        "* `transform` and `target_transform` specify the feature and label transformations"
      ],
      "metadata": {
        "id": "BMPwWZrD5bFK"
      }
    },
    {
      "cell_type": "code",
      "source": [
        "import torch\n",
        "from torch.utils.data import Dataset\n",
        "from torchvision import datasets\n",
        "from torchvision.transforms import ToTensor\n",
        "import matplotlib.pyplot as plt"
      ],
      "metadata": {
        "id": "KDiIkznY4l68"
      },
      "execution_count": null,
      "outputs": []
    },
    {
      "cell_type": "code",
      "source": [
        "training_data = datasets.FashionMNIST(\n",
        "    root='data',\n",
        "    train=True,\n",
        "    download=True,\n",
        "    transform=ToTensor()\n",
        ")\n",
        "test_data = datasets.FashionMNIST(\n",
        "    root='data',\n",
        "    train=False,\n",
        "    download=True,\n",
        "    transform=ToTensor()\n",
        ")"
      ],
      "metadata": {
        "id": "AyxhSOd36DDo"
      },
      "execution_count": null,
      "outputs": []
    },
    {
      "cell_type": "markdown",
      "source": [
        "##Iterating and Visualizing the Dataset\n",
        "We can index `Datasets` manually like a list: `training_data[index]`. Use `matplotlib` to visualize some samples in the training data"
      ],
      "metadata": {
        "id": "dcFxpqHz6SRt"
      }
    },
    {
      "cell_type": "code",
      "source": [
        "labels_map = {\n",
        "    0: 'T-Shirt',\n",
        "    1: 'Trouser',\n",
        "    2: 'Pullover',\n",
        "    3: 'Dress',\n",
        "    4: 'Coat',\n",
        "    5: 'Sandal',\n",
        "    6: 'Shirt',\n",
        "    7: 'Sneaker',\n",
        "    8: 'Bag',\n",
        "    9: 'Ankle Boot'\n",
        "}\n",
        "\n",
        "figure = plt.figure(figsize=(8,8))\n",
        "cols, rows = 3,3\n",
        "for i in range(1, cols * rows + 1):\n",
        "    sample_idx = torch.randint(len(training_data),\n",
        "                               size=(1,)).item()\n",
        "    img, label = training_data[sample_idx]\n",
        "\n",
        "    figure.add_subplot(rows, cols, i)\n",
        "    plt.title(labels_map[label])\n",
        "    plt.axis('off')\n",
        "    plt.imshow(img.squeeze(), cmap='gray')\n",
        "plt.show()"
      ],
      "metadata": {
        "id": "3hah1Dhi6QZw"
      },
      "execution_count": null,
      "outputs": []
    },
    {
      "cell_type": "markdown",
      "source": [
        "##Creating a Custom Dataset for your files\n",
        "A custom Dataset class must implement three functions: `__init__`, `__len__`, and `__getitem__`."
      ],
      "metadata": {
        "id": "lZlQQ6Ga7WqU"
      }
    },
    {
      "cell_type": "markdown",
      "source": [
        "If the FahsionMNIST images are stored in a direction `img_dir`, and their labels are stored separately in a CSV file `annotations_file`."
      ],
      "metadata": {
        "id": "Aq7ijtLt7m_p"
      }
    },
    {
      "cell_type": "code",
      "source": [
        "import os\n",
        "import pandas as pd\n",
        "from torchvision.io import read_image"
      ],
      "metadata": {
        "id": "nbfnnkkj7S7I"
      },
      "execution_count": null,
      "outputs": []
    },
    {
      "cell_type": "code",
      "source": [
        "class CustomImageDataset(Dataset):\n",
        "    def __init__(self, annotations_file, img_dir, transform=None, target_transform=None):\n",
        "        self.img_labels = pd.read_csv(annotations_file)\n",
        "        self.img_dir = img_dir\n",
        "        self.transform = transform\n",
        "        self.target_transform = target_transform\n",
        "\n",
        "    def __len__(self):\n",
        "        return len(self.img_labels)\n",
        "\n",
        "    def __getitem(self, idx):\n",
        "        img_path = os.path.join(self.img_dir,\n",
        "                                self.img_labels.iloc[idx, 0])\n",
        "        image = read_image(img_path)\n",
        "        label = self.img_labels.iloc[idx, 1]\n",
        "\n",
        "        if self.transform:\n",
        "            image = self.transform(image)\n",
        "        if self.target_transform:\n",
        "            label = self.target_transform(label)\n",
        "        return image, label"
      ],
      "metadata": {
        "id": "BHRnxxvY74bG"
      },
      "execution_count": null,
      "outputs": []
    },
    {
      "cell_type": "markdown",
      "source": [
        "###`__init__`\n",
        "The `__init__` function is run once when instantiating the Dataset object. We initialize the directory containing the images, the annotations file, and both transforms.\n",
        "\n",
        "The labels.csv file looks like:\n",
        "```\n",
        "tshirt1.jpg, 0\n",
        "tshirt2.jpg, 0\n",
        "......\n",
        "ankleboot999.jpy, 9\n",
        "```"
      ],
      "metadata": {
        "id": "57moNUgA8wfk"
      }
    },
    {
      "cell_type": "code",
      "source": [
        "def __init__(self, annotations_file, img_dir, transform=None, target_transform=None):\n",
        "    self.img_labels = pd.read_csv(annotations_file, \n",
        "                                  names=['file_name', 'label'])\n",
        "    self.img_dir = img_dir\n",
        "    self.transform = transform\n",
        "    self.target_transform = target_transform"
      ],
      "metadata": {
        "id": "YRp0RuGD9gzt"
      },
      "execution_count": null,
      "outputs": []
    },
    {
      "cell_type": "markdown",
      "source": [
        "###`__len__`\n",
        "the number of samples in the dataset"
      ],
      "metadata": {
        "id": "MHD-K7kX98XF"
      }
    },
    {
      "cell_type": "code",
      "source": [
        "def __len__(self):\n",
        "    return len(self.img_labels)"
      ],
      "metadata": {
        "id": "6VTpfYqy-AYz"
      },
      "execution_count": null,
      "outputs": []
    },
    {
      "cell_type": "markdown",
      "source": [
        "###`__getitem__`\n",
        "The `__getitem__` function loads and returns a sample from the dataset at the given index `idx`.\n",
        "\n",
        "Based on the index, it identifies the image's location on disk, converts that to a tensor using `read_image`, retrieves the corresponding label from the csv data in `self.img_labels`, calls the transform function on them (if applicable), and returns the tensor image and corresponding label in a tuple."
      ],
      "metadata": {
        "id": "mGv9Ran4-Drj"
      }
    },
    {
      "cell_type": "code",
      "source": [
        "def __getitem__(self, idx):\n",
        "    img_path = os.path_join(self.img_dir,\n",
        "                            self.img_labels.iloc[idx,0])\n",
        "    image = read_image(img_path)\n",
        "    label = self.img_labels.iloc[idx, 1]\n",
        "\n",
        "    if self.transform:\n",
        "        image = self.transform(image)\n",
        "    if self.target_transform:\n",
        "        label = self.target_transform(label)\n",
        "    return image, label"
      ],
      "metadata": {
        "id": "5TBrebbs-6oX"
      },
      "execution_count": null,
      "outputs": []
    },
    {
      "cell_type": "markdown",
      "source": [
        "##Preparing your data fro training with DataLoaders\n",
        "The `Dataset` retrieves dataset's features and labels on sample at a time. While training a model, we typically want to pass samples in \"minibatches\", reshuffle the data at every epoch to reduce model overfitting, and use Python's `multiprocessing` to speed up data retrieval.\n",
        "\n",
        "`DataLoader` is an iterable that abstracts this complexity:"
      ],
      "metadata": {
        "id": "kjTk9uB3_UpF"
      }
    },
    {
      "cell_type": "code",
      "source": [
        "from torch.utils.data import DataLoader"
      ],
      "metadata": {
        "id": "XnKlYKfR_uKJ"
      },
      "execution_count": null,
      "outputs": []
    },
    {
      "cell_type": "code",
      "source": [
        "train_dataloader = DataLoader(training_data, \n",
        "                              batch_size=64,\n",
        "                              shuffle=True)\n",
        "test_dataloader = DataLoader(test_dataloader,\n",
        "                             batch_size=64,\n",
        "                             shuffle=True)"
      ],
      "metadata": {
        "id": "cBnwYpPx_wak"
      },
      "execution_count": null,
      "outputs": []
    },
    {
      "cell_type": "markdown",
      "source": [
        "##Iterate through the DataLoader\n",
        "After loading the dataset into the `DataLoader`, we can iterate through the dataset as needed. Each iteration below returns a batch of `train_features` and `train_labels` (containing `batch_size=64` features and labels, respectively). `shuffle=True` means the data will be shuffled after we iterate all batches."
      ],
      "metadata": {
        "id": "hKm0SNhc_-EZ"
      }
    },
    {
      "cell_type": "code",
      "source": [
        "# Display image and label\n",
        "train_features, train_labels = next(iter(train_dataloader))\n",
        "print(f'Feature batch shape: {train_features.size()}')\n",
        "print(f'Labels batch shape: {train_labels.size()}')\n",
        "\n",
        "img = train_features[0].squeeze()\n",
        "label = train_labels[0]\n",
        "plt.imshow(img, cmap='gray')\n",
        "plt.show()\n",
        "print(f'Label: {label}')"
      ],
      "metadata": {
        "id": "U6k4tbE-_9mb"
      },
      "execution_count": null,
      "outputs": []
    },
    {
      "cell_type": "code",
      "source": [
        "train_features[0].shape, train_features[0].squeeze().shape"
      ],
      "metadata": {
        "id": "tjUN810DA1jD"
      },
      "execution_count": null,
      "outputs": []
    },
    {
      "cell_type": "markdown",
      "source": [
        "#TRANSFORMS\n",
        "The transforms are used to perform some manipulation of the data and make it suitable for training"
      ],
      "metadata": {
        "id": "pwhLM7gvBN0l"
      }
    },
    {
      "cell_type": "markdown",
      "source": [
        "All TorchVision datasets have two parameters - `transform` to modify the features and `target_transform` to modify the labels - that accept callables containing the transformation logic. The `torchvision.transforms` module offers several commony-used transforms out of the box.\n",
        "\n",
        "The FahsionMNIST features are in PIL image format, and the labels are integers. For training, we need the features as normalized tensors, and the labels as one-hot encoded tensors. To make these transformations, we use `ToTensor` and `Lambda`."
      ],
      "metadata": {
        "id": "TBT5IY2VD_Ny"
      }
    },
    {
      "cell_type": "code",
      "source": [
        "import torch\n",
        "from torchvision import datasets\n",
        "from torchvision.transforms import ToTensor, Lambda"
      ],
      "metadata": {
        "id": "IarL368SA-Vu"
      },
      "execution_count": null,
      "outputs": []
    },
    {
      "cell_type": "code",
      "source": [
        "ds = datasets.FashionMNIST(\n",
        "    root='data',\n",
        "    train=True,\n",
        "    download=True,\n",
        "    transform=ToTensor(),\n",
        "    target_transform=Lambda(lambda y: torch.zeros(10, dtype=torch.float).scatter_(0, torch.tensor(y), value=1))\n",
        ")"
      ],
      "metadata": {
        "id": "IVhx1ARSElVS"
      },
      "execution_count": null,
      "outputs": []
    },
    {
      "cell_type": "markdown",
      "source": [
        "##`ToTensor()`\n",
        "`ToTensor` convets a PIL image or NumPy `ndarray` into a `FloatTensor`. and scales the image's pixel intensity values in the range [0., 1.]."
      ],
      "metadata": {
        "id": "F5jUgNPuE8CB"
      }
    },
    {
      "cell_type": "markdown",
      "source": [
        "##`Lambda` Transforms\n",
        "Lambda transforms apply any user-defined lambda function.\n",
        "\n",
        "Here, this lambda function turns the integer into a one-hot encoded tensor. It first creates a zero tensor of size 10 (the number of labels in the dataset) and calls `scatter_` which assigns a `value=1` on the index as given by the label `y`."
      ],
      "metadata": {
        "id": "Qx5zb1aFIkfj"
      }
    },
    {
      "cell_type": "code",
      "source": [
        "target_transform=Lambda(lambda y: torch.zeros(10, \n",
        "                                              dtype=torch.float).scatter_(dim=0, \n",
        "                                                                         index=torch.tensor(y), value=1))\n",
        ")"
      ],
      "metadata": {
        "id": "Dld20Lc1E6GB"
      },
      "execution_count": null,
      "outputs": []
    },
    {
      "cell_type": "markdown",
      "source": [
        "#BUILD THE NEURAL NETWORK\n",
        "The `torch.nn` namespace provides all the building blocks we need to build neural network. Every module in PyTorch subclasses the `nn.Module`. A neutral network is a module itself that consists of other modules (layers). This nested structure allows for building and managing complex architecturs easily."
      ],
      "metadata": {
        "id": "d_mxIsnWJKrx"
      }
    },
    {
      "cell_type": "markdown",
      "source": [
        "The following sections are used to build a neural network to classify images in the FashionMNIST dataset."
      ],
      "metadata": {
        "id": "-6bZeox-qI3r"
      }
    },
    {
      "cell_type": "code",
      "source": [
        "import os\n",
        "import torch\n",
        "from torch import nn\n",
        "from torch.utils.data import DataLoader\n",
        "from torchvision import datasets, transforms"
      ],
      "metadata": {
        "id": "t37W_lKDJNdp"
      },
      "execution_count": null,
      "outputs": []
    },
    {
      "cell_type": "markdown",
      "source": [
        "##Get Device for Training"
      ],
      "metadata": {
        "id": "oJD1PIMzqYp0"
      }
    },
    {
      "cell_type": "code",
      "source": [
        "device = 'cuda' if torch.cuda.is_available() else 'cpu'\n",
        "print(f'Using {device} device')"
      ],
      "metadata": {
        "id": "hjJL9th9qYGr"
      },
      "execution_count": null,
      "outputs": []
    },
    {
      "cell_type": "markdown",
      "source": [
        "##Define the Class\n",
        "We define neural networks by subclassing `nn.Module`, and initialize the neural network layers in `__init__`. Every `nn.Module` subclass implements the operations on input data in the `forward` method."
      ],
      "metadata": {
        "id": "XVN4begEqkR2"
      }
    },
    {
      "cell_type": "code",
      "source": [
        "class NeuralNetwork(nn.Module):\n",
        "    def __init__(self):\n",
        "        super(NeuralNetwork, self).__init__()\n",
        "        self.flatten = nn.Flatten()\n",
        "        self.linear_relu_stack = nn.Sequential(\n",
        "            nn.Linear(28*28, 512),\n",
        "            nn.ReLU(),\n",
        "            nn.Linear(512, 512),\n",
        "            nn.ReLU(),\n",
        "            nn.Linear(512, 10)\n",
        "        )\n",
        "\n",
        "    def forward(self, x):\n",
        "        x = self.flatten(x)\n",
        "        logits = self.linear_relu_stack(x)\n",
        "        return logits"
      ],
      "metadata": {
        "id": "68kcVMcfrdRC"
      },
      "execution_count": null,
      "outputs": []
    },
    {
      "cell_type": "markdown",
      "source": [
        "We can create an instance of `NeuralNetwork`, and move it to the `device`, and print its structure"
      ],
      "metadata": {
        "id": "1A5iAXKOsAcD"
      }
    },
    {
      "cell_type": "code",
      "source": [
        "model = NeuralNetwork().to(device)\n",
        "print(model)"
      ],
      "metadata": {
        "id": "SV2QBPxgr8Jw"
      },
      "execution_count": null,
      "outputs": []
    },
    {
      "cell_type": "markdown",
      "source": [
        "To use this model, we pass it the input data. This executes the model's `forward`, along with some background operations. Do NOT call `model.forward()` directly!\n",
        "\n",
        "Calling the model on the input returns a 10-dimensional tensor with raw predicted values for each class. We get the prediction probabilities by passing it through an instance of the `nn.Softmax` module."
      ],
      "metadata": {
        "id": "FEG-L3lfsKuq"
      }
    },
    {
      "cell_type": "code",
      "source": [
        "X = torch.rand(1, 28, 28, device=device)\n",
        "logits = model(X)\n",
        "pred_probab = nn.Softmax(dim=1)(logits)\n",
        "y_pred = pred_probab.argmax(1)\n",
        "print(f'Predicted class: {y_pred}')"
      ],
      "metadata": {
        "id": "CC_4-nZ5sJSo"
      },
      "execution_count": null,
      "outputs": []
    },
    {
      "cell_type": "markdown",
      "source": [
        "##Model Layers\n",
        "Sampling a minibatch of 3 images of size 28x28 and passing it through the network"
      ],
      "metadata": {
        "id": "nl5okyw3ttQS"
      }
    },
    {
      "cell_type": "code",
      "source": [
        "input_image = torch.rand(3, 28, 28)\n",
        "print(input_image.size())"
      ],
      "metadata": {
        "id": "MFhr7r30tma6"
      },
      "execution_count": null,
      "outputs": []
    },
    {
      "cell_type": "markdown",
      "source": [
        "###`nn.Flatten`\n",
        "We initialize the `nn.Flatten` layer to convert each 2D 28x28 image into a contiguous array of 784 pixel values (the minibatch diemnsion (at `dim=0` is maintained)."
      ],
      "metadata": {
        "id": "_aDmGAY9t_8b"
      }
    },
    {
      "cell_type": "code",
      "source": [
        "flatten = nn.Flatten()\n",
        "flat_image = flatten(input_image)\n",
        "print(flat_image.size())"
      ],
      "metadata": {
        "id": "3fdFAX7zt_V5"
      },
      "execution_count": null,
      "outputs": []
    },
    {
      "cell_type": "markdown",
      "source": [
        "###`nn.Linear`\n",
        "The linear layer is a module that applies a linear transformation on the input using its stored weights and biases"
      ],
      "metadata": {
        "id": "Td7CX6uiuTJ1"
      }
    },
    {
      "cell_type": "code",
      "source": [
        "layer1 = nn.Linear(in_features=28*28, out_features=20)\n",
        "hidden1 = layer1(flat_image)\n",
        "print(hidden1.size())"
      ],
      "metadata": {
        "id": "McG1Mrr8uSbv"
      },
      "execution_count": null,
      "outputs": []
    },
    {
      "cell_type": "markdown",
      "source": [
        "###`nn.ReLU`\n",
        "Non-linear activations are what create the complex mappings between the model's inputs and outputs. They are applied after linear transformations to introduce *nonlinearity*, helping neural networks learn a wide variety of phenomena.\n",
        "\n",
        "In this model, we use `nn.ReLU` between linear layers, but there is other activations to introduce non-linearity as well."
      ],
      "metadata": {
        "id": "wdmVT9URvpds"
      }
    },
    {
      "cell_type": "code",
      "source": [
        "print(f'Before ReLU: {hidden1}\\n\\n')\n",
        "hidden1 = nn.ReLU()(hidden1)\n",
        "print(f'After ReLU: {hidden1}')"
      ],
      "metadata": {
        "id": "XRSEl9QqvU8K"
      },
      "execution_count": null,
      "outputs": []
    },
    {
      "cell_type": "markdown",
      "source": [
        "###`nn.Sequential`\n",
        "`nn.Sequential` is an ordered container of modules. The data is passed through all the modules in the same order as defined."
      ],
      "metadata": {
        "id": "DT7NT8-pwtpe"
      }
    },
    {
      "cell_type": "code",
      "source": [
        "seq_modules = nn.Sequential(\n",
        "    flatten,\n",
        "    layer1,\n",
        "    nn.ReLU(),\n",
        "    nn.Linear(20,10)\n",
        ")\n",
        "input_image = torch.rand(3,28,28)\n",
        "logits = seq_modules(input_image)"
      ],
      "metadata": {
        "id": "ajqTJdQawg1I"
      },
      "execution_count": null,
      "outputs": []
    },
    {
      "cell_type": "markdown",
      "source": [
        "###`nn.Softmax`\n",
        "The returned logits above contain raw values in [-infty, infty]. As we pass it through the `nn.Softmax` module, the logits are scaled to values [0,1] representing the model's predicted probabilities for each class. `dim` parameter indicates the dimension along which the values must sum to 1."
      ],
      "metadata": {
        "id": "GFbpm8XcyMFq"
      }
    },
    {
      "cell_type": "code",
      "source": [
        "softmax = nn.Softmax(dim=1)\n",
        "pred_probab = softmax(logits)"
      ],
      "metadata": {
        "id": "-EjBLRRQzC2T"
      },
      "execution_count": null,
      "outputs": []
    },
    {
      "cell_type": "markdown",
      "source": [
        "##Model Parameters\n",
        "Many layers inside a neural network are *parameterized*, i.e. have associated weights and biases that are optimized during training. Subclassing `nn.Module` automatically tracks all fields defined inside the model object, and makes all parameters accessible using the model's `parameters()` or `named_parameters()` methods.\n",
        "\n",
        "In this example, we iterate over each parameter, and print its size and a preview of its valus:"
      ],
      "metadata": {
        "id": "RygkeVf9zGgM"
      }
    },
    {
      "cell_type": "code",
      "source": [
        "print('Model structure: ', model, '\\n\\n')\n",
        "\n",
        "for name, param in model.named_parameters():\n",
        "    print(f'Layer: {name} | Size: {param.size()} | Values: {param[:2]} \\n')"
      ],
      "metadata": {
        "id": "Lg1ZSYo6zhfs"
      },
      "execution_count": null,
      "outputs": []
    },
    {
      "cell_type": "markdown",
      "source": [
        "#AUTOMATIC DIFFERENTIATION WITH `TORCH.AUTOGRAD`"
      ],
      "metadata": {
        "id": "tYnSeUWIz3fP"
      }
    },
    {
      "cell_type": "markdown",
      "source": [
        "In the backpropagation, parameters (model weights) are adjusted according to the **gradient** of the loss function with respect to the given parameter.\n",
        "\n",
        "To compute those gradients, PyTorch has a built-in differentiation engine called `torch.autograd`. It supports automatic computation of gradient for any computational graph.\n",
        "\n",
        "Consider the simplest one-layer neural network, with input `x`, parameters `w` and `b`, and some loss function."
      ],
      "metadata": {
        "id": "Zm2agMBiz7zm"
      }
    },
    {
      "cell_type": "code",
      "source": [
        "import torch\n",
        "\n",
        "x = torch.ones(5) # input tensor\n",
        "y = torch.zeros(3) # expected output\n",
        "w = torch.randn(5, 3, requires_grad=True)\n",
        "b = torch.randn(3, requires_grad=True)\n",
        "z = torch.matmul(x, w) + b\n",
        "loss = torch.nn.functional.binary_cross_entropy_with_logits(z, y)"
      ],
      "metadata": {
        "id": "SZzscwqM0lQb"
      },
      "execution_count": null,
      "outputs": []
    },
    {
      "cell_type": "markdown",
      "source": [
        "In this network, `w` and `b` are parameters, which we need to optimize. Thus, we need to be able to compute the gradients of loss function with respect to those variables. In order to do that, we set the `requires_grad` property of those tensors.\n",
        "\n",
        "You can set the value of `requires_grad` when creating a tensor, or later by using `x.requires_grad_(True)` method."
      ],
      "metadata": {
        "id": "zbpagKMg1BjX"
      }
    },
    {
      "cell_type": "markdown",
      "source": [
        "A function that we apply to tensors to construct computational graph is... in fact... an object of class `Function`. This object knows how to compute the function in the *forward* direction, and also now to compute its derivative during the *backward propagation* step. A reference to the backward propagation function is stored in `grad_fn` property of a tensor."
      ],
      "metadata": {
        "id": "Eul7kU7m2A_P"
      }
    },
    {
      "cell_type": "code",
      "source": [
        "print('Gradient function for z =', z.grad_fn)\n",
        "print('Gradient function for loss =', loss.grad_fn)"
      ],
      "metadata": {
        "id": "w9s3pwJK07yC"
      },
      "execution_count": null,
      "outputs": []
    },
    {
      "cell_type": "markdown",
      "source": [
        "##Computing Gradients\n",
        "To optimize weights of parameters in the neural network, we need to compute the derivatives of the loss function with respect to parameters. To compute those derivatives, we call `loss.backward()`, and then retrieve the values from `w.grad` and `b.grad`:"
      ],
      "metadata": {
        "id": "yN_1TLIi2j-0"
      }
    },
    {
      "cell_type": "code",
      "source": [
        "loss.backward()\n",
        "print(w.grad)\n",
        "print(b.grad)"
      ],
      "metadata": {
        "id": "5VCMexIK2hIQ"
      },
      "execution_count": null,
      "outputs": []
    },
    {
      "cell_type": "markdown",
      "source": [
        "* We can only obtain the `grad` properties for the leaf nodes of the computational graph, which have `requires_grad` property set to `True`. For all other nodes in the graph, gradients will not be available.\n",
        "* We can only perform gradient calculations using `backward` once on a given graph, for performance reasons. If we need to do several `backward` calls on the same graph, we need to pass `retain_graph=True` to the `backward` call."
      ],
      "metadata": {
        "id": "WLKnJ3cz3CTb"
      }
    },
    {
      "cell_type": "markdown",
      "source": [
        "##Disabling Gradient Tracking\n",
        "By default, all tensors with `requires_grad=True` are tracking their computational history and support gradient computation.\n",
        "\n",
        "There are some cases when we do not need to do that, for example, when we have trained the model and just want to apply it to some input data, i.e. we only want to do `forward` computation through the network. We can stop tracking computations by surrounding the computation code with `torch.no_grad()` block:"
      ],
      "metadata": {
        "id": "e84e2rGe3v2y"
      }
    },
    {
      "cell_type": "code",
      "source": [
        "z = torch.matmul(x, w) + b\n",
        "print(z.requires_grad)\n",
        "\n",
        "with torch.no_grad():\n",
        "    z = torch.matmul(x, w) + b\n",
        "print(z.requires_grad)"
      ],
      "metadata": {
        "id": "fPBlXCja2-Hk"
      },
      "execution_count": null,
      "outputs": []
    },
    {
      "cell_type": "markdown",
      "source": [
        "Another way to achieve the same result is to use the `detach()` method on the tensor:"
      ],
      "metadata": {
        "id": "TddBrJVP4fXI"
      }
    },
    {
      "cell_type": "code",
      "source": [
        "z = torch.matmul(x, w) + b\n",
        "z_det = z.detach()\n",
        "print(z_det.requires_grad)"
      ],
      "metadata": {
        "id": "Cm4_DAE94c2q"
      },
      "execution_count": null,
      "outputs": []
    },
    {
      "cell_type": "markdown",
      "source": [
        "Reasons we may want to disable gradient tracking:\n",
        "* To mark some parameters in neural network as **frozen parameters**. This is a very common scenario for finetuning a pretrained network\n",
        "* To speed up computation when we are only doing forward pass, because computation on tensors that do not track gradients would be more efficient."
      ],
      "metadata": {
        "id": "QDKVq4fb4tjO"
      }
    },
    {
      "cell_type": "markdown",
      "source": [
        "###More on Computational Graphs\n",
        "Autograd keeps a record of data (tensors) and all executed operations (along with the resulting new tensors) in a directed acyclic graph (DAG) consisting of `Function` objects. In this DAG, leaves are the input tensors, roots are the output tensors. By tracing this graph from roots to leaves, we can automatically compute the gradients using the chain rule.\n",
        "\n",
        "In a `forward` pass, autograd does two things simultaneously:\n",
        "* run the requested operation to compute a resulting tensor\n",
        "* maintain the operation's gradient function in the DAG\n",
        "\n",
        "The `backward` pass kicks off when `.backward()` is called on the DAG root. `autograd` then:\n",
        "* computes the gradients from each `.grad_fn`,\n",
        "* accumulates them in the respective tensor's `.grad` attribute,\n",
        "* propagates all the way to theleaf tensors using the chain rule."
      ],
      "metadata": {
        "id": "QBGkjo9t5Q0P"
      }
    },
    {
      "cell_type": "markdown",
      "source": [
        "The graph is recreated from scratch, after each `.backward()` call, autograd starts populating a new graph. This is exactly what allows us to use control flow statements in the model, we can change the shape, size and operations at every iteration if needed."
      ],
      "metadata": {
        "id": "eOTDdXHH6WYU"
      }
    },
    {
      "cell_type": "markdown",
      "source": [
        "#OPTIMIZING MODEL PARAMETERS\n"
      ],
      "metadata": {
        "id": "I2CzhDgK7Hee"
      }
    },
    {
      "cell_type": "markdown",
      "source": [
        "Training a model is an iterative process; in each iteration (called an epoch) the model makes a guess about the output, calculates the error in its guess (loss), collects the derivatives of the error with respect to its parameters, and **optimizes** these parameters using gradient descent."
      ],
      "metadata": {
        "id": "YdLErWoT7J_W"
      }
    },
    {
      "cell_type": "markdown",
      "source": [
        "##Prerequisite Code"
      ],
      "metadata": {
        "id": "Mgg69waM7ftK"
      }
    },
    {
      "cell_type": "code",
      "source": [
        "import torch\n",
        "from torch import nn\n",
        "from torch.utils.data import DataLoader\n",
        "from torchvision import datasets\n",
        "from torchvision.transforms import ToTensor, Lambda"
      ],
      "metadata": {
        "id": "KtAZz1504qlc"
      },
      "execution_count": null,
      "outputs": []
    },
    {
      "cell_type": "code",
      "source": [
        "training_data = datasets.FashionMNIST(\n",
        "    root='data',\n",
        "    train=True,\n",
        "    download=True,\n",
        "    transform=ToTensor()\n",
        ")\n",
        "test_data = datasets.FashionMNIST(\n",
        "    root='data',\n",
        "    train=False,\n",
        "    download=True,\n",
        "    transform=ToTensor()\n",
        ")\n",
        "\n",
        "train_dataloader = DataLoader(training_data, batch_size=64)\n",
        "test_dataloader = DataLoader(test_data, batch_size=64)"
      ],
      "metadata": {
        "id": "kVNRI1_37lZI"
      },
      "execution_count": null,
      "outputs": []
    },
    {
      "cell_type": "code",
      "source": [
        "class NeuralNetwork(nn.Module):\n",
        "    def __init__(self):\n",
        "        super(NeuralNetwork, self).__init__()\n",
        "        self.flatten = nn.Flatten()\n",
        "        self.linear_relu_stack = nn.Sequential(\n",
        "            nn.Linear(28*28, 512),\n",
        "            nn.ReLU(),\n",
        "            nn.Linear(512, 512),\n",
        "            nn.ReLU(),\n",
        "            nn.Linear(512, 10),\n",
        "        )\n",
        "\n",
        "    def forward(self, x):\n",
        "        x = self.flatten(x)\n",
        "        logits = self.linear_relu_stack(x)\n",
        "        return logits\n",
        "\n",
        "model = NeuralNetwork()"
      ],
      "metadata": {
        "id": "woWgYy3K78Ej"
      },
      "execution_count": null,
      "outputs": []
    },
    {
      "cell_type": "markdown",
      "source": [
        "##Hyperparameters\n",
        "Hyperparameters are adjustable parameters that let us control the model optimization process."
      ],
      "metadata": {
        "id": "Db1UjLXu8Lgi"
      }
    },
    {
      "cell_type": "markdown",
      "source": [
        "We define the following hyperparameters for training:\n",
        "* **Number of Epochs** - the number times to iterate over the dataset\n",
        "* **Batch Size** - the number of data samples propagated through the network before the parameters are updated\n",
        "* **Learning Rate** - how much to update models parameters at each batch/epoch. Smaller values yield slow learning speed, while large values may result in unpredictable behavior during training."
      ],
      "metadata": {
        "id": "sm_ZUcr9k1ah"
      }
    },
    {
      "cell_type": "code",
      "source": [
        "learning_rate = 1e-3\n",
        "batch_size = 64\n",
        "epochs = 5"
      ],
      "metadata": {
        "id": "OY2C6PWu8J3r"
      },
      "execution_count": null,
      "outputs": []
    },
    {
      "cell_type": "markdown",
      "source": [
        "##Optimization Loop\n",
        "Each epoch consists of two main parts:\n",
        "* **Train Loop** - iterate over the training dataset and try to converge to optimal parameters\n",
        "* **Validation/Test Loop** - iterate over the test dataset to check if model performance is improving "
      ],
      "metadata": {
        "id": "vkFQ1HjUlyJA"
      }
    },
    {
      "cell_type": "markdown",
      "source": [
        "##Loss Function\n",
        "**Loss function** measures the degree of dissimlarity of obtained result to the target value, and it is the loss function that we want to minimize during training."
      ],
      "metadata": {
        "id": "QoqDYU1nmamC"
      }
    },
    {
      "cell_type": "markdown",
      "source": [
        "Common loss functions include `nn.MSELoss` (Mean Square Error) for regression tasks, and `nn.NLLLoss` (Negative Log Likelihood) for classification. `nn.CrossEntropyLoss` combines `nn.LogSoftmax` and `nn.NLLLoss`."
      ],
      "metadata": {
        "id": "sDarFOqxnBXO"
      }
    },
    {
      "cell_type": "markdown",
      "source": [
        "##Optimizer\n",
        "**Optimization algorithms** define how the training process is performed. All optimization logic is encapsulated in the `optimizer` object."
      ],
      "metadata": {
        "id": "nq9kZccUnVDI"
      }
    },
    {
      "cell_type": "markdown",
      "source": [
        "We initialize the optimizer by registering the model's parameters that need to be trained, and passing in the learning rate hyperparameter."
      ],
      "metadata": {
        "id": "NJh4wifDnnZV"
      }
    },
    {
      "cell_type": "code",
      "source": [
        "optimizer = torch.optim.SGD(model.parameters(), lr=learning_rate)"
      ],
      "metadata": {
        "id": "maB7VKL1nvuj"
      },
      "execution_count": null,
      "outputs": []
    },
    {
      "cell_type": "markdown",
      "source": [
        "Inside the training loop, optimization happens in three steps:\n",
        "* Call `optimizer.zero_grad()` to reset the gradients of model parameters. Gradients by default add up; to prevent double-counting, we expilictly zero them at each iteration.\n",
        "* Backpropagate the prediction loss with a call to `loss.backward()`.\n",
        "* Once having gradients, we call `optimizer.step()` to adjust the parameters by the gradients collected in the backward pass."
      ],
      "metadata": {
        "id": "nlj7MoVTn0N5"
      }
    },
    {
      "cell_type": "markdown",
      "source": [
        "##Full Implementation"
      ],
      "metadata": {
        "id": "tCDgD15ponfX"
      }
    },
    {
      "cell_type": "code",
      "source": [
        "def train_loop(dataloader, model, loss_fn, optimizer):\n",
        "    size = len(dataloader.dataset)\n",
        "    for batch, (X, y) in enumerate(dataloader):\n",
        "        # Compute prediction and loss\n",
        "        pred = model(X)\n",
        "        loss = loss_fn(pred, y)\n",
        "\n",
        "        # Backpropagation\n",
        "        optimizer.zero_grad()\n",
        "        loss.backward()\n",
        "        optimizer.step()\n",
        "\n",
        "        if batch % 100 == 0:\n",
        "            loss, current = loss.item(), batch * len(X)\n",
        "            print(f'loss: {loss:>7f} [{current:>5d}/{size:>5d}]')\n",
        "\n",
        "def test_loop(dataloader, model, loss_fn):\n",
        "    size = len(dataloader.dataset)\n",
        "    num_batches = len(dataloader)\n",
        "    test_loss, correct = 0,0\n",
        "\n",
        "    with torch.no_grad():\n",
        "        for X, y in dataloader:\n",
        "            pred = model(X)\n",
        "            test_loss += loss_fn(pred, y).item()\n",
        "            correct += (pred.argmax(1) == y).type(torch.float).sum().item()\n",
        "\n",
        "    test_loss /= num_batches\n",
        "    correct /= size\n",
        "    print(f'Test Error: \\n Accuracy: {(100*correct):0.1f}%, Avg loss: {test_loss:>8f} \\n')"
      ],
      "metadata": {
        "id": "40GBA89aop4O"
      },
      "execution_count": null,
      "outputs": []
    },
    {
      "cell_type": "markdown",
      "source": [
        "We initialize the loss function and optimizer, and pass it to `train_loop` and `test_loop`."
      ],
      "metadata": {
        "id": "XJvRQoE9rMLB"
      }
    },
    {
      "cell_type": "code",
      "source": [
        "loss_fn = nn.CrossEntropyLoss()\n",
        "optimizer = torch.optim.SGD(model.parameters(), lr=learning_rate)\n",
        "\n",
        "epochs = 10\n",
        "for i in range(epochs):\n",
        "    print(f'Epoch {t+1}\\n--------------------------')\n",
        "    train_loop(train_dataloader, model, loss_fn, optimizer)\n",
        "    test_loop(test_dataloader, model, loss_fn)\n",
        "print('Done!')"
      ],
      "metadata": {
        "id": "-VBEhSparLoG"
      },
      "execution_count": null,
      "outputs": []
    },
    {
      "cell_type": "markdown",
      "source": [
        "#SAVE AND LOAD THE MODEL"
      ],
      "metadata": {
        "id": "vC5jH-y1UAEk"
      }
    },
    {
      "cell_type": "code",
      "source": [
        "import torch\n",
        "import torchvision.models as models"
      ],
      "metadata": {
        "id": "d7vnTPvOUCMU"
      },
      "execution_count": null,
      "outputs": []
    },
    {
      "cell_type": "markdown",
      "source": [
        "##Saving and Loading Model Weights\n",
        "PyTorch models store the learned parameters in an internal state dictionary, called `state_dict`. These can be persisted via the `torch.save` method:"
      ],
      "metadata": {
        "id": "MYkXZxt4UGpJ"
      }
    },
    {
      "cell_type": "code",
      "source": [
        "model = models.vgg16(pretrained=True)\n",
        "torch.save(model.state_dict(), 'model_weights.pth')"
      ],
      "metadata": {
        "id": "PUmVXFpKrp92"
      },
      "execution_count": null,
      "outputs": []
    },
    {
      "cell_type": "markdown",
      "source": [
        "To load model weights, we need to create an instance of the same model first, and then load the parameters using `load_state_dict()` method."
      ],
      "metadata": {
        "id": "ynwoRIaCUd-k"
      }
    },
    {
      "cell_type": "code",
      "source": [
        "model = models.vgg16() # we do not specify pretrain=True\n",
        "model.load_state_dict(torch.load('model_weights.pth'))\n",
        "model.eval()"
      ],
      "metadata": {
        "id": "rUhS8eqlU7BN"
      },
      "execution_count": null,
      "outputs": []
    },
    {
      "cell_type": "markdown",
      "source": [
        "Note: be sure to call `model.eval()` method before inferencing to set the dropout and batch normalization layers to evaluation mode. Failing to do this will yield inconsistent inference results."
      ],
      "metadata": {
        "id": "OWPFN45rVM2n"
      }
    },
    {
      "cell_type": "markdown",
      "source": [
        "##Saving and Loading Models with Shapes\n",
        "When loading model weights, we needed to instantiate the model class first, because the class deinfes the structure of a network. We may want to save the structure of this class together with the model, in which we can pass `model` (and not `model.state_dict()`) to the saving function:"
      ],
      "metadata": {
        "id": "BE5Y501FVX-m"
      }
    },
    {
      "cell_type": "code",
      "source": [
        "torch.save(model, 'model.pth')"
      ],
      "metadata": {
        "id": "xWwWySPgVuzx"
      },
      "execution_count": null,
      "outputs": []
    },
    {
      "cell_type": "markdown",
      "source": [
        "Then we can load the model:"
      ],
      "metadata": {
        "id": "NApcPZ34VxBt"
      }
    },
    {
      "cell_type": "code",
      "source": [
        "model = torch.load('model.pth')"
      ],
      "metadata": {
        "id": "B_w2H_ixVzGu"
      },
      "execution_count": null,
      "outputs": []
    }
  ]
}