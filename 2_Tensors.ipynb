{
  "nbformat": 4,
  "nbformat_minor": 0,
  "metadata": {
    "colab": {
      "name": "2. Tensors.ipynb",
      "provenance": [],
      "authorship_tag": "ABX9TyOTUjaWnrC15TR/n6QObD2a",
      "include_colab_link": true
    },
    "kernelspec": {
      "name": "python3",
      "display_name": "Python 3"
    },
    "language_info": {
      "name": "python"
    }
  },
  "cells": [
    {
      "cell_type": "markdown",
      "metadata": {
        "id": "view-in-github",
        "colab_type": "text"
      },
      "source": [
        "<a href=\"https://colab.research.google.com/github/lblogan14/PyTorch_tutorial_colab/blob/main/2_Tensors.ipynb\" target=\"_parent\"><img src=\"https://colab.research.google.com/assets/colab-badge.svg\" alt=\"Open In Colab\"/></a>"
      ]
    },
    {
      "cell_type": "markdown",
      "source": [
        "Tensors are the central data abstraction in PyTorch"
      ],
      "metadata": {
        "id": "gMChDeHc9F4m"
      }
    },
    {
      "cell_type": "code",
      "execution_count": null,
      "metadata": {
        "id": "-qLRR3iR9BdE"
      },
      "outputs": [],
      "source": [
        "import torch\n",
        "import math"
      ]
    },
    {
      "cell_type": "markdown",
      "source": [
        "#Creating Tensors"
      ],
      "metadata": {
        "id": "f4bsqMw_9QLN"
      }
    },
    {
      "cell_type": "markdown",
      "source": [
        "The simplest way to create a tensor is with the `torch.empty()` call:"
      ],
      "metadata": {
        "id": "SQmtPb4E9S1y"
      }
    },
    {
      "cell_type": "code",
      "source": [
        "x = torch.empty(3, 4)\n",
        "print(type(x))\n",
        "print(x)"
      ],
      "metadata": {
        "colab": {
          "base_uri": "https://localhost:8080/"
        },
        "id": "7CiM7udg9PO6",
        "outputId": "45932da7-a302-4a04-9ab7-602152ced9ae"
      },
      "execution_count": null,
      "outputs": [
        {
          "output_type": "stream",
          "name": "stdout",
          "text": [
            "<class 'torch.Tensor'>\n",
            "tensor([[1.5758e+03, 3.0789e-41, 3.3631e-44, 0.0000e+00],\n",
            "        [       nan, 6.4460e-44, 1.1578e+27, 1.1362e+30],\n",
            "        [7.1547e+22, 4.5828e+30, 1.2121e+04, 7.1846e+22]])\n"
          ]
        }
      ]
    },
    {
      "cell_type": "markdown",
      "source": [
        "* We created a tensor using one of the numerous factory methods attached to the `torch` module.\n",
        "* The tensor itself is 2D, having 3 rows and 4 columns.\n",
        "* The type of this object is `torch.Tensor`; by default, PyTorch tensors are populated with 32-bit floating point numbers.\n",
        "* The `torch.empty()` call allocates memory for the tensor, but does not intialize it with any values"
      ],
      "metadata": {
        "id": "ZGfVPOWQ9d3i"
      }
    },
    {
      "cell_type": "markdown",
      "source": [
        "More often we want to initialize tensors with some value. Common cases are all zeros, all ones, or random values:"
      ],
      "metadata": {
        "id": "vqHopzE2-R9J"
      }
    },
    {
      "cell_type": "code",
      "source": [
        "zeros = torch.zeros(2, 3)\n",
        "print(zeros)"
      ],
      "metadata": {
        "colab": {
          "base_uri": "https://localhost:8080/"
        },
        "id": "C5g3klmS9Z9z",
        "outputId": "6e0d2b81-7433-42e8-de81-af7db9f446cb"
      },
      "execution_count": null,
      "outputs": [
        {
          "output_type": "stream",
          "name": "stdout",
          "text": [
            "tensor([[0., 0., 0.],\n",
            "        [0., 0., 0.]])\n"
          ]
        }
      ]
    },
    {
      "cell_type": "code",
      "source": [
        "ones = torch.ones(2, 3)\n",
        "print(ones)"
      ],
      "metadata": {
        "colab": {
          "base_uri": "https://localhost:8080/"
        },
        "id": "q_dHYg2Y-bgF",
        "outputId": "bc89244e-6dc2-44c8-eaa9-389640c7bd24"
      },
      "execution_count": null,
      "outputs": [
        {
          "output_type": "stream",
          "name": "stdout",
          "text": [
            "tensor([[1., 1., 1.],\n",
            "        [1., 1., 1.]])\n"
          ]
        }
      ]
    },
    {
      "cell_type": "code",
      "source": [
        "torch.manual_seed(1)\n",
        "random = torch.rand(2, 3)\n",
        "print(random)"
      ],
      "metadata": {
        "colab": {
          "base_uri": "https://localhost:8080/"
        },
        "id": "guaXH0xX-dCr",
        "outputId": "ff8e9e25-99a4-44a1-cb33-693ffe0169e9"
      },
      "execution_count": null,
      "outputs": [
        {
          "output_type": "stream",
          "name": "stdout",
          "text": [
            "tensor([[0.7576, 0.2793, 0.4031],\n",
            "        [0.7347, 0.0293, 0.7999]])\n"
          ]
        }
      ]
    },
    {
      "cell_type": "markdown",
      "source": [
        "#Random Tensors and Seeding\n",
        "Remember to manually set the random number generator's seed for reproducibility"
      ],
      "metadata": {
        "id": "JsYeE0KD-kRC"
      }
    },
    {
      "cell_type": "code",
      "source": [
        "torch.manual_seed(1)\n",
        "random1 = torch.rand(2, 3)\n",
        "print('Random1: ')\n",
        "print(random1)\n",
        "\n",
        "random2 = torch.rand(2, 3)\n",
        "print('\\nRandom2: ')\n",
        "print(random2)\n",
        "\n",
        "torch.manual_seed(1)\n",
        "random3 = torch.rand(2, 3)\n",
        "print('\\nRandom3: ')\n",
        "print(random3)\n",
        "print('Should be identical to Random1')\n",
        "\n",
        "random4 = torch.rand(2, 3)\n",
        "print('\\nRandom4: ')\n",
        "print(random4)\n",
        "print('Should be identical to Random2')"
      ],
      "metadata": {
        "colab": {
          "base_uri": "https://localhost:8080/"
        },
        "id": "v9PYXHRs-gtB",
        "outputId": "239602e9-6d64-4962-832c-b17c92e6129c"
      },
      "execution_count": null,
      "outputs": [
        {
          "output_type": "stream",
          "name": "stdout",
          "text": [
            "Random1: \n",
            "tensor([[0.7576, 0.2793, 0.4031],\n",
            "        [0.7347, 0.0293, 0.7999]])\n",
            "\n",
            "Random2: \n",
            "tensor([[0.3971, 0.7544, 0.5695],\n",
            "        [0.4388, 0.6387, 0.5247]])\n",
            "\n",
            "Random3: \n",
            "tensor([[0.7576, 0.2793, 0.4031],\n",
            "        [0.7347, 0.0293, 0.7999]])\n",
            "Should be identical to Random1\n",
            "\n",
            "Random4: \n",
            "tensor([[0.3971, 0.7544, 0.5695],\n",
            "        [0.4388, 0.6387, 0.5247]])\n",
            "Should be identical to Random2\n"
          ]
        }
      ]
    },
    {
      "cell_type": "markdown",
      "source": [
        "#Tensor Shapes\n",
        "Often, when performing operations on two or more tensors, we expect them to be of the same shape. For that, we have the `torch.*_like()` methods:"
      ],
      "metadata": {
        "id": "uBw1LlVa_QwM"
      }
    },
    {
      "cell_type": "code",
      "source": [
        "x = torch.empty(2, 2, 3)\n",
        "print(x.shape)\n",
        "print(x)"
      ],
      "metadata": {
        "colab": {
          "base_uri": "https://localhost:8080/"
        },
        "id": "X4MSrfTC-3Rg",
        "outputId": "81c14840-0e4c-4368-9e59-a316d08f8be8"
      },
      "execution_count": null,
      "outputs": [
        {
          "output_type": "stream",
          "name": "stdout",
          "text": [
            "torch.Size([2, 2, 3])\n",
            "tensor([[[1.5760e+03, 3.0789e-41, 0.0000e+00],\n",
            "         [0.0000e+00, 0.0000e+00, 0.0000e+00]],\n",
            "\n",
            "        [[0.0000e+00, 0.0000e+00, 0.0000e+00],\n",
            "         [0.0000e+00, 0.0000e+00, 0.0000e+00]]])\n"
          ]
        }
      ]
    },
    {
      "cell_type": "code",
      "source": [
        "empty_like_x = torch.empty_like(x)\n",
        "print(empty_like_x.shape)\n",
        "print(empty_like_x)"
      ],
      "metadata": {
        "colab": {
          "base_uri": "https://localhost:8080/"
        },
        "id": "PsD7BA5eD1gH",
        "outputId": "71fd557a-04f5-4fad-bfa1-d5e0994bda9e"
      },
      "execution_count": null,
      "outputs": [
        {
          "output_type": "stream",
          "name": "stdout",
          "text": [
            "torch.Size([2, 2, 3])\n",
            "tensor([[[1.5760e+03, 3.0789e-41, 3.3631e-44],\n",
            "         [0.0000e+00,        nan, 0.0000e+00]],\n",
            "\n",
            "        [[1.1578e+27, 1.1362e+30, 7.1547e+22],\n",
            "         [4.5828e+30, 1.2121e+04, 7.1846e+22]]])\n"
          ]
        }
      ]
    },
    {
      "cell_type": "code",
      "source": [
        "zeros_like_x = torch.zeros_like(x)\n",
        "print(zeros_like_x.shape)\n",
        "print(zeros_like_x)"
      ],
      "metadata": {
        "colab": {
          "base_uri": "https://localhost:8080/"
        },
        "id": "FlnjbHDqD7EH",
        "outputId": "ef14483e-3626-4e16-ee4e-333a26264c63"
      },
      "execution_count": null,
      "outputs": [
        {
          "output_type": "stream",
          "name": "stdout",
          "text": [
            "torch.Size([2, 2, 3])\n",
            "tensor([[[0., 0., 0.],\n",
            "         [0., 0., 0.]],\n",
            "\n",
            "        [[0., 0., 0.],\n",
            "         [0., 0., 0.]]])\n"
          ]
        }
      ]
    },
    {
      "cell_type": "code",
      "source": [
        "ones_like_x = torch.ones_like(x)\n",
        "print(ones_like_x.shape)\n",
        "print(ones_like_x)"
      ],
      "metadata": {
        "colab": {
          "base_uri": "https://localhost:8080/"
        },
        "id": "WUiEUKLSELye",
        "outputId": "dca1f286-6387-441b-b9f2-504c12aca6c5"
      },
      "execution_count": null,
      "outputs": [
        {
          "output_type": "stream",
          "name": "stdout",
          "text": [
            "torch.Size([2, 2, 3])\n",
            "tensor([[[1., 1., 1.],\n",
            "         [1., 1., 1.]],\n",
            "\n",
            "        [[1., 1., 1.],\n",
            "         [1., 1., 1.]]])\n"
          ]
        }
      ]
    },
    {
      "cell_type": "code",
      "source": [
        "rand_like_x = torch.rand_like(x)\n",
        "print(rand_like_x.shape)\n",
        "print(rand_like_x)"
      ],
      "metadata": {
        "colab": {
          "base_uri": "https://localhost:8080/"
        },
        "id": "auxmmQzJERPr",
        "outputId": "30a51a5f-7b5c-4b53-d6fe-0021be8d0296"
      },
      "execution_count": null,
      "outputs": [
        {
          "output_type": "stream",
          "name": "stdout",
          "text": [
            "torch.Size([2, 2, 3])\n",
            "tensor([[[0.6826, 0.3051, 0.4635],\n",
            "         [0.4550, 0.5725, 0.4980]],\n",
            "\n",
            "        [[0.9371, 0.6556, 0.3138],\n",
            "         [0.1980, 0.4162, 0.2843]]])\n"
          ]
        }
      ]
    },
    {
      "cell_type": "markdown",
      "source": [
        "Another way to create a tensor is to specify its data directly from a PyTorch collection:"
      ],
      "metadata": {
        "id": "hWoWqIrUEeVn"
      }
    },
    {
      "cell_type": "code",
      "source": [
        "some_constants = torch.tensor([[1.1, 2.2], [3.3, 4.4]])\n",
        "print(some_constants)"
      ],
      "metadata": {
        "colab": {
          "base_uri": "https://localhost:8080/"
        },
        "id": "WE39vixoEXpW",
        "outputId": "bdb3e22c-1f49-45b5-d52c-7619678ba0e0"
      },
      "execution_count": null,
      "outputs": [
        {
          "output_type": "stream",
          "name": "stdout",
          "text": [
            "tensor([[1.1000, 2.2000],\n",
            "        [3.3000, 4.4000]])\n"
          ]
        }
      ]
    },
    {
      "cell_type": "code",
      "source": [
        "some_integers = torch.tensor((2,3,5,7,11,13,17,19))\n",
        "print(some_integers)"
      ],
      "metadata": {
        "colab": {
          "base_uri": "https://localhost:8080/"
        },
        "id": "M0vxEbZ2E4hw",
        "outputId": "d0aa01c6-5ead-4126-b62c-f1a9298ee3e4"
      },
      "execution_count": null,
      "outputs": [
        {
          "output_type": "stream",
          "name": "stdout",
          "text": [
            "tensor([ 2,  3,  5,  7, 11, 13, 17, 19])\n"
          ]
        }
      ]
    },
    {
      "cell_type": "code",
      "source": [
        "more_integers = torch.tensor(((2,4,6), [3,6,9]))\n",
        "print(more_integers)"
      ],
      "metadata": {
        "colab": {
          "base_uri": "https://localhost:8080/"
        },
        "id": "tgm5ZVozFASm",
        "outputId": "dd4bfd96-e640-4052-cd4e-bf0cb23daf0c"
      },
      "execution_count": null,
      "outputs": [
        {
          "output_type": "stream",
          "name": "stdout",
          "text": [
            "tensor([[2, 4, 6],\n",
            "        [3, 6, 9]])\n"
          ]
        }
      ]
    },
    {
      "cell_type": "markdown",
      "source": [
        "Using `torch.tensor()` is the most straightforward way to create a tensor if we alreay have data in a Python tuple or list.\n",
        "\n",
        "Note: `torch.tensor()` creates a copy of data."
      ],
      "metadata": {
        "id": "Uz6Sq13oFew9"
      }
    },
    {
      "cell_type": "markdown",
      "source": [
        "#Tensor Data Types\n",
        "Setting the datatype of a tensor:"
      ],
      "metadata": {
        "id": "dVQJIq9VF20P"
      }
    },
    {
      "cell_type": "code",
      "source": [
        "a = torch.ones((2,3), dtype=torch.int16)\n",
        "print(a)"
      ],
      "metadata": {
        "colab": {
          "base_uri": "https://localhost:8080/"
        },
        "id": "CnraLqTeFHmZ",
        "outputId": "ea8b20fa-5825-4d56-95c9-1d94118c818d"
      },
      "execution_count": null,
      "outputs": [
        {
          "output_type": "stream",
          "name": "stdout",
          "text": [
            "tensor([[1, 1, 1],\n",
            "        [1, 1, 1]], dtype=torch.int16)\n"
          ]
        }
      ]
    },
    {
      "cell_type": "code",
      "source": [
        "b = torch.rand((2,3), dtype=torch.float64) * 20.\n",
        "print(b)"
      ],
      "metadata": {
        "colab": {
          "base_uri": "https://localhost:8080/"
        },
        "id": "UWJM1EL8XLTs",
        "outputId": "84d97246-cde1-47f9-b815-3cf947cf249c"
      },
      "execution_count": null,
      "outputs": [
        {
          "output_type": "stream",
          "name": "stdout",
          "text": [
            "tensor([[14.3641,  7.6902,  1.7959],\n",
            "        [ 2.3491, 12.8048,  3.9353]], dtype=torch.float64)\n"
          ]
        }
      ]
    },
    {
      "cell_type": "code",
      "source": [
        "c = b.to(torch.int32)\n",
        "print(c)"
      ],
      "metadata": {
        "colab": {
          "base_uri": "https://localhost:8080/"
        },
        "id": "covA46u6XQq1",
        "outputId": "b1c62bb9-c405-44fe-dfa6-b007e1e749ab"
      },
      "execution_count": null,
      "outputs": [
        {
          "output_type": "stream",
          "name": "stdout",
          "text": [
            "tensor([[14,  7,  1],\n",
            "        [ 2, 12,  3]], dtype=torch.int32)\n"
          ]
        }
      ]
    },
    {
      "cell_type": "markdown",
      "source": [
        "Available data types include: `torch.bool`, `torch.int8`, `torch.uint8`, `torch.int16`, `torch.int32`, `torch.int64`, `torch.half`, `torch.float`, `torch.double`, and `torch.bfloat`."
      ],
      "metadata": {
        "id": "Za2ausyuXfyc"
      }
    },
    {
      "cell_type": "markdown",
      "source": [
        "#Math & Logic with PyTorch Tensors"
      ],
      "metadata": {
        "id": "STgp6t3aXxml"
      }
    },
    {
      "cell_type": "markdown",
      "source": [
        "See how tensors interact with simple scalars:"
      ],
      "metadata": {
        "id": "M4c5bbH9X3FV"
      }
    },
    {
      "cell_type": "code",
      "source": [
        "ones = torch.zeros(2,2) + 1\n",
        "print(ones)"
      ],
      "metadata": {
        "colab": {
          "base_uri": "https://localhost:8080/"
        },
        "id": "ppoYvz9zXTpd",
        "outputId": "0c2b3e08-a904-46a2-e8ed-63061781e096"
      },
      "execution_count": null,
      "outputs": [
        {
          "output_type": "stream",
          "name": "stdout",
          "text": [
            "tensor([[1., 1.],\n",
            "        [1., 1.]])\n"
          ]
        }
      ]
    },
    {
      "cell_type": "code",
      "source": [
        "twos = torch.ones(2,2) * 2\n",
        "print(twos)"
      ],
      "metadata": {
        "colab": {
          "base_uri": "https://localhost:8080/"
        },
        "id": "9_VsiHuoX9PE",
        "outputId": "93d3719d-08d0-4180-eb87-9711f6c93ebe"
      },
      "execution_count": null,
      "outputs": [
        {
          "output_type": "stream",
          "name": "stdout",
          "text": [
            "tensor([[2., 2.],\n",
            "        [2., 2.]])\n"
          ]
        }
      ]
    },
    {
      "cell_type": "code",
      "source": [
        "threes = (torch.ones(2,2) * 7 - 1) / 2\n",
        "print(threes)"
      ],
      "metadata": {
        "colab": {
          "base_uri": "https://localhost:8080/"
        },
        "id": "cKEGB-c0X_np",
        "outputId": "161fe7fa-82cb-4f8b-e485-818fe368beb3"
      },
      "execution_count": null,
      "outputs": [
        {
          "output_type": "stream",
          "name": "stdout",
          "text": [
            "tensor([[3., 3.],\n",
            "        [3., 3.]])\n"
          ]
        }
      ]
    },
    {
      "cell_type": "code",
      "source": [
        "fours = twos ** 2\n",
        "print(fours)"
      ],
      "metadata": {
        "colab": {
          "base_uri": "https://localhost:8080/"
        },
        "id": "NeGXV7e8YEjC",
        "outputId": "f8cdce81-86b4-4632-87ab-eaded2014302"
      },
      "execution_count": null,
      "outputs": [
        {
          "output_type": "stream",
          "name": "stdout",
          "text": [
            "tensor([[4., 4.],\n",
            "        [4., 4.]])\n"
          ]
        }
      ]
    },
    {
      "cell_type": "code",
      "source": [
        "sqrt2s = twos ** 0.5\n",
        "print(sqrt2s)"
      ],
      "metadata": {
        "colab": {
          "base_uri": "https://localhost:8080/"
        },
        "id": "zynymwl1YGuv",
        "outputId": "7aa6e340-54bb-43f2-ea0f-4041e472a894"
      },
      "execution_count": null,
      "outputs": [
        {
          "output_type": "stream",
          "name": "stdout",
          "text": [
            "tensor([[1.4142, 1.4142],\n",
            "        [1.4142, 1.4142]])\n"
          ]
        }
      ]
    },
    {
      "cell_type": "markdown",
      "source": [
        "Operations between two tensors:"
      ],
      "metadata": {
        "id": "QRCyKI51YO5B"
      }
    },
    {
      "cell_type": "code",
      "source": [
        "powers2 = twos ** torch.tensor([[1,2],[3,4]])\n",
        "print(powers2)"
      ],
      "metadata": {
        "colab": {
          "base_uri": "https://localhost:8080/"
        },
        "id": "ZG2lOLp-YLBn",
        "outputId": "7e0ced24-6a78-4616-8b6c-ad80a6984f88"
      },
      "execution_count": null,
      "outputs": [
        {
          "output_type": "stream",
          "name": "stdout",
          "text": [
            "tensor([[ 2.,  4.],\n",
            "        [ 8., 16.]])\n"
          ]
        }
      ]
    },
    {
      "cell_type": "code",
      "source": [
        "fives = ones + fours\n",
        "print(fives)"
      ],
      "metadata": {
        "colab": {
          "base_uri": "https://localhost:8080/"
        },
        "id": "ZGcZNVDHYVUp",
        "outputId": "63aae8b9-846f-4f10-db81-d6f146fd0ae6"
      },
      "execution_count": null,
      "outputs": [
        {
          "output_type": "stream",
          "name": "stdout",
          "text": [
            "tensor([[5., 5.],\n",
            "        [5., 5.]])\n"
          ]
        }
      ]
    },
    {
      "cell_type": "code",
      "source": [
        "dozens = threes * fours\n",
        "print(dozens)"
      ],
      "metadata": {
        "colab": {
          "base_uri": "https://localhost:8080/"
        },
        "id": "vNr3xPkOYY5o",
        "outputId": "68b1fe2a-d332-4c45-b36a-06e930964f08"
      },
      "execution_count": null,
      "outputs": [
        {
          "output_type": "stream",
          "name": "stdout",
          "text": [
            "tensor([[12., 12.],\n",
            "        [12., 12.]])\n"
          ]
        }
      ]
    },
    {
      "cell_type": "markdown",
      "source": [
        "This element-wise operations require all tensors are of identical shape."
      ],
      "metadata": {
        "id": "xfaPKDkSYjR9"
      }
    },
    {
      "cell_type": "markdown",
      "source": [
        "#In Brief: Tensor Broadcasting\n",
        "The exception to the same-shape rule is *tensor broadcasting*:"
      ],
      "metadata": {
        "id": "Ewcjc0BAYpcg"
      }
    },
    {
      "cell_type": "code",
      "source": [
        "rand = torch.rand(2,4)\n",
        "doubled = rand * (torch.ones(1,4) * 2)\n",
        "\n",
        "print(rand)\n",
        "print(doubled)"
      ],
      "metadata": {
        "colab": {
          "base_uri": "https://localhost:8080/"
        },
        "id": "KN8mudzvYbQI",
        "outputId": "85254d50-e4e1-4c9b-9009-d791ac19370f"
      },
      "execution_count": null,
      "outputs": [
        {
          "output_type": "stream",
          "name": "stdout",
          "text": [
            "tensor([[0.9391, 0.4167, 0.7140, 0.2676],\n",
            "        [0.9906, 0.2885, 0.8750, 0.5059]])\n",
            "tensor([[1.8781, 0.8334, 1.4280, 0.5353],\n",
            "        [1.9812, 0.5769, 1.7499, 1.0118]])\n"
          ]
        }
      ]
    },
    {
      "cell_type": "markdown",
      "source": [
        "Why is there no error? Broadcasting is a way to perform an operation between tensors that have similarities in their shapes. In the example above, the 1-row, 4-column tensor is multiplied by both rows of the 2-row, 4-column tensor.\n",
        "\n",
        "This is an important operation in Deep Learning. The common example is multiplying a tensor of learning weights by a *batch* of input tensors, applying the operation to each instance in the batch separately, and returning a tensor of identical shape - just like the (2,4)*(1,4) example above returned a tensor of shape (2,4)."
      ],
      "metadata": {
        "id": "B33IZDBQY6Qj"
      }
    },
    {
      "cell_type": "markdown",
      "source": [
        "The rules for broadcasting:\n",
        "* Each tensor must have at least one dimension - no empty tensors.\n",
        "* Comparing the dimension sizes of the two tensors, *going from last to first*:\n",
        "    * Each dimension must be equal, or\n",
        "    * One of the dimensions must be size 1, or\n",
        "    * The dimension does not exist in one of the tensors\n",
        "\n",
        "Here are some examples of situations that honor the above rules and allow broadcasting:"
      ],
      "metadata": {
        "id": "-TDz_0UlZmgF"
      }
    },
    {
      "cell_type": "code",
      "source": [
        "a =     torch.ones(4, 3, 2)\n",
        "\n",
        "b = a * torch.rand(   3, 2) # 3rd & 2nd dims identical to a, dim 1 absent\n",
        "print(b)"
      ],
      "metadata": {
        "colab": {
          "base_uri": "https://localhost:8080/"
        },
        "id": "M4g2ewNFY3mL",
        "outputId": "776f477e-0562-4b37-9624-9bda5803e292"
      },
      "execution_count": null,
      "outputs": [
        {
          "output_type": "stream",
          "name": "stdout",
          "text": [
            "tensor([[[0.2366, 0.7570],\n",
            "         [0.2346, 0.6471],\n",
            "         [0.3556, 0.4452]],\n",
            "\n",
            "        [[0.2366, 0.7570],\n",
            "         [0.2346, 0.6471],\n",
            "         [0.3556, 0.4452]],\n",
            "\n",
            "        [[0.2366, 0.7570],\n",
            "         [0.2346, 0.6471],\n",
            "         [0.3556, 0.4452]],\n",
            "\n",
            "        [[0.2366, 0.7570],\n",
            "         [0.2346, 0.6471],\n",
            "         [0.3556, 0.4452]]])\n"
          ]
        }
      ]
    },
    {
      "cell_type": "markdown",
      "source": [
        "* The multiplication operation that created `b` was broadcast over every \"layer\" of `a`."
      ],
      "metadata": {
        "id": "RBONTIPuakg0"
      }
    },
    {
      "cell_type": "code",
      "source": [
        "a =     torch.ones(4, 3, 2)\n",
        "c = a * torch.rand(   3, 1) # 3rd dim = 1, 2nd dim identical to a\n",
        "print(c)"
      ],
      "metadata": {
        "colab": {
          "base_uri": "https://localhost:8080/"
        },
        "id": "d6soXGWSaNUP",
        "outputId": "ac356ea4-c3e4-4c0f-d3b9-5445d8b231ad"
      },
      "execution_count": null,
      "outputs": [
        {
          "output_type": "stream",
          "name": "stdout",
          "text": [
            "tensor([[[0.0193, 0.0193],\n",
            "         [0.2616, 0.2616],\n",
            "         [0.7713, 0.7713]],\n",
            "\n",
            "        [[0.0193, 0.0193],\n",
            "         [0.2616, 0.2616],\n",
            "         [0.7713, 0.7713]],\n",
            "\n",
            "        [[0.0193, 0.0193],\n",
            "         [0.2616, 0.2616],\n",
            "         [0.7713, 0.7713]],\n",
            "\n",
            "        [[0.0193, 0.0193],\n",
            "         [0.2616, 0.2616],\n",
            "         [0.7713, 0.7713]]])\n"
          ]
        }
      ]
    },
    {
      "cell_type": "markdown",
      "source": [
        "The operation that created `c` was broadcast over every layer and row of `a` - every 3-element column is identical."
      ],
      "metadata": {
        "id": "qsv2JfWKasF_"
      }
    },
    {
      "cell_type": "code",
      "source": [
        "a =     torch.ones(4, 3, 2)\n",
        "d = a * torch.rand(   1, 2) # 3rd dim identical to a, 2nd dim = 1\n",
        "print(d)"
      ],
      "metadata": {
        "colab": {
          "base_uri": "https://localhost:8080/"
        },
        "id": "yHh7DYDpaXto",
        "outputId": "40f46f5c-c4ed-45ca-e3e2-b8835228e15a"
      },
      "execution_count": null,
      "outputs": [
        {
          "output_type": "stream",
          "name": "stdout",
          "text": [
            "tensor([[[0.3785, 0.9980],\n",
            "         [0.3785, 0.9980],\n",
            "         [0.3785, 0.9980]],\n",
            "\n",
            "        [[0.3785, 0.9980],\n",
            "         [0.3785, 0.9980],\n",
            "         [0.3785, 0.9980]],\n",
            "\n",
            "        [[0.3785, 0.9980],\n",
            "         [0.3785, 0.9980],\n",
            "         [0.3785, 0.9980]],\n",
            "\n",
            "        [[0.3785, 0.9980],\n",
            "         [0.3785, 0.9980],\n",
            "         [0.3785, 0.9980]]])\n"
          ]
        }
      ]
    },
    {
      "cell_type": "markdown",
      "source": [
        "For `d`, we switched it around - every row is identical, across layers and columns"
      ],
      "metadata": {
        "id": "xuSzOsIMa1Yv"
      }
    },
    {
      "cell_type": "code",
      "source": [
        "# The followings throw run-time error\n",
        "a =     torch.ones(4, 3, 2)\n",
        "\n",
        "b = a * torch.rand(4, 3)    # dimensions must match last-to-first\n",
        "\n",
        "c = a * torch.rand(   2, 3) # both 3rd & 2nd dims different\n",
        "\n",
        "d = a * torch.rand((0, ))   # can't broadcast with an empty tensor"
      ],
      "metadata": {
        "id": "9TyVIGThafgY"
      },
      "execution_count": null,
      "outputs": []
    },
    {
      "cell_type": "markdown",
      "source": [
        "#More Math with Tensors\n",
        "Some samples from some of the major categories of operations:"
      ],
      "metadata": {
        "id": "BYPwLKpbbgZX"
      }
    },
    {
      "cell_type": "code",
      "source": [
        "# common functions\n",
        "a = torch.rand(2, 4) * 2 - 1\n",
        "print('Common functions:')\n",
        "print(torch.abs(a))\n",
        "print(torch.ceil(a))\n",
        "print(torch.floor(a))\n",
        "print(torch.clamp(a, -0.5, 0.5))"
      ],
      "metadata": {
        "colab": {
          "base_uri": "https://localhost:8080/"
        },
        "id": "3dWueOtyfeUZ",
        "outputId": "8a61292d-a8a7-4d64-df9f-8b5ebf517b4e"
      },
      "execution_count": null,
      "outputs": [
        {
          "output_type": "stream",
          "name": "stdout",
          "text": [
            "Common functions:\n",
            "tensor([[0.8016, 0.0468, 0.6675, 0.6090],\n",
            "        [0.3104, 0.6464, 0.6495, 0.6071]])\n",
            "tensor([[1., -0., -0., 1.],\n",
            "        [1., -0., 1., 1.]])\n",
            "tensor([[ 0., -1., -1.,  0.],\n",
            "        [ 0., -1.,  0.,  0.]])\n",
            "tensor([[ 0.5000, -0.0468, -0.5000,  0.5000],\n",
            "        [ 0.3104, -0.5000,  0.5000,  0.5000]])\n"
          ]
        }
      ]
    },
    {
      "cell_type": "code",
      "source": [
        "# trigonometric functions and their inverses\n",
        "angles = torch.tensor([0, math.pi / 4, math.pi / 2, 3 * math.pi / 4])\n",
        "sines = torch.sin(angles)\n",
        "inverses = torch.asin(sines)\n",
        "print('Sine and arcsine:')\n",
        "print(angles)\n",
        "print(sines)\n",
        "print(inverses)"
      ],
      "metadata": {
        "colab": {
          "base_uri": "https://localhost:8080/"
        },
        "id": "TyGaYIcYfsrv",
        "outputId": "71516deb-602e-4681-81de-16e3718fa653"
      },
      "execution_count": null,
      "outputs": [
        {
          "output_type": "stream",
          "name": "stdout",
          "text": [
            "Sine and arcsine:\n",
            "tensor([0.0000, 0.7854, 1.5708, 2.3562])\n",
            "tensor([0.0000, 0.7071, 1.0000, 0.7071])\n",
            "tensor([0.0000, 0.7854, 1.5708, 0.7854])\n"
          ]
        }
      ]
    },
    {
      "cell_type": "code",
      "source": [
        "# bitwise operations\n",
        "print('Bitwise XOR:')\n",
        "b = torch.tensor([1, 5, 11])\n",
        "c = torch.tensor([2, 7, 10])\n",
        "print(torch.bitwise_xor(b, c))"
      ],
      "metadata": {
        "colab": {
          "base_uri": "https://localhost:8080/"
        },
        "id": "qnlFIDNkgF16",
        "outputId": "4fe9320e-f125-4c5d-eca7-554b19ad88b0"
      },
      "execution_count": null,
      "outputs": [
        {
          "output_type": "stream",
          "name": "stdout",
          "text": [
            "Bitwise XOR:\n",
            "tensor([3, 2, 1])\n"
          ]
        }
      ]
    },
    {
      "cell_type": "code",
      "source": [
        "# comparisons:\n",
        "print('Broadcasted, element-wise equality comparison:')\n",
        "d = torch.tensor([[1., 2.], [3., 4.]])\n",
        "e = torch.ones(1, 2) # many comparison ops support broadcasting!\n",
        "print(torch.eq(d, e)) # return a tensor of type bool"
      ],
      "metadata": {
        "colab": {
          "base_uri": "https://localhost:8080/"
        },
        "id": "7HtSoMt1gPQY",
        "outputId": "49494472-7b83-4eb0-d16a-98c2e3e12bd6"
      },
      "execution_count": null,
      "outputs": [
        {
          "output_type": "stream",
          "name": "stdout",
          "text": [
            "Broadcasted, element-wise equality comparison:\n",
            "tensor([[ True, False],\n",
            "        [False, False]])\n"
          ]
        }
      ]
    },
    {
      "cell_type": "code",
      "source": [
        "# reductions:\n",
        "print('Reduction ops:')\n",
        "print(torch.max(d)) # returns a single-element tensor\n",
        "print(torch.max(d).item()) # extracts the value from the returned tensor\n",
        "print(torch.mean(d)) # average\n",
        "print(torch.std(d)) # std\n",
        "print(torch.prod(d)) # product of all numers\n",
        "print(torch.unique(torch.tensor([1, 2, 1, 2, 1, 2]))) # filter unique elements"
      ],
      "metadata": {
        "colab": {
          "base_uri": "https://localhost:8080/"
        },
        "id": "qTW8tqfJgiKm",
        "outputId": "010c0ddd-8fc3-4862-bb23-6f66b400615f"
      },
      "execution_count": null,
      "outputs": [
        {
          "output_type": "stream",
          "name": "stdout",
          "text": [
            "Reduction ops:\n",
            "tensor(4.)\n",
            "4.0\n",
            "tensor(2.5000)\n",
            "tensor(1.2910)\n",
            "tensor(24.)\n",
            "tensor([1, 2])\n"
          ]
        }
      ]
    },
    {
      "cell_type": "code",
      "source": [
        "# vector and linear algebra\n",
        "v1 = torch.tensor([1., 0., 0.])         # x unit vector\n",
        "v2 = torch.tensor([0., 1., 0.])         # y unit vector\n",
        "m1 = torch.rand(2, 2)                   # random matrix\n",
        "m2 = torch.tensor([[3., 0.], [0., 3.]]) # three times identity matrix\n",
        "\n",
        "print('Vectors & Matrices:')\n",
        "print(torch.cross(v2, v1)) # negative of z unit vector\n",
        "print(m1)\n",
        "\n",
        "m3 = torch.matmul(m1, m2)\n",
        "print(m3) # 3 times m1\n",
        "print(torch.svd(m3)) # svd"
      ],
      "metadata": {
        "colab": {
          "base_uri": "https://localhost:8080/"
        },
        "id": "_jl2h2sLg5nZ",
        "outputId": "1ac29eb0-5ee1-46bc-9584-5f139c078676"
      },
      "execution_count": null,
      "outputs": [
        {
          "output_type": "stream",
          "name": "stdout",
          "text": [
            "Vectors & Matrices:\n",
            "tensor([ 0.,  0., -1.])\n",
            "tensor([[0.5730, 0.1205],\n",
            "        [0.1452, 0.7720]])\n",
            "tensor([[1.7191, 0.3616],\n",
            "        [0.4356, 2.3160]])\n",
            "torch.return_types.svd(\n",
            "U=tensor([[ 0.4394,  0.8983],\n",
            "        [ 0.8983, -0.4394]]),\n",
            "S=tensor([2.5158, 1.5199]),\n",
            "V=tensor([[ 0.4557,  0.8901],\n",
            "        [ 0.8901, -0.4557]]))\n"
          ]
        }
      ]
    },
    {
      "cell_type": "markdown",
      "source": [
        "#Altering Tensors in Place\n",
        "Most binary operations on tensors will return a third, new tensor.\n",
        "\n",
        "There are times that we may wish to alter a tensor in place. For this, most of the math functions have a version with an appended underscore (`_`) that will alter a tensor in place."
      ],
      "metadata": {
        "id": "TcQhGrWWhzcI"
      }
    },
    {
      "cell_type": "code",
      "source": [
        "a = torch.tensor([0, math.pi/4, math.pi/2, 3*math.pi/4])\n",
        "print('a:')\n",
        "print(a)\n",
        "print('\\nsin(a):')\n",
        "print(torch.sin(a)) # this op creates a new tensor in memory\n",
        "print('check a:')\n",
        "print(a) # a has not changed"
      ],
      "metadata": {
        "colab": {
          "base_uri": "https://localhost:8080/"
        },
        "id": "HU-zd-DFhen7",
        "outputId": "488f9348-07aa-49ec-d62d-e073a3b1bc80"
      },
      "execution_count": null,
      "outputs": [
        {
          "output_type": "stream",
          "name": "stdout",
          "text": [
            "a:\n",
            "tensor([0.0000, 0.7854, 1.5708, 2.3562])\n",
            "\n",
            "sin(a):\n",
            "tensor([0.0000, 0.7071, 1.0000, 0.7071])\n",
            "check a:\n",
            "tensor([0.0000, 0.7854, 1.5708, 2.3562])\n"
          ]
        }
      ]
    },
    {
      "cell_type": "code",
      "source": [
        "b = torch.tensor([0, math.pi/4, math.pi/2, 3*math.pi/4])\n",
        "print('b:')\n",
        "print(b)\n",
        "print('\\nsin(b):')\n",
        "print(torch.sin_(b)) # note the underscore\n",
        "print('check b:')\n",
        "print(b) # b has changed"
      ],
      "metadata": {
        "colab": {
          "base_uri": "https://localhost:8080/"
        },
        "id": "g-vKFgsaoHgW",
        "outputId": "f35f2d47-f970-4d23-be73-3ca75bd17dfe"
      },
      "execution_count": null,
      "outputs": [
        {
          "output_type": "stream",
          "name": "stdout",
          "text": [
            "b:\n",
            "tensor([0.0000, 0.7854, 1.5708, 2.3562])\n",
            "\n",
            "sin(b):\n",
            "tensor([0.0000, 0.7071, 1.0000, 0.7071])\n",
            "check b:\n",
            "tensor([0.0000, 0.7071, 1.0000, 0.7071])\n"
          ]
        }
      ]
    },
    {
      "cell_type": "markdown",
      "source": [
        "For arithmetic operations:"
      ],
      "metadata": {
        "id": "8JY3rKekochQ"
      }
    },
    {
      "cell_type": "code",
      "source": [
        "a = torch.ones(2,2)\n",
        "b = torch.rand(2,2)\n",
        "\n",
        "print('Before:')\n",
        "print('a:\\n', a)\n",
        "print('b:\\n', b)\n",
        "print('\\nAfter adding:')\n",
        "print('a+b:\\n', a.add_(b))\n",
        "print('a:\\n', a)\n",
        "print('b:\\n', b)\n",
        "print('\\nAfter multiplying')\n",
        "print('b*b:\\n', b.mul_(b))\n",
        "print('b:\\n', b)"
      ],
      "metadata": {
        "colab": {
          "base_uri": "https://localhost:8080/"
        },
        "id": "XbnBFM04oWn5",
        "outputId": "df8a1b3f-fcca-4f0f-ad30-4bea4b75ad07"
      },
      "execution_count": null,
      "outputs": [
        {
          "output_type": "stream",
          "name": "stdout",
          "text": [
            "Before:\n",
            "a:\n",
            " tensor([[1., 1.],\n",
            "        [1., 1.]])\n",
            "b:\n",
            " tensor([[0.7517, 0.1484],\n",
            "        [0.1227, 0.5304]])\n",
            "\n",
            "After adding:\n",
            "a+b:\n",
            " tensor([[1.7517, 1.1484],\n",
            "        [1.1227, 1.5304]])\n",
            "a:\n",
            " tensor([[1.7517, 1.1484],\n",
            "        [1.1227, 1.5304]])\n",
            "b:\n",
            " tensor([[0.7517, 0.1484],\n",
            "        [0.1227, 0.5304]])\n",
            "\n",
            "After multiplying\n",
            "b*b:\n",
            " tensor([[0.5650, 0.0220],\n",
            "        [0.0151, 0.2813]])\n",
            "b:\n",
            " tensor([[0.5650, 0.0220],\n",
            "        [0.0151, 0.2813]])\n"
          ]
        }
      ]
    },
    {
      "cell_type": "markdown",
      "source": [
        "Note that these in-place arithmetic functions are methods on the `torch.Tensor` object, not attached to the `torch` module like many other functions."
      ],
      "metadata": {
        "id": "BKvICwc2pmWA"
      }
    },
    {
      "cell_type": "markdown",
      "source": [
        "Many of the methods and functions have a `out` argument tha lets us specify a tensor to receive the output. If the `out` tensor is the correct shape and `dtype`, this can happen without a new memory allocation:"
      ],
      "metadata": {
        "id": "4dcIY85GqTfW"
      }
    },
    {
      "cell_type": "code",
      "source": [
        "a = torch.rand(2,2)\n",
        "b = torch.rand(2,2)\n",
        "c = torch.zeros(2,2)\n",
        "old_id = id(c)\n",
        "\n",
        "print(c)"
      ],
      "metadata": {
        "colab": {
          "base_uri": "https://localhost:8080/"
        },
        "id": "XVWn2sCMpSOt",
        "outputId": "4dcfedfc-953b-4976-e9ec-6565b443dda1"
      },
      "execution_count": null,
      "outputs": [
        {
          "output_type": "stream",
          "name": "stdout",
          "text": [
            "tensor([[0., 0.],\n",
            "        [0., 0.]])\n"
          ]
        }
      ]
    },
    {
      "cell_type": "code",
      "source": [
        "d = torch.matmul(a, b, out=c)\n",
        "print(c) # contents of c have changed"
      ],
      "metadata": {
        "colab": {
          "base_uri": "https://localhost:8080/"
        },
        "id": "bySNq6KquIn_",
        "outputId": "98c63748-0cdc-4609-b31a-327cece1cfef"
      },
      "execution_count": null,
      "outputs": [
        {
          "output_type": "stream",
          "name": "stdout",
          "text": [
            "tensor([[0.3869, 0.2564],\n",
            "        [0.2603, 0.4632]])\n"
          ]
        }
      ]
    },
    {
      "cell_type": "code",
      "source": [
        "assert c is d \n",
        "# test c & d are same object, not just containing equal values"
      ],
      "metadata": {
        "id": "aPiWUEMbuO7Q"
      },
      "execution_count": null,
      "outputs": []
    },
    {
      "cell_type": "code",
      "source": [
        "assert id(c), old_id\n",
        "# make sure that new c is the same object as the old one"
      ],
      "metadata": {
        "id": "SAvj6tZHubFG"
      },
      "execution_count": null,
      "outputs": []
    },
    {
      "cell_type": "code",
      "source": [
        "torch.rand(2,2, out=c) # works for creation too\n",
        "print(c)\n",
        "assert id(c), old_id   # still the same object"
      ],
      "metadata": {
        "colab": {
          "base_uri": "https://localhost:8080/"
        },
        "id": "GWX7H7Tjuhbc",
        "outputId": "54c8b27d-baee-4979-eb5f-fd334f3954e1"
      },
      "execution_count": null,
      "outputs": [
        {
          "output_type": "stream",
          "name": "stdout",
          "text": [
            "tensor([[0.3486, 0.9579],\n",
            "        [0.4075, 0.7819]])\n"
          ]
        }
      ]
    },
    {
      "cell_type": "markdown",
      "source": [
        "#Copying Tensors\n",
        "As with any object in Python, assigning a tensor to a variable makes the variable a *label* of the tensor, and does not copy it:"
      ],
      "metadata": {
        "id": "oRcnqjFLup6C"
      }
    },
    {
      "cell_type": "code",
      "source": [
        "a = torch.ones(2,2)\n",
        "b = a\n",
        "\n",
        "a[0][1] = 561\n",
        "print(b)"
      ],
      "metadata": {
        "colab": {
          "base_uri": "https://localhost:8080/"
        },
        "id": "Wca9NS7XuosH",
        "outputId": "c65535f9-2d6b-4d6d-ec96-96d257f5a4ba"
      },
      "execution_count": null,
      "outputs": [
        {
          "output_type": "stream",
          "name": "stdout",
          "text": [
            "tensor([[  1., 561.],\n",
            "        [  1.,   1.]])\n"
          ]
        }
      ]
    },
    {
      "cell_type": "markdown",
      "source": [
        "To save a separate copy, use `clone()` method:"
      ],
      "metadata": {
        "id": "KWpMGC8fvJ5p"
      }
    },
    {
      "cell_type": "code",
      "source": [
        "a = torch.ones(2,2)\n",
        "b = a.clone()\n",
        "\n",
        "assert b is not a       # different objects in memory\n",
        "print(torch.eq(a,b))    # but still with the same contents"
      ],
      "metadata": {
        "colab": {
          "base_uri": "https://localhost:8080/"
        },
        "id": "IFjl_Y5ZvIjZ",
        "outputId": "56f2de5b-7307-4e72-b04c-8e62f50be6b9"
      },
      "execution_count": null,
      "outputs": [
        {
          "output_type": "stream",
          "name": "stdout",
          "text": [
            "tensor([[True, True],\n",
            "        [True, True]])\n"
          ]
        }
      ]
    },
    {
      "cell_type": "code",
      "source": [
        "a[0][1] = 561\n",
        "print(b)        # but b is still all ones"
      ],
      "metadata": {
        "colab": {
          "base_uri": "https://localhost:8080/"
        },
        "id": "mDK_LiZ-vbmU",
        "outputId": "c0cc1e8a-b82b-4038-c9a5-70e1e18ed26d"
      },
      "execution_count": null,
      "outputs": [
        {
          "output_type": "stream",
          "name": "stdout",
          "text": [
            "tensor([[1., 1.],\n",
            "        [1., 1.]])\n"
          ]
        }
      ]
    },
    {
      "cell_type": "markdown",
      "source": [
        "NOTE: If your source tensor has autograd, enabled then so will the clone.\n",
        "\n",
        "In many cases, this will be what you want. For example, if your model has multiple computation paths in its `forward()` method, and both the original tensor and its clone contribute to the model's output, then to enable model learning we want autograd turned on for both tensors.\n",
        "\n",
        "If our source tensor has autograd enabled, then we will get the result we want.\n",
        "\n",
        "There is an exceptional case: Imagine we are performing a computation in our model's `forward()` function, where gradients are turned on for everything by default, but we want to pull out some values mid-stream to generate some metrics. In this case, we do not want the cloned copy of our source tensor to track gradients - performance is improved with autograd's hisotry tracking turned off. For this, we can use the `.detach()` method on the source tensor:"
      ],
      "metadata": {
        "id": "azDekONqwgDU"
      }
    },
    {
      "cell_type": "code",
      "source": [
        "a = torch.rand(2,2, requires_grad=True) # turn on autograd\n",
        "print(a)"
      ],
      "metadata": {
        "colab": {
          "base_uri": "https://localhost:8080/"
        },
        "id": "ykS7HSNnvgHK",
        "outputId": "a42cd496-3d54-4b21-befe-6a6f9d50dc97"
      },
      "execution_count": null,
      "outputs": [
        {
          "output_type": "stream",
          "name": "stdout",
          "text": [
            "tensor([[0.7165, 0.1768],\n",
            "        [0.0748, 0.9799]], requires_grad=True)\n"
          ]
        }
      ]
    },
    {
      "cell_type": "markdown",
      "source": [
        "* Here, we created `a` with `requires_grad=True` turned on.\n",
        "* When we print `a`, it informs us that autograd and computation hisotry tracking are turned on."
      ],
      "metadata": {
        "id": "mnKeiEWe07rj"
      }
    },
    {
      "cell_type": "code",
      "source": [
        "b = a.clone()\n",
        "print(b)"
      ],
      "metadata": {
        "colab": {
          "base_uri": "https://localhost:8080/"
        },
        "id": "arQExKpZ0wQd",
        "outputId": "b5b8c78f-f4d8-445e-86fa-1d65fa42ca4d"
      },
      "execution_count": null,
      "outputs": [
        {
          "output_type": "stream",
          "name": "stdout",
          "text": [
            "tensor([[0.7165, 0.1768],\n",
            "        [0.0748, 0.9799]], grad_fn=<CloneBackward0>)\n"
          ]
        }
      ]
    },
    {
      "cell_type": "markdown",
      "source": [
        "* We clone `a` and label it `b`.\n",
        "* When we print `b`, we can see that it is tracking its computation history - it has inherted `a`'s autograd settings, and added to the computation hisotry."
      ],
      "metadata": {
        "id": "Y_UJ6M2-1IKw"
      }
    },
    {
      "cell_type": "code",
      "source": [
        "c = a.detach().clone()\n",
        "print(c)"
      ],
      "metadata": {
        "colab": {
          "base_uri": "https://localhost:8080/"
        },
        "id": "IY2rCrwj0yvB",
        "outputId": "af1f49b3-2d55-4f2b-c284-305592634921"
      },
      "execution_count": null,
      "outputs": [
        {
          "output_type": "stream",
          "name": "stdout",
          "text": [
            "tensor([[0.7165, 0.1768],\n",
            "        [0.0748, 0.9799]])\n"
          ]
        }
      ]
    },
    {
      "cell_type": "markdown",
      "source": [
        "* We clone `a` into `c`, but calling `.detach()` first\n",
        "* Printing `c`, we see no computation hisotry and no `requires_grad=True`."
      ],
      "metadata": {
        "id": "KUuQRNk11WAd"
      }
    },
    {
      "cell_type": "markdown",
      "source": [
        "The `.detach()` method detaches the tensor from its computation history."
      ],
      "metadata": {
        "id": "BZyj88Gh1gt3"
      }
    },
    {
      "cell_type": "code",
      "source": [
        "print(a)"
      ],
      "metadata": {
        "colab": {
          "base_uri": "https://localhost:8080/"
        },
        "id": "cvoz-m2D02Xm",
        "outputId": "5f984178-af2f-4196-a545-3d94aedc857a"
      },
      "execution_count": null,
      "outputs": [
        {
          "output_type": "stream",
          "name": "stdout",
          "text": [
            "tensor([[0.7165, 0.1768],\n",
            "        [0.0748, 0.9799]], requires_grad=True)\n"
          ]
        }
      ]
    },
    {
      "cell_type": "markdown",
      "source": [
        "#Moving to GPU\n",
        "PyTorch is robust on CUDA-compatible Nvidia GPUs. (\"CUDA\" stands for Compute Unified Device Architecture\", which is Nvidia's platform for parallel computing.)"
      ],
      "metadata": {
        "id": "-196V-Cf1qbO"
      }
    },
    {
      "cell_type": "code",
      "source": [
        "if torch.cuda.is_available():\n",
        "    print('We have a GPU!')\n",
        "else:\n",
        "    print('Sorry, CPU only.')"
      ],
      "metadata": {
        "colab": {
          "base_uri": "https://localhost:8080/"
        },
        "id": "2S5ih_0403dI",
        "outputId": "bfcded35-bf1f-4ee2-b434-1c82fbb4e2ef"
      },
      "execution_count": null,
      "outputs": [
        {
          "output_type": "stream",
          "name": "stdout",
          "text": [
            "We have a GPU!\n"
          ]
        }
      ]
    },
    {
      "cell_type": "markdown",
      "source": [
        "Once GPU is available, we can put data on GPU. Whenever we want to perform a computation on a device, we must move all the data needed for that computation to memory accessible by that device.\n",
        "\n",
        "We can do this at creation time:"
      ],
      "metadata": {
        "id": "TsDEbRhE2Jgz"
      }
    },
    {
      "cell_type": "code",
      "source": [
        "if torch.cuda.is_available():\n",
        "    gpu_rand = torch.rand(2,2, device='cuda')\n",
        "    print(gpu_rand)\n",
        "else:\n",
        "    print('Sorry, CPU only')"
      ],
      "metadata": {
        "colab": {
          "base_uri": "https://localhost:8080/"
        },
        "id": "P_5vpYHT2Dp8",
        "outputId": "19cfe991-e036-437a-f97d-57f97816f2ac"
      },
      "execution_count": null,
      "outputs": [
        {
          "output_type": "stream",
          "name": "stdout",
          "text": [
            "tensor([[0.2457, 0.5791],\n",
            "        [0.0895, 0.9328]], device='cuda:0')\n"
          ]
        }
      ]
    },
    {
      "cell_type": "markdown",
      "source": [
        "By default, new tensors are created on the CPU, so we have to specify when we want to create our tensor on the GPU with the optional `device` argument.\n",
        "\n",
        "We can query the number of GPUs with `torch.cuda.device_count()`."
      ],
      "metadata": {
        "id": "Gu0IVg462qim"
      }
    },
    {
      "cell_type": "code",
      "source": [
        "if torch.cuda.is_available():\n",
        "    print(torch.cuda.device_count())\n",
        "else:\n",
        "    print('Sorry, CPU only')"
      ],
      "metadata": {
        "colab": {
          "base_uri": "https://localhost:8080/"
        },
        "id": "1OrvX2Fe3akc",
        "outputId": "3157147d-c9ff-471c-9b56-d5b68a084739"
      },
      "execution_count": null,
      "outputs": [
        {
          "output_type": "stream",
          "name": "stdout",
          "text": [
            "1\n"
          ]
        }
      ]
    },
    {
      "cell_type": "markdown",
      "source": [
        "As a coding practice, specifying our devices everywhere with string constants is pretty fragile. We can create a device handle that can be passed to our tensors instead of a string:"
      ],
      "metadata": {
        "id": "FS1PVEYw3k9e"
      }
    },
    {
      "cell_type": "code",
      "source": [
        "if torch.cuda.is_available():\n",
        "    my_device = torch.device('cuda')\n",
        "else:\n",
        "    my_device = torch.device('cpu')\n",
        "print('Device: {}'.format(my_device))\n",
        "\n",
        "x = torch.rand(2,2, device=my_device)\n",
        "print(x)"
      ],
      "metadata": {
        "colab": {
          "base_uri": "https://localhost:8080/"
        },
        "id": "Kr9uTWKd3iIR",
        "outputId": "3eabbb2e-4329-457f-a531-e36008cfca2d"
      },
      "execution_count": null,
      "outputs": [
        {
          "output_type": "stream",
          "name": "stdout",
          "text": [
            "Device: cuda\n",
            "tensor([[0.8620, 0.4889],\n",
            "        [0.6784, 0.0840]], device='cuda:0')\n"
          ]
        }
      ]
    },
    {
      "cell_type": "markdown",
      "source": [
        "If we have an existing tensor living on one device, we can move it to another with the `to()` method."
      ],
      "metadata": {
        "id": "Datg6mex4CbX"
      }
    },
    {
      "cell_type": "code",
      "source": [
        "y = torch.rand(2,2)\n",
        "y = y.to(my_device)\n",
        "print(y)"
      ],
      "metadata": {
        "colab": {
          "base_uri": "https://localhost:8080/"
        },
        "id": "tCns2d2t3_In",
        "outputId": "2eb96548-03c9-4fb6-ca93-914f555a41db"
      },
      "execution_count": null,
      "outputs": [
        {
          "output_type": "stream",
          "name": "stdout",
          "text": [
            "tensor([[0.1905, 0.7696],\n",
            "        [0.3790, 0.8259]], device='cuda:0')\n"
          ]
        }
      ]
    },
    {
      "cell_type": "markdown",
      "source": [
        "To do computation involving two or more tensors, all of the tensors must be on the same device. Otherwise, a runtime error is thrown:"
      ],
      "metadata": {
        "id": "xQv5nDJY4Orf"
      }
    },
    {
      "cell_type": "code",
      "source": [
        "x = torch.rand(2,2)\n",
        "y = torch.rand(2,2, device='gpu')\n",
        "z = x + y # exception will be thrown"
      ],
      "metadata": {
        "colab": {
          "base_uri": "https://localhost:8080/",
          "height": 270
        },
        "id": "ESZykma84OAk",
        "outputId": "b1090dc2-bccd-4229-e699-aa9d0f8a3afd"
      },
      "execution_count": null,
      "outputs": [
        {
          "output_type": "error",
          "ename": "RuntimeError",
          "evalue": "ignored",
          "traceback": [
            "\u001b[0;31m---------------------------------------------------------------------------\u001b[0m",
            "\u001b[0;31mRuntimeError\u001b[0m                              Traceback (most recent call last)",
            "\u001b[0;32m<ipython-input-7-5cd7128ca923>\u001b[0m in \u001b[0;36m<module>\u001b[0;34m()\u001b[0m\n\u001b[1;32m      1\u001b[0m \u001b[0mx\u001b[0m \u001b[0;34m=\u001b[0m \u001b[0mtorch\u001b[0m\u001b[0;34m.\u001b[0m\u001b[0mrand\u001b[0m\u001b[0;34m(\u001b[0m\u001b[0;36m2\u001b[0m\u001b[0;34m,\u001b[0m\u001b[0;36m2\u001b[0m\u001b[0;34m)\u001b[0m\u001b[0;34m\u001b[0m\u001b[0;34m\u001b[0m\u001b[0m\n\u001b[0;32m----> 2\u001b[0;31m \u001b[0my\u001b[0m \u001b[0;34m=\u001b[0m \u001b[0mtorch\u001b[0m\u001b[0;34m.\u001b[0m\u001b[0mrand\u001b[0m\u001b[0;34m(\u001b[0m\u001b[0;36m2\u001b[0m\u001b[0;34m,\u001b[0m\u001b[0;36m2\u001b[0m\u001b[0;34m,\u001b[0m \u001b[0mdevice\u001b[0m\u001b[0;34m=\u001b[0m\u001b[0;34m'gpu'\u001b[0m\u001b[0;34m)\u001b[0m\u001b[0;34m\u001b[0m\u001b[0;34m\u001b[0m\u001b[0m\n\u001b[0m\u001b[1;32m      3\u001b[0m \u001b[0mz\u001b[0m \u001b[0;34m=\u001b[0m \u001b[0mx\u001b[0m \u001b[0;34m+\u001b[0m \u001b[0my\u001b[0m \u001b[0;31m# exception will be thrown\u001b[0m\u001b[0;34m\u001b[0m\u001b[0;34m\u001b[0m\u001b[0m\n",
            "\u001b[0;31mRuntimeError\u001b[0m: Expected one of cpu, cuda, xpu, mkldnn, opengl, opencl, ideep, hip, ve, ort, mlc, xla, lazy, vulkan, meta, hpu device type at start of device string: gpu"
          ]
        }
      ]
    },
    {
      "cell_type": "markdown",
      "source": [
        "#Changing the Number of Dimensions\n",
        "PyTorch generally expect batches of input so we may need to change the dimensions when we pass a single instance of input to the model.\n",
        "\n",
        "For example, imagine having a model that works on 3x226x226 images. When we load and transform it, we get a tensor of shape `(3, 226, 226)`. Our model, though, is expecting input of shape `(N, 3, 226, 226)`, where `N` is the number of images in the batch."
      ],
      "metadata": {
        "id": "l5BlPqhJ4mge"
      }
    },
    {
      "cell_type": "code",
      "source": [
        "a = torch.rand(3, 226, 226)\n",
        "b = a.unsqueeze(0)\n",
        "\n",
        "print('Shape of a:')\n",
        "print(a.shape)\n",
        "print('\\nShape of b:')\n",
        "print(b.shape)"
      ],
      "metadata": {
        "colab": {
          "base_uri": "https://localhost:8080/"
        },
        "id": "4nF9sfvS4dR_",
        "outputId": "b8da270a-bdd6-46c8-91e9-a5df552d9b1d"
      },
      "execution_count": null,
      "outputs": [
        {
          "output_type": "stream",
          "name": "stdout",
          "text": [
            "Shape of a:\n",
            "torch.Size([3, 226, 226])\n",
            "\n",
            "Shape of b:\n",
            "torch.Size([1, 3, 226, 226])\n"
          ]
        }
      ]
    },
    {
      "cell_type": "markdown",
      "source": [
        "The `unsqueeze()` method adds a dimension of extent 1. `unsqueeze(0)` adds it as a new zeroth dimension.\n",
        "\n",
        "Any dimension of extent 1 does not change the number of elements in the tensor:"
      ],
      "metadata": {
        "id": "9YOZ7T2q5aG3"
      }
    },
    {
      "cell_type": "code",
      "source": [
        "c = torch.rand(1,1,1,1,1)\n",
        "print(c)\n",
        "print(c.shape)"
      ],
      "metadata": {
        "colab": {
          "base_uri": "https://localhost:8080/"
        },
        "id": "g2InWREd5YB7",
        "outputId": "e684a924-313e-4906-8f34-5f1cb078c7c0"
      },
      "execution_count": null,
      "outputs": [
        {
          "output_type": "stream",
          "name": "stdout",
          "text": [
            "tensor([[[[[0.3852]]]]])\n",
            "torch.Size([1, 1, 1, 1, 1])\n"
          ]
        }
      ]
    },
    {
      "cell_type": "markdown",
      "source": [
        "If the model output is a 20-element vector for each input, we expect the output to have shape `(N, 20)`, where `N` is the number of instances in the input batch. For a single-input batch, we get an output of shape `(1, 20)`."
      ],
      "metadata": {
        "id": "SxahQzNj5yrg"
      }
    },
    {
      "cell_type": "code",
      "source": [
        "a = torch.rand(1, 20)\n",
        "print(a.shape)\n",
        "print(a)"
      ],
      "metadata": {
        "colab": {
          "base_uri": "https://localhost:8080/"
        },
        "id": "75n_JiPf5w9K",
        "outputId": "13b24404-4383-42cf-bccb-620fb382c137"
      },
      "execution_count": null,
      "outputs": [
        {
          "output_type": "stream",
          "name": "stdout",
          "text": [
            "torch.Size([1, 20])\n",
            "tensor([[0.5901, 0.9794, 0.8320, 0.0432, 0.8902, 0.2500, 0.8457, 0.9606, 0.1602,\n",
            "         0.0629, 0.3874, 0.4036, 0.4176, 0.2175, 0.6039, 0.0071, 0.7547, 0.9400,\n",
            "         0.0295, 0.6803]])\n"
          ]
        }
      ]
    },
    {
      "cell_type": "code",
      "source": [
        "b = a.squeeze(0)\n",
        "print(b.shape)\n",
        "print(b)"
      ],
      "metadata": {
        "colab": {
          "base_uri": "https://localhost:8080/"
        },
        "id": "l2aRvlZR6QU2",
        "outputId": "c2152fdb-0f5d-49df-b531-64b069ad22e6"
      },
      "execution_count": null,
      "outputs": [
        {
          "output_type": "stream",
          "name": "stdout",
          "text": [
            "torch.Size([20])\n",
            "tensor([0.5901, 0.9794, 0.8320, 0.0432, 0.8902, 0.2500, 0.8457, 0.9606, 0.1602,\n",
            "        0.0629, 0.3874, 0.4036, 0.4176, 0.2175, 0.6039, 0.0071, 0.7547, 0.9400,\n",
            "        0.0295, 0.6803])\n"
          ]
        }
      ]
    },
    {
      "cell_type": "code",
      "source": [
        "c = torch.rand(2, 2)\n",
        "print(c.shape)\n",
        "print(c)"
      ],
      "metadata": {
        "colab": {
          "base_uri": "https://localhost:8080/"
        },
        "id": "jSqQ2tCM6TRX",
        "outputId": "7d064d64-bfd8-41a4-a07e-1b23d047d911"
      },
      "execution_count": null,
      "outputs": [
        {
          "output_type": "stream",
          "name": "stdout",
          "text": [
            "torch.Size([2, 2])\n",
            "tensor([[0.3590, 0.4314],\n",
            "        [0.9649, 0.9728]])\n"
          ]
        }
      ]
    },
    {
      "cell_type": "code",
      "source": [
        "d = c.squeeze(0)\n",
        "print(d.shape)\n",
        "print(d)"
      ],
      "metadata": {
        "colab": {
          "base_uri": "https://localhost:8080/"
        },
        "id": "wy3tNw1I6WAe",
        "outputId": "608c156f-8844-4073-cd11-db823685374a"
      },
      "execution_count": null,
      "outputs": [
        {
          "output_type": "stream",
          "name": "stdout",
          "text": [
            "torch.Size([2, 2])\n",
            "tensor([[0.3590, 0.4314],\n",
            "        [0.9649, 0.9728]])\n"
          ]
        }
      ]
    },
    {
      "cell_type": "markdown",
      "source": [
        "Another place we may use `unsqueeze()` is to ease broadcasting."
      ],
      "metadata": {
        "id": "1TFhgb4d6jTM"
      }
    },
    {
      "cell_type": "code",
      "source": [
        "a =     torch.ones(4, 3, 2)\n",
        "c = a * torch.rand(   3, 1) # 3rd dim = 1, 2nd dim identical to a\n",
        "print(c)"
      ],
      "metadata": {
        "colab": {
          "base_uri": "https://localhost:8080/"
        },
        "id": "epAwlpl36Yw9",
        "outputId": "8954caf9-d614-43eb-f2d8-f10d42961b06"
      },
      "execution_count": null,
      "outputs": [
        {
          "output_type": "stream",
          "name": "stdout",
          "text": [
            "tensor([[[0.6835, 0.6835],\n",
            "         [0.1502, 0.1502],\n",
            "         [0.9035, 0.9035]],\n",
            "\n",
            "        [[0.6835, 0.6835],\n",
            "         [0.1502, 0.1502],\n",
            "         [0.9035, 0.9035]],\n",
            "\n",
            "        [[0.6835, 0.6835],\n",
            "         [0.1502, 0.1502],\n",
            "         [0.9035, 0.9035]],\n",
            "\n",
            "        [[0.6835, 0.6835],\n",
            "         [0.1502, 0.1502],\n",
            "         [0.9035, 0.9035]]])\n"
          ]
        }
      ]
    },
    {
      "cell_type": "markdown",
      "source": [
        "The overall effect of that was to broadcast the operation over dimensions 0 and 2, causing the random, 3x1 tensor to be multiplied element-wse by every 3-element column in `a`.\n",
        "\n",
        "If the random vector had just been 3-element vector, we cannot use broadcasting, because the final dimensions would not match up according to the broadcasting rules. Thus, `unsqueeze()` comes to the rescue:"
      ],
      "metadata": {
        "id": "kyamhWJu6yEw"
      }
    },
    {
      "cell_type": "code",
      "source": [
        "a = torch.ones(4, 3, 2)\n",
        "b = torch.rand(   3)        # try to multiply a*b will give a runtime error\n",
        "c = b.unsqueeze(1)          # change to a 2D tensor, adding new dim at the end\n",
        "print(c.shape)\n",
        "print(a * c)                # broadcasting works again"
      ],
      "metadata": {
        "colab": {
          "base_uri": "https://localhost:8080/"
        },
        "id": "jvBCioNX6wws",
        "outputId": "c224f3c2-72f8-4146-b423-180ba17856e5"
      },
      "execution_count": null,
      "outputs": [
        {
          "output_type": "stream",
          "name": "stdout",
          "text": [
            "torch.Size([3, 1])\n",
            "tensor([[[0.6546, 0.6546],\n",
            "         [0.8733, 0.8733],\n",
            "         [0.2461, 0.2461]],\n",
            "\n",
            "        [[0.6546, 0.6546],\n",
            "         [0.8733, 0.8733],\n",
            "         [0.2461, 0.2461]],\n",
            "\n",
            "        [[0.6546, 0.6546],\n",
            "         [0.8733, 0.8733],\n",
            "         [0.2461, 0.2461]],\n",
            "\n",
            "        [[0.6546, 0.6546],\n",
            "         [0.8733, 0.8733],\n",
            "         [0.2461, 0.2461]]])\n"
          ]
        }
      ]
    },
    {
      "cell_type": "markdown",
      "source": [
        "The `squeeze()` and `unsqueeze()` methods also have in-place versions:"
      ],
      "metadata": {
        "id": "DaPAZ6X67lLI"
      }
    },
    {
      "cell_type": "code",
      "source": [
        "batch_me = torch.rand(3, 226, 226)\n",
        "print(batch_me.shape)"
      ],
      "metadata": {
        "colab": {
          "base_uri": "https://localhost:8080/"
        },
        "id": "o-0gp8Ni7hQA",
        "outputId": "6f9f81c4-361c-4a6a-f679-939b98dc2f6f"
      },
      "execution_count": null,
      "outputs": [
        {
          "output_type": "stream",
          "name": "stdout",
          "text": [
            "torch.Size([3, 226, 226])\n"
          ]
        }
      ]
    },
    {
      "cell_type": "code",
      "source": [
        "batch_me.unsqueeze_(0)\n",
        "print(batch_me.shape)"
      ],
      "metadata": {
        "colab": {
          "base_uri": "https://localhost:8080/"
        },
        "id": "fRQC0mMp7svT",
        "outputId": "6a62efdb-92f6-4bea-b86f-9aa66c9e71c0"
      },
      "execution_count": null,
      "outputs": [
        {
          "output_type": "stream",
          "name": "stdout",
          "text": [
            "torch.Size([1, 3, 226, 226])\n"
          ]
        }
      ]
    },
    {
      "cell_type": "markdown",
      "source": [
        "Sometimes we want to change the shape of a tensor more radically, while still preserving the number of elements and their contents. This happens at the interface between a convolutional layer of a model and a linear layer.\n",
        "\n",
        "A convolution kernel will yield an output tensor of shape *features x width x height*, but the following linear layer expects a 1-dimensional input. `reshape()` will do this for us, provided that the dimensions you request yield the same number of elements as the input tensor has:"
      ],
      "metadata": {
        "id": "aL6LOmK_EMtF"
      }
    },
    {
      "cell_type": "code",
      "source": [
        "output3d = torch.rand(6, 20, 20)\n",
        "print(output3d.shape)"
      ],
      "metadata": {
        "colab": {
          "base_uri": "https://localhost:8080/"
        },
        "id": "QuaGLQAg7wwj",
        "outputId": "7826a460-69a6-4ebe-b35f-169dca2d111a"
      },
      "execution_count": null,
      "outputs": [
        {
          "output_type": "stream",
          "name": "stdout",
          "text": [
            "torch.Size([6, 20, 20])\n"
          ]
        }
      ]
    },
    {
      "cell_type": "code",
      "source": [
        "input1d = output3d.reshape(6*20*20)\n",
        "print(input1d.shape)"
      ],
      "metadata": {
        "colab": {
          "base_uri": "https://localhost:8080/"
        },
        "id": "v-4yR8iKExGv",
        "outputId": "bd32314e-6f01-43bc-8f2a-fb2177411ba0"
      },
      "execution_count": null,
      "outputs": [
        {
          "output_type": "stream",
          "name": "stdout",
          "text": [
            "torch.Size([2400])\n"
          ]
        }
      ]
    },
    {
      "cell_type": "code",
      "source": [
        "# can also call it as a method on the torch module:\n",
        "print(torch.reshape(output3d, (6*20*20,)).shape)"
      ],
      "metadata": {
        "colab": {
          "base_uri": "https://localhost:8080/"
        },
        "id": "dZVQGX5jE2O3",
        "outputId": "ec8127bd-812c-49e4-ec2f-34e98b349bec"
      },
      "execution_count": null,
      "outputs": [
        {
          "output_type": "stream",
          "name": "stdout",
          "text": [
            "torch.Size([2400])\n"
          ]
        }
      ]
    },
    {
      "cell_type": "markdown",
      "source": [
        "#NumPy Bridge"
      ],
      "metadata": {
        "id": "pSUNKnojFIiC"
      }
    },
    {
      "cell_type": "code",
      "source": [
        "import numpy as np"
      ],
      "metadata": {
        "id": "x1me6sSQE86z"
      },
      "execution_count": null,
      "outputs": []
    },
    {
      "cell_type": "code",
      "source": [
        "numpy_array = np.ones((2,3))\n",
        "print(numpy_array)"
      ],
      "metadata": {
        "colab": {
          "base_uri": "https://localhost:8080/"
        },
        "id": "Zz2ODTRhFRGx",
        "outputId": "7f2a6eb8-63e4-4e52-f5cd-a9c9c4adaa66"
      },
      "execution_count": null,
      "outputs": [
        {
          "output_type": "stream",
          "name": "stdout",
          "text": [
            "[[1. 1. 1.]\n",
            " [1. 1. 1.]]\n"
          ]
        }
      ]
    },
    {
      "cell_type": "code",
      "source": [
        "pytorch_tensor = torch.from_numpy(numpy_array)\n",
        "print(pytorch_tensor)"
      ],
      "metadata": {
        "colab": {
          "base_uri": "https://localhost:8080/"
        },
        "id": "IdQvY-2JFT_I",
        "outputId": "0780030a-fa86-4e10-8278-9232533cccd5"
      },
      "execution_count": null,
      "outputs": [
        {
          "output_type": "stream",
          "name": "stdout",
          "text": [
            "tensor([[1., 1., 1.],\n",
            "        [1., 1., 1.]], dtype=torch.float64)\n"
          ]
        }
      ]
    },
    {
      "cell_type": "code",
      "source": [
        "pytorch_rand = torch.rand(2,3)\n",
        "print(pytorch_rand)\n",
        "\n",
        "numpy_rand = pytorch_rand.numpy()\n",
        "print(numpy_rand)"
      ],
      "metadata": {
        "colab": {
          "base_uri": "https://localhost:8080/"
        },
        "id": "i0vLVvi_FZEO",
        "outputId": "662b14d8-3167-4bf8-8594-c25ce4596d26"
      },
      "execution_count": null,
      "outputs": [
        {
          "output_type": "stream",
          "name": "stdout",
          "text": [
            "tensor([[0.8753, 0.1445, 0.1919],\n",
            "        [0.8524, 0.6418, 0.7399]])\n",
            "[[0.8753493  0.14447767 0.19185531]\n",
            " [0.85236156 0.6417764  0.7398762 ]]\n"
          ]
        }
      ]
    },
    {
      "cell_type": "markdown",
      "source": [
        "These converted objects are using the same underlying memory as their source objects, meaning that changes to one are reflected in the other:"
      ],
      "metadata": {
        "id": "GLYfJfO-FkXk"
      }
    },
    {
      "cell_type": "code",
      "source": [
        "numpy_array[1,1] = 23\n",
        "print(pytorch_tensor)"
      ],
      "metadata": {
        "colab": {
          "base_uri": "https://localhost:8080/"
        },
        "id": "qqXqmpeoFiWF",
        "outputId": "a7ac7a22-4b8a-4320-b35a-77ec4ec17b0d"
      },
      "execution_count": null,
      "outputs": [
        {
          "output_type": "stream",
          "name": "stdout",
          "text": [
            "tensor([[ 1.,  1.,  1.],\n",
            "        [ 1., 23.,  1.]], dtype=torch.float64)\n"
          ]
        }
      ]
    },
    {
      "cell_type": "code",
      "source": [
        "pytorch_rand[1,1] = 17\n",
        "print(numpy_rand)"
      ],
      "metadata": {
        "id": "KTHqkkkdFsrS",
        "outputId": "32e5e73d-8de2-416b-8023-048a4cb8fb0f",
        "colab": {
          "base_uri": "https://localhost:8080/"
        }
      },
      "execution_count": null,
      "outputs": [
        {
          "output_type": "stream",
          "name": "stdout",
          "text": [
            "[[ 0.8753493   0.14447767  0.19185531]\n",
            " [ 0.85236156 17.          0.7398762 ]]\n"
          ]
        }
      ]
    },
    {
      "cell_type": "code",
      "source": [
        ""
      ],
      "metadata": {
        "id": "3zTS84HLFwaC"
      },
      "execution_count": null,
      "outputs": []
    }
  ]
}